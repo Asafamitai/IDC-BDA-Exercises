{
 "cells": [
  {
   "cell_type": "markdown",
   "metadata": {},
   "source": [
    "### Business Data Analytics and Prediction\n",
    "*Dr. Gilli Shama*\n",
    "\n",
    "## Lesson 1.3 Look into the data: Explore, and prepare data for ML \n",
    "\n",
    "In lesson 2 we performed a machine leanring project end to end. In this lesson we will expand the parts of data preparation and exploratory data analytics (EDA). We will look into the data, explore it and we will prepare it for machine learning modeling.\n",
    "\n",
    "As before, we have all imports on the top:\n",
    "* In this lesson we will use pandas to read and manipulate data\n",
    "* We will use matplotlib to visualize the data, which we encountered in lesson 2.\n",
    "* In this lesson we will use a new library: seaborn, which gives some advanced graphical capabilities.\n",
    "* We will import functions from sklearn to prepare data for machine learning\n",
    "* We will transform our data to a numpy array for further modeling on next lessons"
   ]
  },
  {
   "cell_type": "code",
   "execution_count": 2,
   "metadata": {},
   "outputs": [],
   "source": [
    "import pandas as pd \n",
    "import numpy as np  \n",
    "import matplotlib.pyplot as plt \n",
    "%matplotlib inline \n",
    "import seaborn as sns\n",
    "\n",
    "from sklearn.preprocessing import OneHotEncoder\n",
    "from sklearn.preprocessing import StandardScaler\n",
    "from sklearn.model_selection import train_test_split"
   ]
  },
  {
   "cell_type": "markdown",
   "metadata": {},
   "source": [
    "### 1. Basic data exploration\n",
    "\n",
    "#### 1.1. Download and read the data\n",
    "\n",
    "The business analytics concepts and code will be demonstrated on HR data of employees attrition, evaluation and satisfaction: https://www.kaggle.com/ludobenistant/hr-analytics. Download the csv file from the link above, to your local folder, under a folder called Data."
   ]
  },
  {
   "cell_type": "code",
   "execution_count": 11,
   "metadata": {},
   "outputs": [
    {
     "name": "stderr",
     "output_type": "stream",
     "text": [
      "b'Skipping line 75: expected 1 fields, saw 4\\nSkipping line 123: expected 1 fields, saw 3\\nSkipping line 142: expected 1 fields, saw 4\\nSkipping line 146: expected 1 fields, saw 2\\nSkipping line 148: expected 1 fields, saw 2\\nSkipping line 149: expected 1 fields, saw 2\\nSkipping line 150: expected 1 fields, saw 2\\nSkipping line 151: expected 1 fields, saw 2\\nSkipping line 152: expected 1 fields, saw 2\\nSkipping line 153: expected 1 fields, saw 2\\nSkipping line 154: expected 1 fields, saw 2\\nSkipping line 158: expected 1 fields, saw 2\\nSkipping line 159: expected 1 fields, saw 2\\nSkipping line 165: expected 1 fields, saw 2\\nSkipping line 173: expected 1 fields, saw 4\\nSkipping line 179: expected 1 fields, saw 2\\nSkipping line 184: expected 1 fields, saw 2\\nSkipping line 185: expected 1 fields, saw 2\\nSkipping line 186: expected 1 fields, saw 2\\nSkipping line 187: expected 1 fields, saw 2\\nSkipping line 188: expected 1 fields, saw 2\\nSkipping line 193: expected 1 fields, saw 2\\nSkipping line 194: expected 1 fields, saw 2\\nSkipping line 195: expected 1 fields, saw 2\\nSkipping line 202: expected 1 fields, saw 2\\nSkipping line 210: expected 1 fields, saw 4\\nSkipping line 215: expected 1 fields, saw 2\\nSkipping line 218: expected 1 fields, saw 2\\nSkipping line 219: expected 1 fields, saw 2\\nSkipping line 223: expected 1 fields, saw 2\\nSkipping line 224: expected 1 fields, saw 2\\nSkipping line 246: expected 1 fields, saw 2\\nSkipping line 381: expected 1 fields, saw 3\\nSkipping line 382: expected 1 fields, saw 3\\nSkipping line 531: expected 1 fields, saw 3\\nSkipping line 535: expected 1 fields, saw 3\\nSkipping line 536: expected 1 fields, saw 3\\nSkipping line 668: expected 1 fields, saw 2\\nSkipping line 700: expected 1 fields, saw 2\\nSkipping line 701: expected 1 fields, saw 3\\nSkipping line 702: expected 1 fields, saw 3\\nSkipping line 703: expected 1 fields, saw 3\\nSkipping line 704: expected 1 fields, saw 3\\nSkipping line 705: expected 1 fields, saw 3\\nSkipping line 712: expected 1 fields, saw 3\\nSkipping line 713: expected 1 fields, saw 3\\nSkipping line 714: expected 1 fields, saw 3\\nSkipping line 715: expected 1 fields, saw 3\\nSkipping line 716: expected 1 fields, saw 3\\nSkipping line 717: expected 1 fields, saw 3\\n'\n"
     ]
    },
    {
     "data": {
      "text/html": [
       "<div>\n",
       "<style scoped>\n",
       "    .dataframe tbody tr th:only-of-type {\n",
       "        vertical-align: middle;\n",
       "    }\n",
       "\n",
       "    .dataframe tbody tr th {\n",
       "        vertical-align: top;\n",
       "    }\n",
       "\n",
       "    .dataframe thead th {\n",
       "        text-align: right;\n",
       "    }\n",
       "</style>\n",
       "<table border=\"1\" class=\"dataframe\">\n",
       "  <thead>\n",
       "    <tr style=\"text-align: right;\">\n",
       "      <th></th>\n",
       "      <th>&lt;!DOCTYPE html&gt;</th>\n",
       "    </tr>\n",
       "  </thead>\n",
       "  <tbody>\n",
       "    <tr>\n",
       "      <th>0</th>\n",
       "      <td>&lt;html lang=\"en\"&gt;</td>\n",
       "    </tr>\n",
       "    <tr>\n",
       "      <th>1</th>\n",
       "      <td>&lt;head&gt;</td>\n",
       "    </tr>\n",
       "    <tr>\n",
       "      <th>2</th>\n",
       "      <td>&lt;meta charset=\"utf-8\"&gt;</td>\n",
       "    </tr>\n",
       "    <tr>\n",
       "      <th>3</th>\n",
       "      <td>&lt;link rel=\"dns-prefetch\" href=\"https://githu...</td>\n",
       "    </tr>\n",
       "    <tr>\n",
       "      <th>4</th>\n",
       "      <td>&lt;link rel=\"dns-prefetch\" href=\"https://avata...</td>\n",
       "    </tr>\n",
       "  </tbody>\n",
       "</table>\n",
       "</div>"
      ],
      "text/plain": [
       "                                     <!DOCTYPE html>\n",
       "0                                   <html lang=\"en\">\n",
       "1                                             <head>\n",
       "2                             <meta charset=\"utf-8\">\n",
       "3    <link rel=\"dns-prefetch\" href=\"https://githu...\n",
       "4    <link rel=\"dns-prefetch\" href=\"https://avata..."
      ]
     },
     "execution_count": 11,
     "metadata": {},
     "output_type": "execute_result"
    }
   ],
   "source": [
    "df = pd.read_csv(url, error_bad_lines=False) \n",
    "df.head()\n",
    "#For Windows users: Add the letter r before the path, to keep the copied path\n",
    "# Change the file to your downloaded location and name.  "
   ]
  },
  {
   "cell_type": "code",
   "execution_count": 3,
   "metadata": {},
   "outputs": [],
   "source": [
    "dfm = pd.read_csv(r\"..\\Data\\trip.csv\")"
   ]
  },
  {
   "cell_type": "markdown",
   "metadata": {},
   "source": [
    "#### 1.2. Take a quick look on the data \n",
    "\n",
    "Use the head, info function to get a sense of your data."
   ]
  },
  {
   "cell_type": "code",
   "execution_count": null,
   "metadata": {},
   "outputs": [],
   "source": [
    "df.head()"
   ]
  },
  {
   "cell_type": "code",
   "execution_count": null,
   "metadata": {},
   "outputs": [],
   "source": [
    "dfm.head()"
   ]
  },
  {
   "cell_type": "code",
   "execution_count": null,
   "metadata": {},
   "outputs": [],
   "source": [
    "df.info()"
   ]
  },
  {
   "cell_type": "markdown",
   "metadata": {},
   "source": [
    "There are 10 features: 8 numeric and 2 categorical.\n",
    "\n",
    "The describe function is applied to numeric features only: "
   ]
  },
  {
   "cell_type": "code",
   "execution_count": null,
   "metadata": {},
   "outputs": [],
   "source": [
    "df.describe()"
   ]
  },
  {
   "cell_type": "code",
   "execution_count": null,
   "metadata": {},
   "outputs": [],
   "source": [
    "dfm.describe()"
   ]
  },
  {
   "cell_type": "markdown",
   "metadata": {},
   "source": [
    "For categrical variables use value_counts function:"
   ]
  },
  {
   "cell_type": "code",
   "execution_count": null,
   "metadata": {},
   "outputs": [],
   "source": [
    "df[\"sales\"].value_counts()"
   ]
  },
  {
   "cell_type": "code",
   "execution_count": null,
   "metadata": {},
   "outputs": [],
   "source": [
    "dfm[\"start_station_name\"].value_counts()"
   ]
  },
  {
   "cell_type": "code",
   "execution_count": null,
   "metadata": {},
   "outputs": [],
   "source": [
    "dfm[\"end_station_name\"].value_counts()"
   ]
  },
  {
   "cell_type": "code",
   "execution_count": null,
   "metadata": {},
   "outputs": [],
   "source": [
    "df[\"salary\"].value_counts()"
   ]
  },
  {
   "cell_type": "markdown",
   "metadata": {},
   "source": [
    "#### 1.3. Identify missing data\n",
    "To identify missing values you can look on the describe function results, or to use the direct functions isna and isnull, with sum."
   ]
  },
  {
   "cell_type": "code",
   "execution_count": null,
   "metadata": {},
   "outputs": [],
   "source": [
    "dfm.isnull().sum()"
   ]
  },
  {
   "cell_type": "markdown",
   "metadata": {},
   "source": [
    "#### 1.4. Handle missing data\n",
    "In our example there are no missing values. if you find on your project missing values you need to clean them by one of the following ways:"
   ]
  },
  {
   "cell_type": "markdown",
   "metadata": {},
   "source": [
    "##### 1.4.1 Drop the samples (rows) with missing values"
   ]
  },
  {
   "cell_type": "code",
   "execution_count": null,
   "metadata": {},
   "outputs": [],
   "source": [
    "df = df.dropna() # Drop all rows that have a missing value\n",
    "df = df[df['promotion_last_5years'] != -1] # If we would have missing on the promotion column marked with -1, then this drops the rows with such missing\n",
    "df"
   ]
  },
  {
   "cell_type": "code",
   "execution_count": null,
   "metadata": {},
   "outputs": [],
   "source": []
  },
  {
   "cell_type": "markdown",
   "metadata": {},
   "source": [
    "##### 1.4.2 Drop the features (columns) with missing values"
   ]
  },
  {
   "cell_type": "code",
   "execution_count": null,
   "metadata": {},
   "outputs": [],
   "source": [
    "# df = df.drop('column_name', axis = 1)   # This drops a specific column in ''\n",
    "\n",
    "df = df.dropna(axis = 1) # Drop all columns with a missing value. axis=0 means rows and axis =1 is colmns. \n",
    "df = df.dropna(axis = 1, how ='all')  # Drop only columns with all values missing add: how='all'"
   ]
  },
  {
   "cell_type": "markdown",
   "metadata": {},
   "source": [
    "##### 1.4.3 Fill the missing with values"
   ]
  },
  {
   "cell_type": "code",
   "execution_count": null,
   "metadata": {},
   "outputs": [],
   "source": [
    "df = df.fillna(value = df.mean()) #Value can be also specified. "
   ]
  },
  {
   "cell_type": "code",
   "execution_count": null,
   "metadata": {},
   "outputs": [],
   "source": [
    "dfm = dfm.fillna(value = \"0\") #Value can be also specified. \n",
    "dfm.isnull().sum()"
   ]
  },
  {
   "cell_type": "markdown",
   "metadata": {},
   "source": [
    "#### 1.5 End the basic handling\n",
    "\n",
    "After you handled the missing values in one of the ways above, note to look on the data again, and check again if there are any missing values left."
   ]
  },
  {
   "cell_type": "code",
   "execution_count": null,
   "metadata": {},
   "outputs": [],
   "source": [
    "df.info()"
   ]
  },
  {
   "cell_type": "markdown",
   "metadata": {},
   "source": [
    "### 2. Explore categorical feature\n",
    "\n",
    "In this section we will explore each categorical feature independently. The target of this exploration is to prepare each feature for next exploration and modeling. We will go through the following activities:\n",
    "1. View categorical data with bar plots\n",
    "2. Encode categorical data as integer"
   ]
  },
  {
   "cell_type": "markdown",
   "metadata": {},
   "source": [
    "#### 2.1.  View categorical data \n",
    "\n",
    "Categorical data can be viewed by its value counts. This includes: vertical bars, horizontal bars, and pie charts. \n",
    "\n",
    "##### 2.1.1 seaborn library\n",
    "\n",
    "Below plots of vertical and horizontal bars are in seaborn, which is much easier to program than matplotlib.\n",
    "\n",
    "You just need to use the countplot function and give it the data frame and the column to plot."
   ]
  },
  {
   "cell_type": "markdown",
   "metadata": {},
   "source": [
    "sns = קיצור ל seaborn שעושה גרפים"
   ]
  },
  {
   "cell_type": "code",
   "execution_count": 5,
   "metadata": {},
   "outputs": [
    {
     "data": {
      "text/plain": [
       "<matplotlib.axes._subplots.AxesSubplot at 0x242c87e4a90>"
      ]
     },
     "execution_count": 5,
     "metadata": {},
     "output_type": "execute_result"
    },
    {
     "data": {
      "image/png": "[encoded data removed]",
      "text/plain": [
       "<Figure size 432x288 with 1 Axes>"
      ]
     },
     "metadata": {},
     "output_type": "display_data"
    }
   ],
   "source": [
    "sns.countplot(x='salary', data=df)"
   ]
  },
  {
   "cell_type": "code",
   "execution_count": 4,
   "metadata": {},
   "outputs": [
    {
     "data": {
      "text/plain": [
       "<matplotlib.axes._subplots.AxesSubplot at 0x242c59e1278>"
      ]
     },
     "execution_count": 4,
     "metadata": {},
     "output_type": "execute_result"
    },
    {
     "data": {
      "image/png": "[encoded data removed]",
      "text/plain": [
       "<Figure size 432x288 with 1 Axes>"
      ]
     },
     "metadata": {},
     "output_type": "display_data"
    }
   ],
   "source": [
    "sns.countplot(x='start_station_name', data=dfm)"
   ]
  },
  {
   "cell_type": "code",
   "execution_count": null,
   "metadata": {},
   "outputs": [],
   "source": [
    "sns.countplot(x='duration', data=dfm)"
   ]
  },
  {
   "cell_type": "markdown",
   "metadata": {},
   "source": [
    "hue = split"
   ]
  },
  {
   "cell_type": "code",
   "execution_count": null,
   "metadata": {},
   "outputs": [],
   "source": [
    "sns.countplot(y='sales', data=df, color='blue',hue = 'left')"
   ]
  },
  {
   "cell_type": "code",
   "execution_count": null,
   "metadata": {},
   "outputs": [],
   "source": []
  },
  {
   "cell_type": "markdown",
   "metadata": {},
   "source": [
    "##### 2.1.2.  matplot lib\n",
    "\n",
    "Below is a pie chart is in matplotlib.\n",
    "You need to deine the figure and the pie is a subplot in it. \n",
    "You need to take care to extract the values and the labels for the chart's parts.\n",
    "\n",
    "For bar plots in matplotlib see: \n",
    "* https://medium.com/python-pandemonium/data-visualization-in-python-bar-graph-in-matplotlib-f1738602e9c4 \n",
    "* https://matplotlib.org/api/_as_gen/matplotlib.pyplot.bar.html \n"
   ]
  },
  {
   "cell_type": "code",
   "execution_count": null,
   "metadata": {},
   "outputs": [],
   "source": [
    "fig1, ax1 = plt.subplots()\n",
    "\n",
    "slices = df[\"sales\"].value_counts()\n",
    "labels = slices.index\n",
    "ax1.pie(slices, autopct='%1.1f%%', labels=labels)\n",
    "ax1.axis('equal')  # Equal aspect ratio ensures that pie is drawn as a circle.\n",
    "\n",
    "plt.show()"
   ]
  },
  {
   "cell_type": "code",
   "execution_count": null,
   "metadata": {},
   "outputs": [],
   "source": [
    "fig1, ax1 = plt.subplots()\n",
    "\n",
    "slices = dfm[\"start_station_name\"].value_counts()\n",
    "labels = slices.index\n",
    "ax1.pie(slices, autopct='%1.1f%%', labels=labels)\n",
    "ax1.axis('equal')  # Equal aspect ratio ensures that pie is drawn as a circle.\n",
    "\n",
    "plt.show()"
   ]
  },
  {
   "cell_type": "markdown",
   "metadata": {},
   "source": [
    "#### 2.2 Encode categorical features as integer\n",
    "Categorical variables need to be transformed to an integer, as sklearn works with numeric data only.\n"
   ]
  },
  {
   "cell_type": "markdown",
   "metadata": {},
   "source": [
    "##### 2.2.1 Encode ordinal feature\n",
    "We can define a dictionary that maps each ordinal value to a numerical value, and then use the function \"map\" as shown below, or use the function \"replace\" as shown in: http://pbpython.com/categorical-encoding.html ."
   ]
  },
  {
   "cell_type": "code",
   "execution_count": null,
   "metadata": {},
   "outputs": [],
   "source": [
    "salary_map = {'low':0, 'medium':1, 'high':2}  #Define the mapping as a dictionary\n",
    "df[\"salary\"] =  df[\"salary\"].map(salary_map)\n",
    "df.info()"
   ]
  },
  {
   "cell_type": "code",
   "execution_count": null,
   "metadata": {},
   "outputs": [],
   "source": [
    "sns.countplot(x='salary', data=df)"
   ]
  },
  {
   "cell_type": "markdown",
   "metadata": {},
   "source": [
    "##### 2.2.2 Encoding of nominal features\n",
    "We now wish to encode the \"sales\" column. The \"sales\" column has the following 10 values:\n",
    "* 'sales':0, 'accounting':1, 'hr':2, 'technical':3, 'support':4, 'management':5, 'IT':6, 'product_mng':7, 'marketing':8, 'RandD':9\n",
    "\n",
    "\n",
    "To encode the feature we can define a feature per each variable. However, manual one by one change is not recomended, as the categorical column may have large or changing number of values. There are many methods to encode the features automaticaly. As we learn now the pandat package, we will use its method 'get_dummies'. See more solutions in: http://pbpython.com/categorical-encoding.html"
   ]
  },
  {
   "cell_type": "code",
   "execution_count": null,
   "metadata": {},
   "outputs": [],
   "source": [
    "df = pd.get_dummies(df, columns=[\"sales\"], prefix=[\"job\"]) #You cant run this command twice as df changes. Select from Kernal menue the Restart and Run All option \n",
    "df.head(10)"
   ]
  },
  {
   "cell_type": "code",
   "execution_count": null,
   "metadata": {},
   "outputs": [],
   "source": [
    "df.info()"
   ]
  },
  {
   "cell_type": "markdown",
   "metadata": {},
   "source": [
    "Now, all the features are numeric."
   ]
  },
  {
   "cell_type": "markdown",
   "metadata": {},
   "source": [
    "### 3. Explore numerical features\n",
    "\n",
    "In this section we will explore each numerical feature independently. The target of this exploration is to prepare each feature for next exploration and modeling. We will go through the following activities:\n",
    "1. View numerical variable\n",
    "2. Numerical data manipulations\n",
    "3. Bring numerical features into the same scale (this must be on train set, and then expanded to test set)\n"
   ]
  },
  {
   "cell_type": "markdown",
   "metadata": {},
   "source": [
    "#### 3.1 Histograms to view features"
   ]
  },
  {
   "cell_type": "markdown",
   "metadata": {},
   "source": [
    "\n",
    "As a first step visualize each variable separately. Possible visualizations are: histogram, density and boxplot. Where the first one is the most common and recommended. Use histogram to understand the values distribution, noting that many statistical model assume normal distribution.\n",
    "\n",
    "\n",
    "Start with simple out of the box histogram. As before, you can run the hist command on the netire data frame or on a selected feature.\n",
    "\n",
    "In our example, the numerical features are the first 5 ones."
   ]
  },
  {
   "cell_type": "code",
   "execution_count": null,
   "metadata": {},
   "outputs": [],
   "source": [
    "df.hist(bins = 200, figsize = (20,15), column=[\"satisfaction_level\", \"last_evaluation\", \"number_project\", \"average_montly_hours\", \"time_spend_company\"]) #Check the hist parameters by clicking on the Tab completion. \n",
    "plt.show()"
   ]
  },
  {
   "cell_type": "code",
   "execution_count": null,
   "metadata": {},
   "outputs": [],
   "source": [
    "sns.distplot(df[\"satisfaction_level\"])"
   ]
  },
  {
   "cell_type": "code",
   "execution_count": null,
   "metadata": {
    "scrolled": true
   },
   "outputs": [],
   "source": [
    "from scipy.stats import norm  #If this works fine, then move the import line to the top\n",
    "sns.distplot(df[\"satisfaction_level\"], fit=norm)"
   ]
  },
  {
   "cell_type": "markdown",
   "metadata": {},
   "source": [
    "#### 3.2. Handle non normal distribution\n",
    "\n",
    "See the histogram above. The distribution is far from being normal.\n",
    "\n",
    "To handle non normal distribution we will:\n",
    "1. **Split** the data of *satisfaction level* on 0.25, as we can clearly see two diffrent distributions\n",
    "2. **Clip** the data of *Working hours*, because of extreme low and high values that are not feasable\n",
    "3. Perfom **log transformation** on *experiance at the company*, as there is a right tail\n",
    "\n",
    "##### 3.2.1 Split"
   ]
  },
  {
   "cell_type": "code",
   "execution_count": null,
   "metadata": {},
   "outputs": [],
   "source": [
    "df_highsat = df[df[\"satisfaction_level\"] > 0.25] \n",
    "df_lowsat = df[df[\"satisfaction_level\"] <= 0.25] \n",
    "sns.distplot(df_highsat[\"satisfaction_level\"], fit=norm)\n",
    "sns.distplot(df_lowsat[\"satisfaction_level\"], fit=norm)"
   ]
  },
  {
   "cell_type": "markdown",
   "metadata": {},
   "source": [
    "For our course demo we will not split the data, as we would see how diffrent algorithems handle data that is not normal.\n",
    "For your project from this point progress with several options: all data, split to low, and split to high."
   ]
  },
  {
   "cell_type": "markdown",
   "metadata": {},
   "source": [
    "##### 3.2.2. Data Cliping\n",
    "\n",
    "Look on the average monthly working hours histogram above. There are two outliers groups: employees that worked less than 120 hours per month, and employees that worked more than 280 hours per month. These two extreme numbers are small in frequency and are extreme. By lciping we will take out the edges."
   ]
  },
  {
   "cell_type": "code",
   "execution_count": null,
   "metadata": {},
   "outputs": [],
   "source": [
    "monthly_hours = np.clip(df['average_montly_hours'], 120, 280 )"
   ]
  },
  {
   "cell_type": "code",
   "execution_count": null,
   "metadata": {},
   "outputs": [],
   "source": [
    "plt.hist(df['average_montly_hours'], bins=50)\n",
    "plt.hist(monthly_hours, bins=38, color='red', alpha = 0.5)\n",
    "plt.show()"
   ]
  },
  {
   "cell_type": "markdown",
   "metadata": {},
   "source": [
    "After we see that we would like to continue with the clipping, and we selected the desired boundaries, we may change the data set. (In our example we will skip cliping, so the code is in a comment)"
   ]
  },
  {
   "cell_type": "code",
   "execution_count": null,
   "metadata": {},
   "outputs": [],
   "source": [
    "# df['average_montly_hours'] = np.clip(df['average_montly_hours'], 120, 280 )"
   ]
  },
  {
   "cell_type": "markdown",
   "metadata": {},
   "source": [
    "##### 3.2.3. Log transformation\n",
    "\n",
    "When we have data with a log right cell (and no 0 or negative values) a log transformation shortens the tail. \n",
    "\n",
    "Look on the histogram of *time spend company* it has a long tail, as most employees are 2-3 year at the company, and few reach near 10 years. Also so are no employees that are 0 or negative time at the company."
   ]
  },
  {
   "cell_type": "code",
   "execution_count": null,
   "metadata": {},
   "outputs": [],
   "source": [
    "log_time_company = np.log(df[\"time_spend_company\"])\n",
    "sqrt_time_company = np.sqrt(df[\"time_spend_company\"])"
   ]
  },
  {
   "cell_type": "code",
   "execution_count": null,
   "metadata": {},
   "outputs": [],
   "source": [
    "sns.distplot(df[\"time_spend_company\"], fit=norm)"
   ]
  },
  {
   "cell_type": "code",
   "execution_count": null,
   "metadata": {},
   "outputs": [],
   "source": [
    "sns.distplot(log_time_company, fit=norm, bins=15)\n",
    "sns.distplot(sqrt_time_company-0.65, fit=norm, bins=15)"
   ]
  },
  {
   "cell_type": "markdown",
   "metadata": {},
   "source": [
    "Both log and sqrt shorten the tail, but are both far from perfect normalization. The sqrt (green) has a longer right tail. therefore, we will select the log. We can continue and look for more transformations.\n",
    "\n",
    "Rename the new column with the transformation, so that it will be interpreatbale.\n",
    "\n",
    "You may keep both original column and transformed, as some models know to pick the best form them."
   ]
  },
  {
   "cell_type": "code",
   "execution_count": null,
   "metadata": {},
   "outputs": [],
   "source": [
    "df[\"time_spend_company_log\"] = np.log(df[\"time_spend_company\"])"
   ]
  },
  {
   "cell_type": "markdown",
   "metadata": {},
   "source": [
    "### 4. Split the data to train and test\n",
    "\n",
    "EDA and data preparations are done only on train data. Test data is set aside, so testing will be objective, and your model won’t be influenced from what you saw in the test data. Typically 20%-30% of the rows go randomly to test data. \n",
    "Look on the data before and after the split.\n"
   ]
  },
  {
   "cell_type": "code",
   "execution_count": null,
   "metadata": {},
   "outputs": [],
   "source": [
    "df.describe()"
   ]
  },
  {
   "cell_type": "code",
   "execution_count": null,
   "metadata": {},
   "outputs": [],
   "source": [
    "train_df, test_df= train_test_split (df, test_size = 0.2, random_state=7) # train_test_split is from sklearn. It requiers that the data will be a numpy array, that is numbers only.\n",
    "\n",
    "# If your prediction class in y is very small, then add a parameter startify = y"
   ]
  },
  {
   "cell_type": "code",
   "execution_count": null,
   "metadata": {},
   "outputs": [],
   "source": [
    "train_df.describe()"
   ]
  },
  {
   "cell_type": "code",
   "execution_count": null,
   "metadata": {},
   "outputs": [],
   "source": [
    "y = train_df[\"left\"]\n",
    "X = train_df"
   ]
  },
  {
   "cell_type": "markdown",
   "metadata": {},
   "source": [
    "### 5. Explore features connections\n",
    "\n",
    "#### 5.1 Explore correlation between numeric features \n",
    "Numerical features linear dependency can be measured by correation. The correlataions numbers can be displayed in correlation table, or visualized in a heat map. \n",
    "##### 5.1.1 Correlation table"
   ]
  },
  {
   "cell_type": "code",
   "execution_count": null,
   "metadata": {},
   "outputs": [],
   "source": [
    "train_df_numeric = train_df.iloc[:, 0:5] # iloc = integer-location based indexing for selection by position\n",
    "corr_df=train_df_numeric.corr()\n",
    "corr_df"
   ]
  },
  {
   "cell_type": "markdown",
   "metadata": {},
   "source": [
    "#### 5.1.2. Heatmap"
   ]
  },
  {
   "cell_type": "code",
   "execution_count": null,
   "metadata": {},
   "outputs": [],
   "source": [
    "sns.heatmap(corr_df)"
   ]
  },
  {
   "cell_type": "code",
   "execution_count": null,
   "metadata": {},
   "outputs": [],
   "source": [
    "sns.heatmap(corr_df[(corr_df<1) & ((corr_df >= 0.3) | (corr_df <= -0.3)) ] )"
   ]
  },
  {
   "cell_type": "markdown",
   "metadata": {},
   "source": [
    "#### 5.2 Scatter plots between numerical features\n",
    "\n",
    "A scatter plot is useful to visualize connections between numerical features that are not only linear."
   ]
  },
  {
   "cell_type": "code",
   "execution_count": null,
   "metadata": {},
   "outputs": [],
   "source": [
    "plt.scatter(data = train_df, x=\"last_evaluation\", y=\"satisfaction_level\", alpha=0.1)"
   ]
  },
  {
   "cell_type": "code",
   "execution_count": null,
   "metadata": {},
   "outputs": [],
   "source": [
    "sns.pairplot(train_df_numeric, kind='reg', plot_kws={'line_kws':{'color':'red'}, 'scatter_kws': {'alpha': 0.05}})"
   ]
  },
  {
   "cell_type": "markdown",
   "metadata": {},
   "source": [
    "#### 5.3. Connection to a categorical feature\n",
    "\n",
    "The examples above is for numerical features only. We would like to examine the features connection to the targte feature \"left\".\n",
    "\n",
    "##### 5.3.1 Connect categorical to categorical feature\n",
    "Cross tab is the most common connetcion"
   ]
  },
  {
   "cell_type": "code",
   "execution_count": null,
   "metadata": {},
   "outputs": [],
   "source": [
    "pd.crosstab(train_df['job_management'], train_df['left'], margins=True)"
   ]
  },
  {
   "cell_type": "markdown",
   "metadata": {},
   "source": [
    "##### 5.3.2. Connect numeric and categorical feature\n",
    "\n",
    "To connect between categorical and numeric feature we can compare the numeric values per each categorical option. To do this comaprison we can use:\n",
    "1. Treat the categorical feature as numeric\n",
    "2. Boxplot - compare numeric feature median and quartiles, between categorical values.The middle line is the median and the box top and low borders are quartiles. \n",
    "3. Groupby - group the data frame by the categorical values and then compare mean or std\n",
    "4. Histograms by the categorical values"
   ]
  },
  {
   "cell_type": "code",
   "execution_count": null,
   "metadata": {},
   "outputs": [],
   "source": [
    "corr_matrix = train_df.corr()\n",
    "corr_matrix[\"left\"].sort_values()"
   ]
  },
  {
   "cell_type": "code",
   "execution_count": null,
   "metadata": {},
   "outputs": [],
   "source": [
    "sns.boxplot(x='left', y='average_montly_hours', data=train_df)"
   ]
  },
  {
   "cell_type": "markdown",
   "metadata": {},
   "source": [
    "See nice examples in https://www.kaggle.com/ekami66/detailed-exploratory-data-analysis-with-python and in https://github.com/ajaymache/data-analysis-using-python "
   ]
  },
  {
   "cell_type": "code",
   "execution_count": null,
   "metadata": {},
   "outputs": [],
   "source": [
    "train_df.groupby(['left']).mean()"
   ]
  },
  {
   "cell_type": "code",
   "execution_count": null,
   "metadata": {},
   "outputs": [],
   "source": [
    "train_df.groupby(['left']).hist(bins = 200, figsize = (20,15), column=[\"satisfaction_level\", \"last_evaluation\", \"number_project\", \"average_montly_hours\", \"time_spend_company\"])"
   ]
  },
  {
   "cell_type": "code",
   "execution_count": null,
   "metadata": {},
   "outputs": [],
   "source": [
    "plt.hist(train_df[train_df[\"left\"] ==0][\"satisfaction_level\"], bins=50, color='blue', alpha = 0.5)\n",
    "plt.hist(train_df[train_df[\"left\"] ==1][\"satisfaction_level\"], bins=50, color='red', alpha = 0.5)\n",
    "plt.show()"
   ]
  },
  {
   "cell_type": "markdown",
   "metadata": {},
   "source": [
    "### 6 Data scaling\n",
    "\n",
    "Data scaling brings all data to similar sizes, as required by many models.\n",
    "\n",
    "#### 6.1 Min-max normalization\n",
    "Min-max normalization transforms each feature to be between 0 and 1, by:\n",
    "    * Substructing from each feature intance the minimum of the feature \n",
    "    * Dividing by the diffrance between maximum and minimum of the feature\n",
    "Because scaling looks on a set of data, we need to mimic the exact same scaling to test data. That is instead of subtracting the min and dividing by max minus min of the test data we will subtract the min and divide by max minus min of the train data.  "
   ]
  },
  {
   "cell_type": "code",
   "execution_count": null,
   "metadata": {},
   "outputs": [],
   "source": [
    "from sklearn.preprocessing import MinMaxScaler\n",
    "mms = MinMaxScaler()\n",
    "train_df_normalized = mms.fit_transform(train_df) # fit is getting min and max, and transform changes the data by min-max\n",
    "test_df_normalized = mms.transform(test_df) #for testing use transform only. Min and max are taken from the train"
   ]
  },
  {
   "cell_type": "code",
   "execution_count": null,
   "metadata": {},
   "outputs": [],
   "source": [
    "plt.hist(train_df_normalized)\n",
    "plt.show()"
   ]
  },
  {
   "cell_type": "markdown",
   "metadata": {},
   "source": [
    "#### 6.2 Standartization\n",
    "Standartization transforms each feature to be with mean 0 and standard derivation of 1, by:\n",
    "    * Substructing from each feature intance the mean of the feature \n",
    "    * Dividing by the standard derivation of the feature\n",
    "Because scaling looks on a set of data, we need to mimic the exact same scaling to test data. That is instead of subtracting the mean and dividing by stdv the test data we will subtract the mean and divide by stdv of the train data.  "
   ]
  },
  {
   "cell_type": "code",
   "execution_count": null,
   "metadata": {},
   "outputs": [],
   "source": [
    "from sklearn.preprocessing import StandardScaler\n",
    "stdsc = StandardScaler()\n",
    "train_df_std = stdsc.fit_transform(train_df) # fit is getting mean and std, and transform changes the data by standartization\n",
    "test_df_std = stdsc.transform(test_df) #for testing use transform only. Mean and std are taken from the train"
   ]
  },
  {
   "cell_type": "code",
   "execution_count": null,
   "metadata": {},
   "outputs": [],
   "source": [
    "plt.hist(train_df_std)\n",
    "plt.show()"
   ]
  },
  {
   "cell_type": "markdown",
   "metadata": {},
   "source": [
    "### 7. Wrap-up and save the processesd data sets\n",
    "\n",
    "Now that you are done with EDA you need to (1) present results to stakeholders and get approval to project. (2) plan your product and anlaytics, (3) save the processed data sets for next step of modeling (you are likely to save several data sets)"
   ]
  },
  {
   "cell_type": "code",
   "execution_count": null,
   "metadata": {},
   "outputs": [],
   "source": [
    "import pickle # pickle is a package to code Python output: data and models"
   ]
  },
  {
   "cell_type": "code",
   "execution_count": null,
   "metadata": {},
   "outputs": [],
   "source": [
    "pickle.dump(train_df, open(\"train_df.dat\", \"wb\")) # wb = write binary"
   ]
  },
  {
   "cell_type": "markdown",
   "metadata": {},
   "source": [
    "Check that you have now a file named \"train_df.dat\" in the folder where this Python code is. This file is binary, so you can't read it. Now lets check that we can read this data back."
   ]
  },
  {
   "cell_type": "code",
   "execution_count": null,
   "metadata": {},
   "outputs": [],
   "source": [
    "train_df_read = pickle.load(open(\"train_df.dat\", \"rb\"))"
   ]
  },
  {
   "cell_type": "code",
   "execution_count": null,
   "metadata": {},
   "outputs": [],
   "source": [
    "train_df_read.describe()"
   ]
  },
  {
   "cell_type": "markdown",
   "metadata": {},
   "source": [
    "Now lets pickle all other data sets that we wish to keep to next lessons. See similar example in: https://www.youtube.com/watch?v=GC50dexQsRo"
   ]
  },
  {
   "cell_type": "code",
   "execution_count": null,
   "metadata": {},
   "outputs": [],
   "source": [
    "pickle.dump(test_df, open(\"test_df.dat\", \"wb\"))\n",
    "pickle.dump(train_df_std, open(\"train_df_std.dat\", \"wb\"))\n",
    "pickle.dump(test_df_std, open(\"test_df_std.dat\", \"wb\"))"
   ]
  },
  {
   "cell_type": "markdown",
   "metadata": {},
   "source": [
    "# THE END"
   ]
  },
  {
   "cell_type": "code",
   "execution_count": null,
   "metadata": {},
   "outputs": [],
   "source": []
  }
 ],
 "metadata": {
  "kernelspec": {
   "display_name": "Python 3",
   "language": "python",
   "name": "python3"
  },
  "language_info": {
   "codemirror_mode": {
    "name": "ipython",
    "version": 3
   },
   "file_extension": ".py",
   "mimetype": "text/x-python",
   "name": "python",
   "nbconvert_exporter": "python",
   "pygments_lexer": "ipython3",
   "version": "3.7.0"
  }
 },
 "nbformat": 4,
 "nbformat_minor": 2
}
