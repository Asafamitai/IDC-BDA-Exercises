{
 "cells": [
  {
   "cell_type": "code",
   "execution_count": 6,
   "metadata": {},
   "outputs": [],
   "source": [
    "import pandas as pd \n",
    "import numpy as np  \n",
    "import matplotlib.pyplot as plt \n",
    "%matplotlib inline \n",
    "import seaborn as sns\n",
    "import datetime\n",
    "from sklearn.metrics import roc_curve\n",
    "from sklearn import ensemble\n",
    "\n",
    "from sklearn.preprocessing import OneHotEncoder\n",
    "from sklearn.preprocessing import StandardScaler\n",
    "from sklearn.model_selection import train_test_split\n",
    "\n",
    "from sklearn.decomposition import PCA\n",
    "from sklearn.ensemble import RandomForestClassifier\n",
    "\n",
    "from sklearn.externals import joblib\n",
    "from scipy.stats import norm\n",
    "from sklearn.model_selection import train_test_split\n",
    "from pandas.plotting import scatter_matrix\n",
    "\n",
    "import pylab as pl\n",
    "from sklearn.preprocessing import MinMaxScaler\n",
    "from sklearn.preprocessing import StandardScaler\n",
    "from sklearn.metrics import precision_recall_curve\n",
    "\n",
    "import pickle\n",
    "\n",
    "from sklearn.tree import DecisionTreeClassifier\n",
    "\n",
    "from sklearn.tree import export_graphviz \n",
    "    #In the cmd line type: conda install python-graphviz\n",
    "import graphviz\n",
    "import os\n",
    "os.environ[\"PATH\"] += os.pathsep + 'D:/Program Files (x86)/Graphviz2.38/bin/'\n",
    "\n",
    "from sklearn.metrics import confusion_matrix\n",
    "from sklearn.metrics import precision_score, recall_score\n",
    "from sklearn.metrics import roc_curve\n",
    "from sklearn.ensemble import RandomForestClassifier"
   ]
  },
  {
   "cell_type": "code",
   "execution_count": 7,
   "metadata": {},
   "outputs": [],
   "source": [
    "df = pickle.load(open(\"df_a.dat\", \"rb\"))"
   ]
  },
  {
   "cell_type": "code",
   "execution_count": 8,
   "metadata": {},
   "outputs": [
    {
     "data": {
      "text/html": [
       "<div>\n",
       "<style scoped>\n",
       "    .dataframe tbody tr th:only-of-type {\n",
       "        vertical-align: middle;\n",
       "    }\n",
       "\n",
       "    .dataframe tbody tr th {\n",
       "        vertical-align: top;\n",
       "    }\n",
       "\n",
       "    .dataframe thead th {\n",
       "        text-align: right;\n",
       "    }\n",
       "</style>\n",
       "<table border=\"1\" class=\"dataframe\">\n",
       "  <thead>\n",
       "    <tr style=\"text-align: right;\">\n",
       "      <th></th>\n",
       "      <th>Age</th>\n",
       "      <th>Scholarship</th>\n",
       "      <th>Hipertension</th>\n",
       "      <th>Diabetes</th>\n",
       "      <th>Alcoholism</th>\n",
       "      <th>Handcap</th>\n",
       "      <th>SMS_received</th>\n",
       "      <th>ScheduledWeekDay</th>\n",
       "      <th>prcp</th>\n",
       "      <th>temp</th>\n",
       "      <th>...</th>\n",
       "      <th>Delta_Dates</th>\n",
       "      <th>Friday</th>\n",
       "      <th>Monday</th>\n",
       "      <th>Saturday</th>\n",
       "      <th>Thursday</th>\n",
       "      <th>Tuesday</th>\n",
       "      <th>Wednesday</th>\n",
       "      <th>Appointments_untill_yesterday</th>\n",
       "      <th>no_show_untill_yesterday</th>\n",
       "      <th>no_show_freq_for_id</th>\n",
       "    </tr>\n",
       "  </thead>\n",
       "  <tbody>\n",
       "    <tr>\n",
       "      <th>9856</th>\n",
       "      <td>9</td>\n",
       "      <td>1</td>\n",
       "      <td>0</td>\n",
       "      <td>0</td>\n",
       "      <td>0</td>\n",
       "      <td>0</td>\n",
       "      <td>1</td>\n",
       "      <td>3</td>\n",
       "      <td>0</td>\n",
       "      <td>23</td>\n",
       "      <td>...</td>\n",
       "      <td>21</td>\n",
       "      <td>0</td>\n",
       "      <td>0</td>\n",
       "      <td>0</td>\n",
       "      <td>0</td>\n",
       "      <td>0</td>\n",
       "      <td>1</td>\n",
       "      <td>0</td>\n",
       "      <td>0</td>\n",
       "      <td>0</td>\n",
       "    </tr>\n",
       "    <tr>\n",
       "      <th>32721</th>\n",
       "      <td>35</td>\n",
       "      <td>0</td>\n",
       "      <td>0</td>\n",
       "      <td>0</td>\n",
       "      <td>0</td>\n",
       "      <td>0</td>\n",
       "      <td>0</td>\n",
       "      <td>3</td>\n",
       "      <td>0</td>\n",
       "      <td>23</td>\n",
       "      <td>...</td>\n",
       "      <td>7</td>\n",
       "      <td>0</td>\n",
       "      <td>0</td>\n",
       "      <td>0</td>\n",
       "      <td>0</td>\n",
       "      <td>0</td>\n",
       "      <td>1</td>\n",
       "      <td>2</td>\n",
       "      <td>1</td>\n",
       "      <td>0.5</td>\n",
       "    </tr>\n",
       "    <tr>\n",
       "      <th>7312</th>\n",
       "      <td>6</td>\n",
       "      <td>1</td>\n",
       "      <td>0</td>\n",
       "      <td>0</td>\n",
       "      <td>0</td>\n",
       "      <td>0</td>\n",
       "      <td>0</td>\n",
       "      <td>3</td>\n",
       "      <td>0</td>\n",
       "      <td>23</td>\n",
       "      <td>...</td>\n",
       "      <td>14</td>\n",
       "      <td>0</td>\n",
       "      <td>0</td>\n",
       "      <td>0</td>\n",
       "      <td>0</td>\n",
       "      <td>0</td>\n",
       "      <td>1</td>\n",
       "      <td>7</td>\n",
       "      <td>6</td>\n",
       "      <td>0.857143</td>\n",
       "    </tr>\n",
       "    <tr>\n",
       "      <th>42172</th>\n",
       "      <td>45</td>\n",
       "      <td>0</td>\n",
       "      <td>1</td>\n",
       "      <td>0</td>\n",
       "      <td>0</td>\n",
       "      <td>0</td>\n",
       "      <td>1</td>\n",
       "      <td>3</td>\n",
       "      <td>0</td>\n",
       "      <td>23</td>\n",
       "      <td>...</td>\n",
       "      <td>56</td>\n",
       "      <td>0</td>\n",
       "      <td>0</td>\n",
       "      <td>0</td>\n",
       "      <td>0</td>\n",
       "      <td>0</td>\n",
       "      <td>1</td>\n",
       "      <td>4</td>\n",
       "      <td>2</td>\n",
       "      <td>0.5</td>\n",
       "    </tr>\n",
       "    <tr>\n",
       "      <th>48112</th>\n",
       "      <td>51</td>\n",
       "      <td>1</td>\n",
       "      <td>0</td>\n",
       "      <td>0</td>\n",
       "      <td>0</td>\n",
       "      <td>0</td>\n",
       "      <td>0</td>\n",
       "      <td>1</td>\n",
       "      <td>0</td>\n",
       "      <td>23</td>\n",
       "      <td>...</td>\n",
       "      <td>23</td>\n",
       "      <td>0</td>\n",
       "      <td>0</td>\n",
       "      <td>0</td>\n",
       "      <td>0</td>\n",
       "      <td>0</td>\n",
       "      <td>1</td>\n",
       "      <td>1</td>\n",
       "      <td>1</td>\n",
       "      <td>1</td>\n",
       "    </tr>\n",
       "  </tbody>\n",
       "</table>\n",
       "<p>5 rows × 22 columns</p>\n",
       "</div>"
      ],
      "text/plain": [
       "       Age  Scholarship  Hipertension  Diabetes  Alcoholism  Handcap  \\\n",
       "9856     9            1             0         0           0        0   \n",
       "32721   35            0             0         0           0        0   \n",
       "7312     6            1             0         0           0        0   \n",
       "42172   45            0             1         0           0        0   \n",
       "48112   51            1             0         0           0        0   \n",
       "\n",
       "       SMS_received  ScheduledWeekDay  prcp  temp         ...          \\\n",
       "9856              1                 3     0    23         ...           \n",
       "32721             0                 3     0    23         ...           \n",
       "7312              0                 3     0    23         ...           \n",
       "42172             1                 3     0    23         ...           \n",
       "48112             0                 1     0    23         ...           \n",
       "\n",
       "       Delta_Dates  Friday  Monday  Saturday  Thursday  Tuesday  Wednesday  \\\n",
       "9856            21       0       0         0         0        0          1   \n",
       "32721            7       0       0         0         0        0          1   \n",
       "7312            14       0       0         0         0        0          1   \n",
       "42172           56       0       0         0         0        0          1   \n",
       "48112           23       0       0         0         0        0          1   \n",
       "\n",
       "       Appointments_untill_yesterday  no_show_untill_yesterday  \\\n",
       "9856                               0                         0   \n",
       "32721                              2                         1   \n",
       "7312                               7                         6   \n",
       "42172                              4                         2   \n",
       "48112                              1                         1   \n",
       "\n",
       "      no_show_freq_for_id  \n",
       "9856                    0  \n",
       "32721                 0.5  \n",
       "7312             0.857143  \n",
       "42172                 0.5  \n",
       "48112                   1  \n",
       "\n",
       "[5 rows x 22 columns]"
      ]
     },
     "execution_count": 8,
     "metadata": {},
     "output_type": "execute_result"
    }
   ],
   "source": [
    "df.tail()"
   ]
  },
  {
   "cell_type": "code",
   "execution_count": 25,
   "metadata": {},
   "outputs": [],
   "source": [
    "# פיצול לטריין וטסט\n",
    "train_df, test_df= train_test_split(df, test_size = 0.2, random_state=7)\n",
    "y = train_df[\"No-show_\"]\n",
    "X = train_df.drop(['No-show_'], axis = 1)\n",
    "\n",
    "y_test=test_df[\"No-show_\"]\n",
    "X_test=test_df.drop(['No-show_'], axis = 1)"
   ]
  },
  {
   "cell_type": "markdown",
   "metadata": {},
   "source": [
    "# עץ החלטה גדול"
   ]
  },
  {
   "cell_type": "code",
   "execution_count": 26,
   "metadata": {},
   "outputs": [
    {
     "data": {
      "text/plain": [
       "DecisionTreeClassifier(class_weight={0: 2, 1: 10}, criterion='gini',\n",
       "            max_depth=9, max_features=None, max_leaf_nodes=None,\n",
       "            min_impurity_decrease=0.0, min_impurity_split=None,\n",
       "            min_samples_leaf=1, min_samples_split=2,\n",
       "            min_weight_fraction_leaf=0.0, presort=False, random_state=None,\n",
       "            splitter='best')"
      ]
     },
     "execution_count": 26,
     "metadata": {},
     "output_type": "execute_result"
    }
   ],
   "source": [
    "tree_clf = DecisionTreeClassifier (max_depth = 9, class_weight={0:2,1:10})\n",
    "tree_clf.fit (X, y)"
   ]
  },
  {
   "cell_type": "code",
   "execution_count": 28,
   "metadata": {
    "collapsed": true
   },
   "outputs": [
    {
     "ename": "ValueError",
     "evalue": "Length of feature_names, 22 does not match number of features, 15",
     "output_type": "error",
     "traceback": [
      "\u001b[1;31m---------------------------------------------------------------------------\u001b[0m",
      "\u001b[1;31mValueError\u001b[0m                                Traceback (most recent call last)",
      "\u001b[1;32m<ipython-input-28-536c3b73c7cd>\u001b[0m in \u001b[0;36m<module>\u001b[1;34m()\u001b[0m\n\u001b[0;32m      8\u001b[0m        'Appointment_counts', 'ADOULT', 'KID', 'OLD', 'YOUNG' ],\n\u001b[0;32m      9\u001b[0m                            \u001b[0mclass_names\u001b[0m \u001b[1;33m=\u001b[0m \u001b[1;33m[\u001b[0m\u001b[1;34m\"show\"\u001b[0m\u001b[1;33m,\u001b[0m \u001b[1;34m\"no_show\"\u001b[0m \u001b[1;33m]\u001b[0m\u001b[1;33m,\u001b[0m\u001b[1;33m\u001b[0m\u001b[0m\n\u001b[1;32m---> 10\u001b[1;33m                            rounded = True, filled=True, special_characters=True)\n\u001b[0m\u001b[0;32m     11\u001b[0m \u001b[0mgraph\u001b[0m \u001b[1;33m=\u001b[0m \u001b[0mgraphviz\u001b[0m\u001b[1;33m.\u001b[0m\u001b[0mSource\u001b[0m\u001b[1;33m(\u001b[0m\u001b[0mdot_data\u001b[0m\u001b[1;33m)\u001b[0m\u001b[1;33m\u001b[0m\u001b[0m\n\u001b[0;32m     12\u001b[0m \u001b[0mgraph\u001b[0m\u001b[1;33m\u001b[0m\u001b[0m\n",
      "\u001b[1;32m~\\Anaconda3\\lib\\site-packages\\sklearn\\tree\\export.py\u001b[0m in \u001b[0;36mexport_graphviz\u001b[1;34m(decision_tree, out_file, max_depth, feature_names, class_names, label, filled, leaves_parallel, impurity, node_ids, proportion, rotate, rounded, special_characters, precision)\u001b[0m\n\u001b[0;32m    427\u001b[0m                                  \u001b[1;34m\"does not match number of features, %d\"\u001b[0m\u001b[1;33m\u001b[0m\u001b[0m\n\u001b[0;32m    428\u001b[0m                                  % (len(feature_names),\n\u001b[1;32m--> 429\u001b[1;33m                                     decision_tree.n_features_))\n\u001b[0m\u001b[0;32m    430\u001b[0m \u001b[1;33m\u001b[0m\u001b[0m\n\u001b[0;32m    431\u001b[0m         \u001b[1;31m# The depth of each node for plotting with 'leaf' option\u001b[0m\u001b[1;33m\u001b[0m\u001b[1;33m\u001b[0m\u001b[0m\n",
      "\u001b[1;31mValueError\u001b[0m: Length of feature_names, 22 does not match number of features, 15"
     ]
    }
   ],
   "source": [
    "from sklearn.tree import export_graphviz #In the cmd line type: conda install python-graphviz\n",
    "import graphviz\n",
    "\n",
    "dot_data = export_graphviz(tree_clf, out_file = None, \n",
    "                           feature_names = ['SMS_received', 'Gender_', 'Delta_Dates', 'Scholarship', 'Hipertension',\n",
    "       'Diabetes', 'prcp', 'temp', 'Alcoholism', 'Handcap', 'Friday', 'Monday',\n",
    "       'Saturday', 'Sunday', 'Thursday', 'Tuesday', 'Wednesday',\n",
    "       'Appointment_counts', 'ADOULT', 'KID', 'OLD', 'YOUNG' ],\n",
    "                           class_names = [\"show\", \"no_show\" ],\n",
    "                           rounded = True, filled=True, special_characters=True)\n",
    "graph = graphviz.Source(dot_data) \n",
    "graph "
   ]
  },
  {
   "cell_type": "code",
   "execution_count": 27,
   "metadata": {},
   "outputs": [],
   "source": [
    "y_test_predict = tree_clf.predict (X_test)"
   ]
  },
  {
   "cell_type": "code",
   "execution_count": 28,
   "metadata": {},
   "outputs": [
    {
     "data": {
      "text/plain": [
       "array([[1077, 9199],\n",
       "       [ 246, 3870]], dtype=int64)"
      ]
     },
     "execution_count": 28,
     "metadata": {},
     "output_type": "execute_result"
    }
   ],
   "source": [
    "conf_matrix = confusion_matrix(y_test, y_test_predict)\n",
    "conf_matrix"
   ]
  },
  {
   "cell_type": "code",
   "execution_count": 29,
   "metadata": {},
   "outputs": [
    {
     "data": {
      "text/plain": [
       "0.9402332361516035"
      ]
     },
     "execution_count": 29,
     "metadata": {},
     "output_type": "execute_result"
    }
   ],
   "source": [
    "recall_score(y_test, y_test_predict)"
   ]
  },
  {
   "cell_type": "code",
   "execution_count": 30,
   "metadata": {},
   "outputs": [
    {
     "data": {
      "text/plain": [
       "0.29612059071084246"
      ]
     },
     "execution_count": 30,
     "metadata": {},
     "output_type": "execute_result"
    }
   ],
   "source": [
    "precision_score(y_test, y_test_predict)"
   ]
  },
  {
   "cell_type": "markdown",
   "metadata": {},
   "source": [
    "## Random Forest"
   ]
  },
  {
   "cell_type": "code",
   "execution_count": 31,
   "metadata": {},
   "outputs": [],
   "source": [
    "rnd_clf = RandomForestClassifier(n_estimators=100,max_depth = 15 ,class_weight={0:2,1:10})\n",
    "rnd_clf.fit (X, y)\n",
    "y_pred_rf = rnd_clf.predict(X_test)"
   ]
  },
  {
   "cell_type": "code",
   "execution_count": 32,
   "metadata": {},
   "outputs": [
    {
     "data": {
      "text/plain": [
       "array([[2929, 7347],\n",
       "       [ 752, 3364]], dtype=int64)"
      ]
     },
     "execution_count": 32,
     "metadata": {},
     "output_type": "execute_result"
    }
   ],
   "source": [
    "conf_matrix = confusion_matrix(y_test, y_pred_rf)\n",
    "conf_matrix"
   ]
  },
  {
   "cell_type": "code",
   "execution_count": 33,
   "metadata": {},
   "outputs": [
    {
     "data": {
      "text/plain": [
       "0.31406964802539444"
      ]
     },
     "execution_count": 33,
     "metadata": {},
     "output_type": "execute_result"
    }
   ],
   "source": [
    "precision_score(y_test, y_pred_rf)"
   ]
  },
  {
   "cell_type": "code",
   "execution_count": 34,
   "metadata": {},
   "outputs": [
    {
     "data": {
      "text/plain": [
       "0.8172983479105929"
      ]
     },
     "execution_count": 34,
     "metadata": {},
     "output_type": "execute_result"
    }
   ],
   "source": [
    "recall_score(y_test, y_pred_rf)"
   ]
  },
  {
   "cell_type": "markdown",
   "metadata": {},
   "source": [
    "## GBM "
   ]
  },
  {
   "cell_type": "code",
   "execution_count": 61,
   "metadata": {},
   "outputs": [],
   "source": [
    "clf_gb = ensemble.GradientBoostingClassifier(n_estimators=50,max_depth = 5)\n",
    "clf_gb.fit(X, y)\n",
    "y_pred_gb = clf_gb.predict(X_test)"
   ]
  },
  {
   "cell_type": "code",
   "execution_count": 62,
   "metadata": {},
   "outputs": [
    {
     "data": {
      "text/plain": [
       "array([[10181,    95],\n",
       "       [ 4021,    95]], dtype=int64)"
      ]
     },
     "execution_count": 62,
     "metadata": {},
     "output_type": "execute_result"
    }
   ],
   "source": [
    "confusion_matrix(y_test, y_pred_gb)"
   ]
  },
  {
   "cell_type": "code",
   "execution_count": 63,
   "metadata": {},
   "outputs": [
    {
     "data": {
      "text/plain": [
       "0.5"
      ]
     },
     "execution_count": 63,
     "metadata": {},
     "output_type": "execute_result"
    }
   ],
   "source": [
    "precision_score(y_test, y_pred_gb)"
   ]
  },
  {
   "cell_type": "code",
   "execution_count": 64,
   "metadata": {},
   "outputs": [
    {
     "data": {
      "text/plain": [
       "0.023080660835762875"
      ]
     },
     "execution_count": 64,
     "metadata": {},
     "output_type": "execute_result"
    }
   ],
   "source": [
    "recall_score(y_test, y_pred_gb)"
   ]
  },
  {
   "cell_type": "markdown",
   "metadata": {},
   "source": [
    "# PROBABILITY-עץ גדול"
   ]
  },
  {
   "cell_type": "code",
   "execution_count": 39,
   "metadata": {},
   "outputs": [
    {
     "data": {
      "text/plain": [
       "array([[0.43089431, 0.56910569],\n",
       "       [0.51581975, 0.48418025],\n",
       "       [0.39555126, 0.60444874],\n",
       "       ...,\n",
       "       [0.45027486, 0.54972514],\n",
       "       [0.29663609, 0.70336391],\n",
       "       [0.45390071, 0.54609929]])"
      ]
     },
     "execution_count": 39,
     "metadata": {},
     "output_type": "execute_result"
    }
   ],
   "source": [
    "y_test_proba = tree_clf.predict_proba(X_test)\n",
    "y_test_proba[:,1]\n",
    "y_test_proba"
   ]
  },
  {
   "cell_type": "code",
   "execution_count": 40,
   "metadata": {},
   "outputs": [],
   "source": [
    "from sklearn.preprocessing import binarize\n",
    "# it will return 1 for all values above 0.3 and 0 otherwise\n",
    "y_pred_Set_T = binarize(y_test_proba, 0.05)"
   ]
  },
  {
   "cell_type": "code",
   "execution_count": 41,
   "metadata": {},
   "outputs": [],
   "source": [
    "y_pred_Set_T=y_pred_Set_T[:,1]"
   ]
  },
  {
   "cell_type": "code",
   "execution_count": 42,
   "metadata": {},
   "outputs": [
    {
     "data": {
      "text/plain": [
       "array([[  150, 10126],\n",
       "       [   52,  4064]], dtype=int64)"
      ]
     },
     "execution_count": 42,
     "metadata": {},
     "output_type": "execute_result"
    }
   ],
   "source": [
    "conf_matrix = confusion_matrix(y_test, y_pred_Set_T)\n",
    "conf_matrix"
   ]
  },
  {
   "cell_type": "code",
   "execution_count": 43,
   "metadata": {},
   "outputs": [
    {
     "data": {
      "text/plain": [
       "0.9873663751214772"
      ]
     },
     "execution_count": 43,
     "metadata": {},
     "output_type": "execute_result"
    }
   ],
   "source": [
    "recall_score(y_test, y_pred_Set_T)"
   ]
  },
  {
   "cell_type": "code",
   "execution_count": 44,
   "metadata": {},
   "outputs": [
    {
     "data": {
      "text/plain": [
       "0.2863988724453841"
      ]
     },
     "execution_count": 44,
     "metadata": {},
     "output_type": "execute_result"
    }
   ],
   "source": [
    "precision_score(y_test, y_pred_Set_T)"
   ]
  },
  {
   "cell_type": "code",
   "execution_count": 45,
   "metadata": {},
   "outputs": [
    {
     "name": "stdout",
     "output_type": "stream",
     "text": [
      " Precision =  [0.28599222 0.28639887 0.28660085 0.28655136 0.28671329 0.28676419\n",
      " 0.28685682 0.28681677 0.28683707 0.28682775 0.28725518 0.28747958\n",
      " 0.28724689 0.28759613 0.28761661 0.28793719 0.28801942 0.28811379\n",
      " 0.28819022 0.28877236 0.28871316 0.28862491 0.29010462 0.29334423\n",
      " 0.29336507 0.29349933 0.29350746 0.29465972 0.2947265  0.29515152\n",
      " 0.29535801 0.29561043 0.29612059 0.29602277 0.29611389 0.29651387\n",
      " 0.29663774 0.2975039  0.29745551 0.30277572 0.3025882  0.30291181\n",
      " 0.30292154 0.30572212 0.30810058 0.30814763 0.30815526 0.30833697\n",
      " 0.30820302 0.30835886 0.30873838 0.30868534 0.31       0.31281244\n",
      " 0.31828979 0.31810961 0.32042467 0.32104782 0.3241365  0.32488479\n",
      " 0.32634921 0.32638374 0.32638154 0.32713395 0.33058033 0.33138122\n",
      " 0.33148743 0.33221326 0.33329558 0.33502129 0.33514451 0.33518583\n",
      " 0.33511008 0.33594206 0.33613042 0.33765598 0.3374541  0.3370343\n",
      " 0.34680502 0.3509915  0.35212675 0.35349661 0.35584219 0.35620816\n",
      " 0.35652041 0.35648715 0.35639927 0.35874862 0.35871515 0.35886965\n",
      " 0.3603454  0.360266   0.36050574 0.36120848 0.36155914 0.3612707\n",
      " 0.36256906 0.36426421 0.36427039 0.36471434 0.36520007 0.36429872\n",
      " 0.3687548  0.36886204 0.37138026 0.37180579 0.37586525 0.37643746\n",
      " 0.37910519 0.38355478 0.38729828 0.3902507  0.39028476 0.39136529\n",
      " 0.39185393 0.39322034 0.39237987 0.39425287 0.39459304 0.39575458\n",
      " 0.41149711 0.41176471 0.41112505 0.41311968 0.41512514 0.41634668\n",
      " 0.4160178  0.41596873 0.40366972 0.40492687 0.40369181 0.40278917\n",
      " 0.40050167 0.40136635 0.40277778 0.40888486 0.40909091 0.40839161\n",
      " 0.41142857 0.41319943 0.42701863 0.42736486 0.42687075 0.43085106\n",
      " 0.42882562 0.43351548 0.43566176 0.43428571 0.43589744 0.44736842\n",
      " 0.45454545 0.45034642 0.44444444 0.44444444 0.43657817 0.44410876\n",
      " 0.40686275 0.39634146 0.39354839 0.4084507  0.42647059 0.4351145\n",
      " 0.44094488 0.45378151 0.47368421 0.47169811 0.43478261 0.52173913\n",
      " 0.53333333 0.53658537 0.57894737 0.6        0.5        0.54166667\n",
      " 0.55555556 0.54545455 1.        ] \n",
      " Recalls =  [1.         0.98736638 0.98736638 0.9861516  0.9861516  0.98590865\n",
      " 0.98469388 0.98420797 0.98420797 0.98347911 0.98347911 0.98347911\n",
      " 0.98226433 0.98129252 0.98129252 0.98007775 0.98007775 0.97934888\n",
      " 0.9776482  0.97667638 0.97570457 0.97400389 0.97011662 0.95942663\n",
      " 0.95821186 0.95651118 0.95553936 0.94776482 0.94776482 0.94655005\n",
      " 0.94606414 0.94241983 0.94023324 0.93488824 0.93488824 0.93197279\n",
      " 0.93027211 0.92662779 0.92589893 0.8931001  0.89188533 0.8845967\n",
      " 0.88168124 0.86710398 0.86030126 0.86005831 0.85835763 0.85811467\n",
      " 0.85714286 0.85592809 0.85495627 0.85398445 0.84353741 0.82094266\n",
      " 0.78134111 0.77842566 0.76992225 0.76822157 0.75923226 0.75364431\n",
      " 0.74927114 0.74927114 0.74902818 0.73931001 0.72934888 0.72862002\n",
      " 0.72716229 0.72060253 0.71501458 0.70724004 0.70432459 0.70335277\n",
      " 0.70262391 0.69873664 0.68124393 0.67055394 0.66982507 0.66375121\n",
      " 0.61710398 0.60204082 0.59936832 0.58211856 0.56972789 0.56875607\n",
      " 0.56656948 0.56608358 0.56559767 0.55442177 0.53449951 0.53377065\n",
      " 0.52721088 0.52648202 0.52648202 0.52575316 0.52283771 0.51943635\n",
      " 0.51020408 0.49975705 0.49489796 0.49319728 0.49003887 0.48590865\n",
      " 0.46622935 0.45991254 0.42687075 0.42419825 0.39577259 0.38969874\n",
      " 0.38702624 0.37172012 0.36151603 0.34037901 0.33965015 0.33916424\n",
      " 0.33892128 0.33819242 0.33527697 0.33333333 0.33333333 0.33066084\n",
      " 0.24173955 0.2414966  0.2388241  0.20043732 0.18537415 0.18440233\n",
      " 0.18172983 0.18100097 0.12827988 0.12779397 0.12220603 0.11929057\n",
      " 0.11637512 0.11418853 0.11273081 0.1095724  0.07215743 0.07094266\n",
      " 0.06997085 0.06997085 0.06681244 0.06146744 0.06098154 0.0590379\n",
      " 0.05855199 0.05782313 0.05758017 0.05539359 0.05369291 0.05369291\n",
      " 0.04980564 0.04737609 0.0447036  0.03790087 0.03595724 0.03571429\n",
      " 0.02016521 0.01579203 0.01482021 0.01409135 0.01409135 0.0138484\n",
      " 0.01360544 0.01311953 0.01311953 0.01214772 0.00728863 0.0058309\n",
      " 0.0058309  0.005345   0.005345   0.00510204 0.00315841 0.00315841\n",
      " 0.00242954 0.00145773 0.        ] \n",
      " Thresholds =  [0.         0.06666667 0.13888889 0.2173913  0.22727273 0.24096386\n",
      " 0.25       0.29411765 0.30120482 0.3030303  0.30927835 0.3125\n",
      " 0.33088235 0.35714286 0.36480687 0.38461538 0.39215686 0.41420118\n",
      " 0.41666667 0.42857143 0.43269231 0.43478261 0.44981799 0.4601227\n",
      " 0.47945205 0.48192771 0.48418025 0.49019608 0.49107143 0.4964539\n",
      " 0.49861496 0.5        0.50505051 0.51020408 0.51948052 0.52147239\n",
      " 0.52152318 0.53571429 0.53833437 0.53846154 0.54609929 0.54924242\n",
      " 0.54972514 0.549922   0.55555556 0.56213018 0.56451613 0.56603774\n",
      " 0.56910569 0.57086614 0.57692308 0.58085809 0.58517773 0.58828797\n",
      " 0.58943089 0.58953574 0.59210526 0.59438276 0.59502664 0.59598494\n",
      " 0.6        0.60240964 0.60444874 0.60697115 0.60747664 0.61290323\n",
      " 0.61549101 0.61559508 0.61959654 0.62       0.62200957 0.625\n",
      " 0.62984496 0.63194077 0.63702721 0.63829787 0.63876652 0.64087419\n",
      " 0.64137308 0.64781022 0.65240642 0.66414315 0.66666667 0.66985646\n",
      " 0.67164179 0.67307692 0.67641682 0.68089431 0.68181818 0.68478261\n",
      " 0.68627451 0.68965517 0.69047619 0.69444444 0.69486405 0.69636678\n",
      " 0.69906223 0.70110701 0.70224719 0.70291777 0.70336391 0.70473251\n",
      " 0.70769231 0.71077723 0.7120743  0.71386946 0.7173913  0.72016461\n",
      " 0.72026801 0.72175732 0.72213501 0.72463768 0.7253886  0.72580645\n",
      " 0.72769953 0.72916667 0.73248408 0.74074074 0.74303406 0.74407827\n",
      " 0.75       0.75144509 0.75251256 0.75929427 0.76271186 0.76323988\n",
      " 0.76923077 0.77231228 0.77272727 0.77395577 0.77507599 0.77689243\n",
      " 0.78125    0.78431373 0.79295154 0.79326305 0.79710145 0.80152672\n",
      " 0.80357143 0.80691643 0.80721003 0.80882353 0.80985915 0.81081081\n",
      " 0.81460674 0.81632653 0.81939799 0.82758621 0.83333333 0.83677686\n",
      " 0.8372093  0.84615385 0.8480826  0.85034014 0.85106383 0.85182534\n",
      " 0.85492228 0.85526316 0.86956522 0.875      0.88235294 0.88709677\n",
      " 0.89108911 0.89285714 0.90909091 0.91116173 0.93117409 0.94594595\n",
      " 0.94827586 0.95238095 0.95744681 0.96153846 0.96774194 0.97014925\n",
      " 0.98870056 1.        ]\n"
     ]
    },
    {
     "data": {
      "image/png": "[encoded data removed]",
      "text/plain": [
       "<Figure size 432x288 with 1 Axes>"
      ]
     },
     "metadata": {
      "needs_background": "light"
     },
     "output_type": "display_data"
    }
   ],
   "source": [
    "precisions, recalls, thresholds = precision_recall_curve(y_true = y_test, probas_pred =y_test_proba[:,1])\n",
    "print(\" Precision = \", precisions, \"\\n\", \"Recalls = \", recalls, \"\\n\", \"Thresholds = \", thresholds)\n",
    "\n",
    "def plot_precision_recall_vs_threshold (precisions, recalls, thresholds, color = \"k\", label = None):\n",
    "    plt.plot (thresholds, precisions[:-1], color+\"--\", label=\"Precision \"+label)\n",
    "    plt.plot (thresholds, recalls[:-1], color+\"-\", label=\"Recall \"+label)\n",
    "    plt.xlabel(\"Threshold\")\n",
    "    plt.legend(loc=\"upper right\")\n",
    "    plt.ylim([0,1])\n",
    "    \n",
    "plot_precision_recall_vs_threshold( precisions, recalls, thresholds, color = \"b\", label=\"RF\")\n",
    "plt.legend(loc = \"best\")\n",
    "plt.show()"
   ]
  },
  {
   "cell_type": "code",
   "execution_count": 46,
   "metadata": {},
   "outputs": [
    {
     "data": {
      "image/png": "[encoded data removed]",
      "text/plain": [
       "<Figure size 432x288 with 1 Axes>"
      ]
     },
     "metadata": {
      "needs_background": "light"
     },
     "output_type": "display_data"
    }
   ],
   "source": [
    "fpr, tpr, thresholds = roc_curve(y_test, y_test_proba[:,1])\n",
    "\n",
    "def plot_roc_curve (fpr, tpr, label = None):\n",
    "    plt.plot(fpr, tpr, linewidth = 2, label = label)\n",
    "    plt.plot([0,1], [0,1], \"k--\")\n",
    "    plt.axis([0,1,0,1])\n",
    "    plt.xlabel(\"False positive rate\")\n",
    "    plt.ylabel(\"True positive rate\")\n",
    "    \n",
    "plot_roc_curve (fpr, tpr, \"tree\")\n",
    "plt.show()"
   ]
  },
  {
   "cell_type": "markdown",
   "metadata": {},
   "source": [
    "# PROBABILITY-RF"
   ]
  },
  {
   "cell_type": "code",
   "execution_count": 47,
   "metadata": {},
   "outputs": [
    {
     "data": {
      "text/plain": [
       "array([0.58131069, 0.42553846, 0.65957809, ..., 0.43150485, 0.74364724,\n",
       "       0.30821162])"
      ]
     },
     "execution_count": 47,
     "metadata": {},
     "output_type": "execute_result"
    }
   ],
   "source": [
    "y_test_proba =rnd_clf.predict_proba(X_test)\n",
    "y_test_proba[:,1]"
   ]
  },
  {
   "cell_type": "code",
   "execution_count": 48,
   "metadata": {},
   "outputs": [],
   "source": [
    "from sklearn.preprocessing import binarize\n",
    "y_pred_Set_T = binarize(y_test_proba, 0.75)"
   ]
  },
  {
   "cell_type": "code",
   "execution_count": 49,
   "metadata": {},
   "outputs": [],
   "source": [
    "y_pred_Set_T=y_pred_Set_T[:,1]"
   ]
  },
  {
   "cell_type": "code",
   "execution_count": 50,
   "metadata": {},
   "outputs": [
    {
     "data": {
      "text/plain": [
       "array([[9839,  437],\n",
       "       [3705,  411]], dtype=int64)"
      ]
     },
     "execution_count": 50,
     "metadata": {},
     "output_type": "execute_result"
    }
   ],
   "source": [
    "conf_matrix = confusion_matrix(y_test, y_pred_Set_T)\n",
    "conf_matrix"
   ]
  },
  {
   "cell_type": "code",
   "execution_count": 51,
   "metadata": {},
   "outputs": [
    {
     "data": {
      "text/plain": [
       "0.09985422740524781"
      ]
     },
     "execution_count": 51,
     "metadata": {},
     "output_type": "execute_result"
    }
   ],
   "source": [
    "recall_score(y_test, y_pred_Set_T)"
   ]
  },
  {
   "cell_type": "code",
   "execution_count": 52,
   "metadata": {},
   "outputs": [
    {
     "data": {
      "text/plain": [
       "0.4846698113207547"
      ]
     },
     "execution_count": 52,
     "metadata": {},
     "output_type": "execute_result"
    }
   ],
   "source": [
    "precision_score(y_test, y_pred_Set_T)"
   ]
  },
  {
   "cell_type": "code",
   "execution_count": 79,
   "metadata": {},
   "outputs": [
    {
     "name": "stdout",
     "output_type": "stream",
     "text": [
      " Precision =  [0.2765499  0.27649962 0.27644933 ... 0.66666667 1.         1.        ] \n",
      " Recalls =  [1.00000000e+00 9.99748681e-01 9.99497361e-01 ... 5.02638854e-04\n",
      " 5.02638854e-04 0.00000000e+00] \n",
      " Thresholds =  [0.29948424 0.29977871 0.30338401 ... 0.8248423  0.82815435 0.82926166]\n"
     ]
    },
    {
     "data": {
      "image/png": "[encoded data removed]",
      "text/plain": [
       "<Figure size 432x288 with 1 Axes>"
      ]
     },
     "metadata": {
      "needs_background": "light"
     },
     "output_type": "display_data"
    }
   ],
   "source": [
    "precisions, recalls, thresholds = precision_recall_curve(y_true = y_test, probas_pred =y_test_proba[:,1])\n",
    "print(\" Precision = \", precisions, \"\\n\", \"Recalls = \", recalls, \"\\n\", \"Thresholds = \", thresholds)\n",
    "\n",
    "def plot_precision_recall_vs_threshold (precisions, recalls, thresholds, color = \"k\", label = None):\n",
    "    plt.plot (thresholds, precisions[:-1], color+\"--\", label=\"Precision \"+label)\n",
    "    plt.plot (thresholds, recalls[:-1], color+\"-\", label=\"Recall \"+label)\n",
    "    plt.xlabel(\"Threshold\")\n",
    "    plt.legend(loc=\"upper right\")\n",
    "    plt.ylim([0,1])\n",
    "    \n",
    "plot_precision_recall_vs_threshold( precisions, recalls, thresholds, color = \"b\", label=\"RF\")\n",
    "plt.legend(loc = \"best\")\n",
    "plt.show()"
   ]
  },
  {
   "cell_type": "code",
   "execution_count": 53,
   "metadata": {},
   "outputs": [
    {
     "data": {
      "image/png": "[encoded data removed]",
      "text/plain": [
       "<Figure size 432x288 with 1 Axes>"
      ]
     },
     "metadata": {
      "needs_background": "light"
     },
     "output_type": "display_data"
    }
   ],
   "source": [
    "fpr, tpr, thresholds = roc_curve(y_test, y_test_proba[:,1])\n",
    "\n",
    "def plot_roc_curve (fpr, tpr, label = None):\n",
    "    plt.plot(fpr, tpr, linewidth = 2, label = label)\n",
    "    plt.plot([0,1], [0,1], \"k--\")\n",
    "    plt.axis([0,1,0,1])\n",
    "    plt.xlabel(\"False positive rate\")\n",
    "    plt.ylabel(\"True positive rate\")\n",
    "    \n",
    "plot_roc_curve (fpr, tpr, \"tree\")\n",
    "plt.show()"
   ]
  },
  {
   "cell_type": "markdown",
   "metadata": {},
   "source": [
    "# PROBABILITY-GBM"
   ]
  },
  {
   "cell_type": "code",
   "execution_count": 65,
   "metadata": {},
   "outputs": [
    {
     "data": {
      "text/plain": [
       "array([[0.72952312, 0.27047688],\n",
       "       [0.83864717, 0.16135283],\n",
       "       [0.75800084, 0.24199916],\n",
       "       ...,\n",
       "       [0.82942594, 0.17057406],\n",
       "       [0.62772361, 0.37227639],\n",
       "       [0.78429418, 0.21570582]])"
      ]
     },
     "execution_count": 65,
     "metadata": {},
     "output_type": "execute_result"
    }
   ],
   "source": [
    "y_test_proba =clf_gb.predict_proba(X_test)\n",
    "y_test_proba[:,1]\n",
    "y_test_proba"
   ]
  },
  {
   "cell_type": "code",
   "execution_count": 71,
   "metadata": {},
   "outputs": [],
   "source": [
    "from sklearn.preprocessing import binarize\n",
    "y_pred_Set_T = binarize(y_test_proba, 0.25)"
   ]
  },
  {
   "cell_type": "code",
   "execution_count": 72,
   "metadata": {},
   "outputs": [],
   "source": [
    "y_pred_Set_T=y_pred_Set_T[:,1]"
   ]
  },
  {
   "cell_type": "code",
   "execution_count": 73,
   "metadata": {},
   "outputs": [
    {
     "data": {
      "text/plain": [
       "array([[4443, 5833],\n",
       "       [1113, 3003]], dtype=int64)"
      ]
     },
     "execution_count": 73,
     "metadata": {},
     "output_type": "execute_result"
    }
   ],
   "source": [
    "conf_matrix = confusion_matrix(y_test, y_pred_Set_T)\n",
    "conf_matrix"
   ]
  },
  {
   "cell_type": "code",
   "execution_count": 74,
   "metadata": {},
   "outputs": [
    {
     "data": {
      "text/plain": [
       "0.7295918367346939"
      ]
     },
     "execution_count": 74,
     "metadata": {},
     "output_type": "execute_result"
    }
   ],
   "source": [
    "recall_score(y_test, y_pred_Set_T)"
   ]
  },
  {
   "cell_type": "code",
   "execution_count": 75,
   "metadata": {},
   "outputs": [
    {
     "data": {
      "text/plain": [
       "0.3398596650067904"
      ]
     },
     "execution_count": 75,
     "metadata": {},
     "output_type": "execute_result"
    }
   ],
   "source": [
    "precision_score(y_test, y_pred_Set_T)"
   ]
  },
  {
   "cell_type": "code",
   "execution_count": 76,
   "metadata": {},
   "outputs": [
    {
     "name": "stdout",
     "output_type": "stream",
     "text": [
      " Precision =  [0.28646993 0.28642027 0.28646015 ... 1.         1.         1.        ] \n",
      " Recalls =  [1.00000000e+00 9.99757046e-01 9.99757046e-01 ... 4.85908649e-04\n",
      " 2.42954325e-04 0.00000000e+00] \n",
      " Thresholds =  [0.12349729 0.12424802 0.12434558 ... 0.79544953 0.84033396 0.90537191]\n"
     ]
    },
    {
     "data": {
      "image/png": "[encoded data removed]",
      "text/plain": [
       "<Figure size 432x288 with 1 Axes>"
      ]
     },
     "metadata": {
      "needs_background": "light"
     },
     "output_type": "display_data"
    }
   ],
   "source": [
    "precisions, recalls, thresholds = precision_recall_curve(y_true = y_test, probas_pred =y_test_proba[:,1])\n",
    "print(\" Precision = \", precisions, \"\\n\", \"Recalls = \", recalls, \"\\n\", \"Thresholds = \", thresholds)\n",
    "\n",
    "def plot_precision_recall_vs_threshold (precisions, recalls, thresholds, color = \"k\", label = None):\n",
    "    plt.plot (thresholds, precisions[:-1], color+\"--\", label=\"Precision \"+label)\n",
    "    plt.plot (thresholds, recalls[:-1], color+\"-\", label=\"Recall \"+label)\n",
    "    plt.xlabel(\"Threshold\")\n",
    "    plt.legend(loc=\"upper right\")\n",
    "    plt.ylim([0,1])\n",
    "    \n",
    "plot_precision_recall_vs_threshold( precisions, recalls, thresholds, color = \"b\", label=\"RF\")\n",
    "plt.legend(loc = \"best\")\n",
    "plt.show()"
   ]
  },
  {
   "cell_type": "code",
   "execution_count": 77,
   "metadata": {},
   "outputs": [
    {
     "data": {
      "image/png": "[encoded data removed]",
      "text/plain": [
       "<Figure size 432x288 with 1 Axes>"
      ]
     },
     "metadata": {
      "needs_background": "light"
     },
     "output_type": "display_data"
    }
   ],
   "source": [
    "fpr, tpr, thresholds = roc_curve(y_test, y_test_proba[:,1])\n",
    "\n",
    "def plot_roc_curve (fpr, tpr, label = None):\n",
    "    plt.plot(fpr, tpr, linewidth = 2, label = label)\n",
    "    plt.plot([0,1], [0,1], \"k--\")\n",
    "    plt.axis([0,1,0,1])\n",
    "    plt.xlabel(\"False positive rate\")\n",
    "    plt.ylabel(\"True positive rate\")\n",
    "    \n",
    "plot_roc_curve (fpr, tpr, \"tree\")\n",
    "plt.show()"
   ]
  },
  {
   "cell_type": "code",
   "execution_count": null,
   "metadata": {},
   "outputs": [],
   "source": []
  }
 ],
 "metadata": {
  "kernelspec": {
   "display_name": "Python 3",
   "language": "python",
   "name": "python3"
  },
  "language_info": {
   "codemirror_mode": {
    "name": "ipython",
    "version": 3
   },
   "file_extension": ".py",
   "mimetype": "text/x-python",
   "name": "python",
   "nbconvert_exporter": "python",
   "pygments_lexer": "ipython3",
   "version": "3.7.0"
  }
 },
 "nbformat": 4,
 "nbformat_minor": 2
}
