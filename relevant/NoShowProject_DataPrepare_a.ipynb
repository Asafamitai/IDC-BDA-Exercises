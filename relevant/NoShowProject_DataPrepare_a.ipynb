{
 "cells": [
  {
   "cell_type": "code",
   "execution_count": 17,
   "metadata": {},
   "outputs": [],
   "source": [
    "import pandas as pd \n",
    "import numpy as np  \n",
    "import matplotlib.pyplot as plt \n",
    "%matplotlib inline \n",
    "import seaborn as sns\n",
    "import datetime\n",
    "from datetime import date, timedelta\n",
    "\n",
    "from sklearn.preprocessing import OneHotEncoder\n",
    "from sklearn.preprocessing import StandardScaler\n",
    "from sklearn.model_selection import train_test_split\n",
    "\n",
    "from sklearn.decomposition import PCA\n",
    "from sklearn.ensemble import RandomForestClassifier\n",
    "from sklearn.externals import joblib\n",
    "from scipy.stats import norm\n",
    "from sklearn.model_selection import train_test_split\n",
    "from pandas.plotting import scatter_matrix\n",
    "\n",
    "import pylab as pl\n",
    "from sklearn.preprocessing import MinMaxScaler\n",
    "from sklearn.preprocessing import StandardScaler\n",
    "\n",
    "import pickle\n",
    "\n",
    "from sklearn.tree import DecisionTreeClassifier\n",
    "\n",
    "from sklearn.tree import export_graphviz \n",
    "    #In the cmd line type: conda install python-graphviz\n",
    "import graphviz\n",
    "import os\n",
    "os.environ[\"PATH\"] += os.pathsep + 'D:/Program Files (x86)/Graphviz2.38/bin/'\n",
    "\n",
    "from sklearn.metrics import confusion_matrix\n",
    "from sklearn.metrics import precision_score, recall_score\n",
    "from sklearn.metrics import roc_curve\n",
    "from sklearn.ensemble import RandomForestClassifier"
   ]
  },
  {
   "cell_type": "code",
   "execution_count": 3,
   "metadata": {},
   "outputs": [],
   "source": [
    "df = pd.read_csv(\"no_show_original_data_2016_with_update_weather.csv\") \n",
    "df=df.drop(['Unnamed: 0'], axis=1)"
   ]
  },
  {
   "cell_type": "markdown",
   "metadata": {},
   "source": [
    "### Aranging the Data"
   ]
  },
  {
   "cell_type": "code",
   "execution_count": 6,
   "metadata": {},
   "outputs": [],
   "source": [
    "# הפיכת שדות מז\"א למספריים\n",
    "df['prcp']=df['prcp'].astype(float).astype(int)\n",
    "df['temp']=df['temp'].astype(float).astype(int)"
   ]
  },
  {
   "cell_type": "code",
   "execution_count": 7,
   "metadata": {},
   "outputs": [],
   "source": [
    "#הוספת שדה של יום בשבוע של הבדיקה\n",
    "dayOfWeek={0:'Monday', 1:'Tuesday', 2:'Wednesday', 3:'Thursday', 4:'Friday', 5:'Saturday', 6:'Sunday'}\n",
    "df['Appointment_Week_Day'] = df['AppointmentDay'].dt.dayofweek.map(dayOfWeek)"
   ]
  },
  {
   "cell_type": "code",
   "execution_count": 8,
   "metadata": {},
   "outputs": [],
   "source": [
    "#הוספת שדה של המרווח בין הבדיקות\n",
    "df['Delta_Dates'] = (df['AppointmentDay']-df['ScheduledDay']).dt.days\n",
    "# בדיקות שתואמו אחרי הבדיקה עצמה יופיעו כמינוס 1-כי לא הגיוני\n",
    "mask = df.Delta_Dates < 0\n",
    "column_name = 'Delta_Dates'\n",
    "df.loc[mask, column_name] = -1"
   ]
  },
  {
   "cell_type": "code",
   "execution_count": 9,
   "metadata": {},
   "outputs": [],
   "source": [
    "#Get Dummies לימי השבוע של הפגישה\n",
    "week_day=pd.get_dummies(df[\"Appointment_Week_Day\"])\n",
    "week_day[\"AppointmentID\"] = df[\"AppointmentID\"]\n",
    "df=df.merge(week_day, how='left', on='AppointmentID')\n",
    "df = df.drop(['Appointment_Week_Day'], axis=1)"
   ]
  },
  {
   "cell_type": "code",
   "execution_count": 10,
   "metadata": {},
   "outputs": [],
   "source": [
    "# מוסיף עמודה של כמות פגישות לכל מטופל\n",
    "a=df.groupby(['PatientId']).size().reset_index(name='Appointment_counts')\n",
    "df=df.merge(a, how='left', on='PatientId')\n",
    "#בדיקה עצמית לקוד\n",
    "#df.loc[df['PatientId'] == 1.885170e+14]"
   ]
  },
  {
   "cell_type": "markdown",
   "metadata": {},
   "source": [
    "## בניית דאטה אלף\n",
    "1\n",
    "פיצול לגילאים:\n",
    "0-15 KID\n",
    "16-25 YOUNG\n",
    "26-40 ADOULT\n",
    "41-~ OLD\n",
    "\n",
    "2\n",
    "חיתוך את כל מי שיש לו בדלתא תאריכים-פחות מ1 =אנשים שקבעו פגישה באותו יום או אחרי המועד שהתקיימה\n",
    "\n",
    "3\n",
    "הורדת שדות מיותרים\n",
    "נשארנו עם :\n",
    "'AppointmentDay', 'Scholarship', 'Hipertension', 'Diabetes',\n",
    "       'Alcoholism', 'Handcap', 'SMS_received', 'No-show', 'ScheduledWeekDay',\n",
    "       'prcp', 'temp', 'Gender_', 'No-show_', 'Delta_Dates', 'Friday',\n",
    "       'Monday', 'Saturday', 'Sunday', 'Thursday', 'Tuesday', 'Wednesday',\n",
    "       'Appointment_counts', 'ADOULT', 'KID', 'OLD', 'YOUNG'\n",
    "4\n",
    "שמירת הדאטה"
   ]
  },
  {
   "cell_type": "code",
   "execution_count": 10,
   "metadata": {},
   "outputs": [],
   "source": [
    "#פיצול לגילאים\n",
    "mask = df.Age < 16\n",
    "column_name = 'Age_Group'\n",
    "df.loc[mask, column_name] = 'KID'\n",
    "mask = df.Age > 15\n",
    "column_name = 'Age_Group'\n",
    "df.loc[mask, column_name] = 'YOUNG'\n",
    "mask = df.Age > 25\n",
    "column_name = 'Age_Group'\n",
    "df.loc[mask, column_name] = 'ADOULT'\n",
    "mask = df.Age > 40\n",
    "column_name = 'Age_Group'\n",
    "df.loc[mask, column_name] = 'OLD'\n",
    "\n",
    "#Get Dummies לגילאים\n",
    "Age_Groups=pd.get_dummies(df[\"Age_Group\"])\n",
    "Age_Groups[\"AppointmentID\"] = df[\"AppointmentID\"]\n",
    "df=df.merge(Age_Groups, how='left', on='AppointmentID')\n",
    "df = df.drop(['Age_Group'], axis=1)"
   ]
  },
  {
   "cell_type": "code",
   "execution_count": 11,
   "metadata": {},
   "outputs": [],
   "source": [
    "# חיתוך כל מי שיש לו דלתא קטנה מ1\n",
    "df = df.drop(df[df.Delta_Dates < 1].index)"
   ]
  },
  {
   "cell_type": "code",
   "execution_count": 12,
   "metadata": {},
   "outputs": [],
   "source": [
    "# הורדת שדות מיותרים\n",
    "df = df.drop(columns=['PatientId', 'AppointmentID', 'Gender', 'ScheduledDay', 'No-show','ScheduledWeekDay',\n",
    " 'Age', 'Neighbourhood', 'Neighbourhood_codes','AppointmentDay'], axis = 1)"
   ]
  },
  {
   "cell_type": "code",
   "execution_count": 15,
   "metadata": {},
   "outputs": [
    {
     "data": {
      "text/plain": [
       "Index(['SMS_received', 'Gender_', 'Delta_Dates', 'Scholarship', 'Hipertension',\n",
       "       'Diabetes', 'prcp', 'temp', 'Alcoholism', 'Handcap', 'Friday', 'Monday',\n",
       "       'Saturday', 'Sunday', 'Thursday', 'Tuesday', 'Wednesday',\n",
       "       'Appointment_counts', 'ADOULT', 'KID', 'OLD', 'YOUNG', 'No-show_'],\n",
       "      dtype='object')"
      ]
     },
     "execution_count": 15,
     "metadata": {},
     "output_type": "execute_result"
    }
   ],
   "source": [
    "df.columns"
   ]
  },
  {
   "cell_type": "code",
   "execution_count": 14,
   "metadata": {},
   "outputs": [],
   "source": [
    "new_index_order = [ 'SMS_received','Gender_','Delta_Dates','Scholarship', 'Hipertension', 'Diabetes','prcp',\n",
    "       'temp', 'Alcoholism', 'Handcap','Friday', 'Monday',\n",
    "       'Saturday', 'Sunday', 'Thursday', 'Tuesday', 'Wednesday',  'Appointment_counts','ADOULT', 'KID', 'OLD', 'YOUNG', 'No-show_']\n",
    "df = df.reindex(columns=new_index_order)"
   ]
  },
  {
   "cell_type": "code",
   "execution_count": 17,
   "metadata": {
    "collapsed": true
   },
   "outputs": [
    {
     "data": {
      "text/html": [
       "<div>\n",
       "<style scoped>\n",
       "    .dataframe tbody tr th:only-of-type {\n",
       "        vertical-align: middle;\n",
       "    }\n",
       "\n",
       "    .dataframe tbody tr th {\n",
       "        vertical-align: top;\n",
       "    }\n",
       "\n",
       "    .dataframe thead th {\n",
       "        text-align: right;\n",
       "    }\n",
       "</style>\n",
       "<table border=\"1\" class=\"dataframe\">\n",
       "  <thead>\n",
       "    <tr style=\"text-align: right;\">\n",
       "      <th></th>\n",
       "      <th>SMS_received</th>\n",
       "      <th>Gender_</th>\n",
       "      <th>Delta_Dates</th>\n",
       "      <th>Scholarship</th>\n",
       "      <th>Hipertension</th>\n",
       "      <th>Diabetes</th>\n",
       "      <th>prcp</th>\n",
       "      <th>temp</th>\n",
       "      <th>Alcoholism</th>\n",
       "      <th>Handcap</th>\n",
       "      <th>...</th>\n",
       "      <th>Sunday</th>\n",
       "      <th>Thursday</th>\n",
       "      <th>Tuesday</th>\n",
       "      <th>Wednesday</th>\n",
       "      <th>Appointment_counts</th>\n",
       "      <th>ADOULT</th>\n",
       "      <th>KID</th>\n",
       "      <th>OLD</th>\n",
       "      <th>YOUNG</th>\n",
       "      <th>No-show_</th>\n",
       "    </tr>\n",
       "  </thead>\n",
       "  <tbody>\n",
       "    <tr>\n",
       "      <th>1</th>\n",
       "      <td>0</td>\n",
       "      <td>1</td>\n",
       "      <td>2</td>\n",
       "      <td>0</td>\n",
       "      <td>0</td>\n",
       "      <td>0</td>\n",
       "      <td>0</td>\n",
       "      <td>22</td>\n",
       "      <td>0</td>\n",
       "      <td>0</td>\n",
       "      <td>...</td>\n",
       "      <td>0</td>\n",
       "      <td>0</td>\n",
       "      <td>0</td>\n",
       "      <td>0</td>\n",
       "      <td>1</td>\n",
       "      <td>0</td>\n",
       "      <td>1</td>\n",
       "      <td>0</td>\n",
       "      <td>0</td>\n",
       "      <td>0</td>\n",
       "    </tr>\n",
       "    <tr>\n",
       "      <th>2</th>\n",
       "      <td>1</td>\n",
       "      <td>1</td>\n",
       "      <td>4</td>\n",
       "      <td>0</td>\n",
       "      <td>0</td>\n",
       "      <td>0</td>\n",
       "      <td>0</td>\n",
       "      <td>22</td>\n",
       "      <td>0</td>\n",
       "      <td>0</td>\n",
       "      <td>...</td>\n",
       "      <td>0</td>\n",
       "      <td>0</td>\n",
       "      <td>0</td>\n",
       "      <td>0</td>\n",
       "      <td>2</td>\n",
       "      <td>0</td>\n",
       "      <td>1</td>\n",
       "      <td>0</td>\n",
       "      <td>0</td>\n",
       "      <td>0</td>\n",
       "    </tr>\n",
       "    <tr>\n",
       "      <th>3</th>\n",
       "      <td>0</td>\n",
       "      <td>1</td>\n",
       "      <td>2</td>\n",
       "      <td>0</td>\n",
       "      <td>0</td>\n",
       "      <td>0</td>\n",
       "      <td>0</td>\n",
       "      <td>22</td>\n",
       "      <td>0</td>\n",
       "      <td>0</td>\n",
       "      <td>...</td>\n",
       "      <td>0</td>\n",
       "      <td>0</td>\n",
       "      <td>0</td>\n",
       "      <td>0</td>\n",
       "      <td>1</td>\n",
       "      <td>0</td>\n",
       "      <td>1</td>\n",
       "      <td>0</td>\n",
       "      <td>0</td>\n",
       "      <td>0</td>\n",
       "    </tr>\n",
       "    <tr>\n",
       "      <th>7</th>\n",
       "      <td>0</td>\n",
       "      <td>0</td>\n",
       "      <td>1</td>\n",
       "      <td>0</td>\n",
       "      <td>0</td>\n",
       "      <td>0</td>\n",
       "      <td>0</td>\n",
       "      <td>22</td>\n",
       "      <td>0</td>\n",
       "      <td>0</td>\n",
       "      <td>...</td>\n",
       "      <td>0</td>\n",
       "      <td>0</td>\n",
       "      <td>0</td>\n",
       "      <td>0</td>\n",
       "      <td>1</td>\n",
       "      <td>0</td>\n",
       "      <td>1</td>\n",
       "      <td>0</td>\n",
       "      <td>0</td>\n",
       "      <td>1</td>\n",
       "    </tr>\n",
       "    <tr>\n",
       "      <th>12</th>\n",
       "      <td>1</td>\n",
       "      <td>0</td>\n",
       "      <td>29</td>\n",
       "      <td>0</td>\n",
       "      <td>0</td>\n",
       "      <td>0</td>\n",
       "      <td>0</td>\n",
       "      <td>22</td>\n",
       "      <td>0</td>\n",
       "      <td>0</td>\n",
       "      <td>...</td>\n",
       "      <td>0</td>\n",
       "      <td>0</td>\n",
       "      <td>0</td>\n",
       "      <td>0</td>\n",
       "      <td>1</td>\n",
       "      <td>0</td>\n",
       "      <td>1</td>\n",
       "      <td>0</td>\n",
       "      <td>0</td>\n",
       "      <td>0</td>\n",
       "    </tr>\n",
       "  </tbody>\n",
       "</table>\n",
       "<p>5 rows × 23 columns</p>\n",
       "</div>"
      ],
      "text/plain": [
       "    SMS_received  Gender_  Delta_Dates  Scholarship  Hipertension  Diabetes  \\\n",
       "1              0        1            2            0             0         0   \n",
       "2              1        1            4            0             0         0   \n",
       "3              0        1            2            0             0         0   \n",
       "7              0        0            1            0             0         0   \n",
       "12             1        0           29            0             0         0   \n",
       "\n",
       "    prcp  temp  Alcoholism  Handcap    ...     Sunday  Thursday  Tuesday  \\\n",
       "1      0    22           0        0    ...          0         0        0   \n",
       "2      0    22           0        0    ...          0         0        0   \n",
       "3      0    22           0        0    ...          0         0        0   \n",
       "7      0    22           0        0    ...          0         0        0   \n",
       "12     0    22           0        0    ...          0         0        0   \n",
       "\n",
       "    Wednesday  Appointment_counts  ADOULT  KID  OLD  YOUNG  No-show_  \n",
       "1           0                   1       0    1    0      0         0  \n",
       "2           0                   2       0    1    0      0         0  \n",
       "3           0                   1       0    1    0      0         0  \n",
       "7           0                   1       0    1    0      0         1  \n",
       "12          0                   1       0    1    0      0         0  \n",
       "\n",
       "[5 rows x 23 columns]"
      ]
     },
     "execution_count": 17,
     "metadata": {},
     "output_type": "execute_result"
    }
   ],
   "source": [
    "df.head()"
   ]
  },
  {
   "cell_type": "code",
   "execution_count": 29,
   "metadata": {
    "collapsed": true
   },
   "outputs": [
    {
     "name": "stdout",
     "output_type": "stream",
     "text": [
      "<class 'pandas.core.frame.DataFrame'>\n",
      "Int64Index: 49281 entries, 1 to 110522\n",
      "Data columns (total 24 columns):\n",
      "AppointmentDay        49281 non-null datetime64[ns]\n",
      "SMS_received          49281 non-null int64\n",
      "Gender_               49281 non-null int8\n",
      "Delta_Dates           49281 non-null int64\n",
      "Scholarship           49281 non-null int64\n",
      "Hipertension          49281 non-null int64\n",
      "Diabetes              49281 non-null int64\n",
      "prcp                  49281 non-null int32\n",
      "temp                  49281 non-null int32\n",
      "Alcoholism            49281 non-null int64\n",
      "Handcap               49281 non-null int64\n",
      "Friday                49281 non-null uint8\n",
      "Monday                49281 non-null uint8\n",
      "Saturday              49281 non-null uint8\n",
      "Sunday                49281 non-null uint8\n",
      "Thursday              49281 non-null uint8\n",
      "Tuesday               49281 non-null uint8\n",
      "Wednesday             49281 non-null uint8\n",
      "Appointment_counts    49281 non-null int64\n",
      "ADOULT                49281 non-null uint8\n",
      "KID                   49281 non-null uint8\n",
      "OLD                   49281 non-null uint8\n",
      "YOUNG                 49281 non-null uint8\n",
      "No-show_              49281 non-null int8\n",
      "dtypes: datetime64[ns](1), int32(2), int64(8), int8(2), uint8(11)\n",
      "memory usage: 4.7 MB\n"
     ]
    }
   ],
   "source": [
    "df.info()"
   ]
  },
  {
   "cell_type": "code",
   "execution_count": 19,
   "metadata": {},
   "outputs": [],
   "source": [
    "pickle.dump(df, open(\"df_a.dat\", \"wb\"))"
   ]
  },
  {
   "cell_type": "markdown",
   "metadata": {},
   "source": [
    "# בניית דאטה ב\n",
    " חיתוך את כל מי שיש לו בדלתא תאריכים-פחות מ1 =אנשים שקבעו פגישה באותו יום או אחרי המועד שהתקיימה\n",
    "\n",
    "3 הורדת שדות מיותרים נשארנו עם : 'AppointmentDay', 'Scholarship', 'Hipertension', 'Diabetes', 'Alcoholism', 'Handcap', 'SMS_received', 'No-show', 'ScheduledWeekDay', 'prcp', 'temp', 'Gender_', 'No-show_', 'Delta_Dates', 'Friday', 'Monday', 'Saturday', 'Sunday', 'Thursday', 'Tuesday', 'Wednesday', 'Appointment_counts', 'ADOULT', 'KID', 'OLD', 'YOUNG' 4 שמירת הדאטה"
   ]
  },
  {
   "cell_type": "code",
   "execution_count": 2,
   "metadata": {},
   "outputs": [],
   "source": [
    "df = pd.read_csv(\"no_show_original_data_2016.csv\") "
   ]
  },
  {
   "cell_type": "code",
   "execution_count": 3,
   "metadata": {},
   "outputs": [],
   "source": [
    "#ScheduledDay קיצוץ התאריך של והופך את התאריך לסוג דייטיים\n",
    "df['ScheduledDay'] =df['ScheduledDay'].apply(str)\n",
    "df['ScheduledDay'] = df['ScheduledDay'].str.slice(0, 10, 1) \n",
    "df['ScheduledDay'] =  pd.to_datetime(df['ScheduledDay'], format='%Y-%m-%d')"
   ]
  },
  {
   "cell_type": "code",
   "execution_count": 4,
   "metadata": {},
   "outputs": [],
   "source": [
    "#AppointmentDay הופך את התאריך לסוג דייטיים\n",
    "df['AppointmentDay'] =df['AppointmentDay'].apply(str)\n",
    "df['AppointmentDay'] = df['AppointmentDay'].str.slice(0, 10, 1) \n",
    "df['AppointmentDay'] =  pd.to_datetime(df['AppointmentDay'], format='%Y-%m-%d')"
   ]
  },
  {
   "cell_type": "code",
   "execution_count": 5,
   "metadata": {},
   "outputs": [],
   "source": [
    "# הכנסת קודים לשכונות\n",
    "df.loc[:, 'Neighbourhood_codes'] = df[\"Neighbourhood\"].astype(\"category\").cat.codes+1\n",
    "# הפיכת שדות קטגוריים לבינריים\n",
    "df.loc[:, 'Gender_'] = df[\"Gender\"].astype(\"category\").cat.codes\n",
    "#Woman=0, Man=1\n",
    "df.loc[:, 'No-show_'] = df[\"No-show\"].astype(\"category\").cat.codes\n",
    "#show=0, no-show=1 "
   ]
  },
  {
   "cell_type": "code",
   "execution_count": 6,
   "metadata": {},
   "outputs": [],
   "source": [
    "#הוספת שדה של יום בשבוע של הבדיקה\n",
    "dayOfWeek={0:'Monday', 1:'Tuesday', 2:'Wednesday', 3:'Thursday', 4:'Friday', 5:'Saturday', 6:'Sunday'}\n",
    "df['Appointment_Week_Day'] = df['AppointmentDay'].dt.dayofweek.map(dayOfWeek)"
   ]
  },
  {
   "cell_type": "code",
   "execution_count": 7,
   "metadata": {},
   "outputs": [],
   "source": [
    "#הוספת שדה של המרווח בין הבדיקות\n",
    "df['Delta_Dates'] = (df['AppointmentDay']-df['ScheduledDay']).dt.days\n",
    "# בדיקות שתואמו אחרי הבדיקה עצמה יופיעו כמינוס 1-כי לא הגיוני\n",
    "mask = df.Delta_Dates < 0\n",
    "column_name = 'Delta_Dates'\n",
    "df.loc[mask, column_name] = -1"
   ]
  },
  {
   "cell_type": "code",
   "execution_count": 11,
   "metadata": {},
   "outputs": [],
   "source": [
    "# חיתוך כל מי שיש לו דלתא קטנה מ1\n",
    "df = df.drop(df[df.Delta_Dates < 1].index)"
   ]
  },
  {
   "cell_type": "code",
   "execution_count": 8,
   "metadata": {},
   "outputs": [],
   "source": [
    "#Get Dummies לימי השבוע של הפגישה\n",
    "week_day=pd.get_dummies(df[\"Appointment_Week_Day\"])\n",
    "week_day[\"AppointmentID\"] = df[\"AppointmentID\"]\n",
    "df=df.merge(week_day, how='left', on='AppointmentID')\n",
    "df = df.drop(['Appointment_Week_Day'], axis=1)"
   ]
  },
  {
   "cell_type": "code",
   "execution_count": 10,
   "metadata": {},
   "outputs": [],
   "source": [
    "# מוסיף עמודה של כמות פגישות לכל מטופל\n",
    "a=df.groupby(['PatientId']).size().reset_index(name='Appointment_counts')\n",
    "df=df.merge(a, how='left', on='PatientId')\n",
    "#בדיקה עצמית לקוד\n",
    "#df.loc[df['PatientId'] == 1.885170e+14]"
   ]
  },
  {
   "cell_type": "code",
   "execution_count": 13,
   "metadata": {},
   "outputs": [],
   "source": [
    "#Get Dummies לשכונות\n",
    "NC=pd.get_dummies(df[\"Neighbourhood_codes\"])\n",
    "NC[\"AppointmentID\"] = df[\"AppointmentID\"]\n",
    "df=df.merge(NC, how='left', on='AppointmentID')"
   ]
  },
  {
   "cell_type": "code",
   "execution_count": 18,
   "metadata": {},
   "outputs": [],
   "source": [
    "df[\"yesterday\"] = df[\"AppointmentDay\"] - timedelta(1)"
   ]
  },
  {
   "cell_type": "code",
   "execution_count": 21,
   "metadata": {},
   "outputs": [],
   "source": [
    "# הורדת שדות מיותרים\n",
    "#df = df.drop(columns=['PatientId', 'AppointmentID', 'Gender', 'ScheduledDay', 'No-show', 'Neighbourhood', 'Neighbourhood_codes','AppointmentDay'], axis = 1)"
   ]
  },
  {
   "cell_type": "code",
   "execution_count": 22,
   "metadata": {},
   "outputs": [
    {
     "data": {
      "text/plain": [
       "Index([               'Age',        'Scholarship',       'Hipertension',\n",
       "                 'Diabetes',         'Alcoholism',            'Handcap',\n",
       "             'SMS_received',            'Gender_',           'No-show_',\n",
       "              'Delta_Dates',             'Friday',             'Monday',\n",
       "                 'Saturday',           'Thursday',            'Tuesday',\n",
       "                'Wednesday', 'Appointment_counts',                    1,\n",
       "                          2,                    3,                    4,\n",
       "                          5,                    6,                    7,\n",
       "                          8,                    9,                   10,\n",
       "                         11,                   12,                   13,\n",
       "                         14,                   15,                   16,\n",
       "                         17,                   18,                   19,\n",
       "                         20,                   21,                   22,\n",
       "                         23,                   24,                   25,\n",
       "                         26,                   27,                   28,\n",
       "                         29,                   30,                   31,\n",
       "                         32,                   33,                   34,\n",
       "                         35,                   36,                   37,\n",
       "                         38,                   39,                   40,\n",
       "                         41,                   42,                   43,\n",
       "                         44,                   45,                   46,\n",
       "                         47,                   48,                   49,\n",
       "                         50,                   51,                   53,\n",
       "                         54,                   55,                   56,\n",
       "                         57,                   58,                   59,\n",
       "                         60,                   61,                   62,\n",
       "                         63,                   64,                   65,\n",
       "                         66,                   67,                   68,\n",
       "                         69,                   70,                   71,\n",
       "                         72,                   73,                   74,\n",
       "                         75,                   76,                   77,\n",
       "                         78,                   79,                   80,\n",
       "                         81],\n",
       "      dtype='object')"
      ]
     },
     "execution_count": 22,
     "metadata": {},
     "output_type": "execute_result"
    }
   ],
   "source": [
    "df.columns"
   ]
  },
  {
   "cell_type": "markdown",
   "metadata": {},
   "source": [
    "new_index_order = ['Age','Gender_','Delta_Dates','SMS_received', 'Friday', 'Monday', 'Saturday', 'Thursday', 'Tuesday', 'Wednesday','Scholarship', 'Hipertension', 'Diabetes', 'Alcoholism',\n",
    "       'Handcap','No-show_']\n",
    "df = df.reindex(columns=new_index_order)"
   ]
  },
  {
   "cell_type": "code",
   "execution_count": 24,
   "metadata": {},
   "outputs": [
    {
     "data": {
      "text/html": [
       "<div>\n",
       "<style scoped>\n",
       "    .dataframe tbody tr th:only-of-type {\n",
       "        vertical-align: middle;\n",
       "    }\n",
       "\n",
       "    .dataframe tbody tr th {\n",
       "        vertical-align: top;\n",
       "    }\n",
       "\n",
       "    .dataframe thead th {\n",
       "        text-align: right;\n",
       "    }\n",
       "</style>\n",
       "<table border=\"1\" class=\"dataframe\">\n",
       "  <thead>\n",
       "    <tr style=\"text-align: right;\">\n",
       "      <th></th>\n",
       "      <th>Age</th>\n",
       "      <th>Scholarship</th>\n",
       "      <th>Hipertension</th>\n",
       "      <th>Diabetes</th>\n",
       "      <th>Alcoholism</th>\n",
       "      <th>Handcap</th>\n",
       "      <th>SMS_received</th>\n",
       "      <th>Gender_</th>\n",
       "      <th>No-show_</th>\n",
       "      <th>Delta_Dates</th>\n",
       "      <th>...</th>\n",
       "      <th>72</th>\n",
       "      <th>73</th>\n",
       "      <th>74</th>\n",
       "      <th>75</th>\n",
       "      <th>76</th>\n",
       "      <th>77</th>\n",
       "      <th>78</th>\n",
       "      <th>79</th>\n",
       "      <th>80</th>\n",
       "      <th>81</th>\n",
       "    </tr>\n",
       "  </thead>\n",
       "  <tbody>\n",
       "    <tr>\n",
       "      <th>0</th>\n",
       "      <td>0</td>\n",
       "      <td>0</td>\n",
       "      <td>0</td>\n",
       "      <td>0</td>\n",
       "      <td>0</td>\n",
       "      <td>0</td>\n",
       "      <td>0</td>\n",
       "      <td>1</td>\n",
       "      <td>0</td>\n",
       "      <td>2</td>\n",
       "      <td>...</td>\n",
       "      <td>0</td>\n",
       "      <td>0</td>\n",
       "      <td>0</td>\n",
       "      <td>1</td>\n",
       "      <td>0</td>\n",
       "      <td>0</td>\n",
       "      <td>0</td>\n",
       "      <td>0</td>\n",
       "      <td>0</td>\n",
       "      <td>0</td>\n",
       "    </tr>\n",
       "    <tr>\n",
       "      <th>1</th>\n",
       "      <td>0</td>\n",
       "      <td>0</td>\n",
       "      <td>0</td>\n",
       "      <td>0</td>\n",
       "      <td>0</td>\n",
       "      <td>0</td>\n",
       "      <td>1</td>\n",
       "      <td>1</td>\n",
       "      <td>0</td>\n",
       "      <td>4</td>\n",
       "      <td>...</td>\n",
       "      <td>0</td>\n",
       "      <td>0</td>\n",
       "      <td>0</td>\n",
       "      <td>0</td>\n",
       "      <td>0</td>\n",
       "      <td>0</td>\n",
       "      <td>0</td>\n",
       "      <td>0</td>\n",
       "      <td>0</td>\n",
       "      <td>0</td>\n",
       "    </tr>\n",
       "    <tr>\n",
       "      <th>2</th>\n",
       "      <td>0</td>\n",
       "      <td>0</td>\n",
       "      <td>0</td>\n",
       "      <td>0</td>\n",
       "      <td>0</td>\n",
       "      <td>0</td>\n",
       "      <td>0</td>\n",
       "      <td>1</td>\n",
       "      <td>0</td>\n",
       "      <td>2</td>\n",
       "      <td>...</td>\n",
       "      <td>0</td>\n",
       "      <td>0</td>\n",
       "      <td>0</td>\n",
       "      <td>0</td>\n",
       "      <td>0</td>\n",
       "      <td>0</td>\n",
       "      <td>0</td>\n",
       "      <td>0</td>\n",
       "      <td>0</td>\n",
       "      <td>0</td>\n",
       "    </tr>\n",
       "    <tr>\n",
       "      <th>3</th>\n",
       "      <td>0</td>\n",
       "      <td>0</td>\n",
       "      <td>0</td>\n",
       "      <td>0</td>\n",
       "      <td>0</td>\n",
       "      <td>0</td>\n",
       "      <td>0</td>\n",
       "      <td>0</td>\n",
       "      <td>1</td>\n",
       "      <td>1</td>\n",
       "      <td>...</td>\n",
       "      <td>0</td>\n",
       "      <td>0</td>\n",
       "      <td>0</td>\n",
       "      <td>0</td>\n",
       "      <td>0</td>\n",
       "      <td>0</td>\n",
       "      <td>0</td>\n",
       "      <td>0</td>\n",
       "      <td>0</td>\n",
       "      <td>0</td>\n",
       "    </tr>\n",
       "    <tr>\n",
       "      <th>4</th>\n",
       "      <td>0</td>\n",
       "      <td>0</td>\n",
       "      <td>0</td>\n",
       "      <td>0</td>\n",
       "      <td>0</td>\n",
       "      <td>0</td>\n",
       "      <td>1</td>\n",
       "      <td>1</td>\n",
       "      <td>1</td>\n",
       "      <td>21</td>\n",
       "      <td>...</td>\n",
       "      <td>0</td>\n",
       "      <td>0</td>\n",
       "      <td>0</td>\n",
       "      <td>0</td>\n",
       "      <td>0</td>\n",
       "      <td>0</td>\n",
       "      <td>0</td>\n",
       "      <td>0</td>\n",
       "      <td>0</td>\n",
       "      <td>0</td>\n",
       "    </tr>\n",
       "  </tbody>\n",
       "</table>\n",
       "<p>5 rows × 97 columns</p>\n",
       "</div>"
      ],
      "text/plain": [
       "   Age  Scholarship  Hipertension  Diabetes  Alcoholism  Handcap  \\\n",
       "0    0            0             0         0           0        0   \n",
       "1    0            0             0         0           0        0   \n",
       "2    0            0             0         0           0        0   \n",
       "3    0            0             0         0           0        0   \n",
       "4    0            0             0         0           0        0   \n",
       "\n",
       "   SMS_received  Gender_  No-show_  Delta_Dates ...  72  73  74  75  76  77  \\\n",
       "0             0        1         0            2 ...   0   0   0   1   0   0   \n",
       "1             1        1         0            4 ...   0   0   0   0   0   0   \n",
       "2             0        1         0            2 ...   0   0   0   0   0   0   \n",
       "3             0        0         1            1 ...   0   0   0   0   0   0   \n",
       "4             1        1         1           21 ...   0   0   0   0   0   0   \n",
       "\n",
       "   78  79  80  81  \n",
       "0   0   0   0   0  \n",
       "1   0   0   0   0  \n",
       "2   0   0   0   0  \n",
       "3   0   0   0   0  \n",
       "4   0   0   0   0  \n",
       "\n",
       "[5 rows x 97 columns]"
      ]
     },
     "execution_count": 24,
     "metadata": {},
     "output_type": "execute_result"
    }
   ],
   "source": [
    "df.head()"
   ]
  },
  {
   "cell_type": "code",
   "execution_count": 137,
   "metadata": {},
   "outputs": [],
   "source": [
    "pickle.dump(df, open(\"df_c.dat\", \"wb\"))"
   ]
  }
 ],
 "metadata": {
  "kernelspec": {
   "display_name": "Python 3",
   "language": "python",
   "name": "python3"
  },
  "language_info": {
   "codemirror_mode": {
    "name": "ipython",
    "version": 3
   },
   "file_extension": ".py",
   "mimetype": "text/x-python",
   "name": "python",
   "nbconvert_exporter": "python",
   "pygments_lexer": "ipython3",
   "version": "3.6.5"
  }
 },
 "nbformat": 4,
 "nbformat_minor": 2
}
