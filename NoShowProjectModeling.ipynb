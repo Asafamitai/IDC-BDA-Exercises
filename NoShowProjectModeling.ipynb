{
 "cells": [
  {
   "cell_type": "code",
   "execution_count": 70,
   "metadata": {},
   "outputs": [],
   "source": [
    "import pandas as pd \n",
    "import numpy as np  \n",
    "import matplotlib.pyplot as plt \n",
    "%matplotlib inline \n",
    "import seaborn as sns\n",
    "import datetime\n",
    "from sklearn.metrics import roc_curve\n",
    "from sklearn import ensemble\n",
    "\n",
    "from sklearn.preprocessing import OneHotEncoder\n",
    "from sklearn.preprocessing import StandardScaler\n",
    "from sklearn.model_selection import train_test_split\n",
    "\n",
    "from sklearn.decomposition import PCA\n",
    "from sklearn.ensemble import RandomForestClassifier\n",
    "\n",
    "from sklearn.externals import joblib\n",
    "from scipy.stats import norm\n",
    "from sklearn.model_selection import train_test_split\n",
    "from pandas.plotting import scatter_matrix\n",
    "\n",
    "import pylab as pl\n",
    "from sklearn.preprocessing import MinMaxScaler\n",
    "from sklearn.preprocessing import StandardScaler\n",
    "from sklearn.metrics import precision_recall_curve\n",
    "\n",
    "import pickle\n",
    "\n",
    "from sklearn.tree import DecisionTreeClassifier\n",
    "\n",
    "from sklearn.tree import export_graphviz \n",
    "    #In the cmd line type: conda install python-graphviz\n",
    "import graphviz\n",
    "import os\n",
    "os.environ[\"PATH\"] += os.pathsep + 'D:/Program Files (x86)/Graphviz2.38/bin/'\n",
    "\n",
    "from sklearn.metrics import confusion_matrix\n",
    "from sklearn.metrics import precision_score, recall_score\n",
    "from sklearn.metrics import roc_curve\n",
    "from sklearn.ensemble import RandomForestClassifier"
   ]
  },
  {
   "cell_type": "code",
   "execution_count": 2,
   "metadata": {},
   "outputs": [],
   "source": [
    "df = pickle.load(open(\"df_c.dat\", \"rb\"))"
   ]
  },
  {
   "cell_type": "code",
   "execution_count": 3,
   "metadata": {},
   "outputs": [
    {
     "data": {
      "text/html": [
       "<div>\n",
       "<style scoped>\n",
       "    .dataframe tbody tr th:only-of-type {\n",
       "        vertical-align: middle;\n",
       "    }\n",
       "\n",
       "    .dataframe tbody tr th {\n",
       "        vertical-align: top;\n",
       "    }\n",
       "\n",
       "    .dataframe thead th {\n",
       "        text-align: right;\n",
       "    }\n",
       "</style>\n",
       "<table border=\"1\" class=\"dataframe\">\n",
       "  <thead>\n",
       "    <tr style=\"text-align: right;\">\n",
       "      <th></th>\n",
       "      <th>Age</th>\n",
       "      <th>Scholarship</th>\n",
       "      <th>Hipertension</th>\n",
       "      <th>Diabetes</th>\n",
       "      <th>Alcoholism</th>\n",
       "      <th>Handcap</th>\n",
       "      <th>SMS_received</th>\n",
       "      <th>Gender_</th>\n",
       "      <th>No-show_</th>\n",
       "      <th>Delta_Dates</th>\n",
       "      <th>...</th>\n",
       "      <th>72</th>\n",
       "      <th>73</th>\n",
       "      <th>74</th>\n",
       "      <th>75</th>\n",
       "      <th>76</th>\n",
       "      <th>77</th>\n",
       "      <th>78</th>\n",
       "      <th>79</th>\n",
       "      <th>80</th>\n",
       "      <th>81</th>\n",
       "    </tr>\n",
       "  </thead>\n",
       "  <tbody>\n",
       "    <tr>\n",
       "      <th>71954</th>\n",
       "      <td>102</td>\n",
       "      <td>0</td>\n",
       "      <td>0</td>\n",
       "      <td>0</td>\n",
       "      <td>0</td>\n",
       "      <td>0</td>\n",
       "      <td>0</td>\n",
       "      <td>0</td>\n",
       "      <td>0</td>\n",
       "      <td>2</td>\n",
       "      <td>...</td>\n",
       "      <td>0</td>\n",
       "      <td>0</td>\n",
       "      <td>0</td>\n",
       "      <td>0</td>\n",
       "      <td>0</td>\n",
       "      <td>0</td>\n",
       "      <td>0</td>\n",
       "      <td>0</td>\n",
       "      <td>0</td>\n",
       "      <td>0</td>\n",
       "    </tr>\n",
       "    <tr>\n",
       "      <th>71955</th>\n",
       "      <td>115</td>\n",
       "      <td>0</td>\n",
       "      <td>0</td>\n",
       "      <td>0</td>\n",
       "      <td>0</td>\n",
       "      <td>1</td>\n",
       "      <td>0</td>\n",
       "      <td>0</td>\n",
       "      <td>1</td>\n",
       "      <td>3</td>\n",
       "      <td>...</td>\n",
       "      <td>0</td>\n",
       "      <td>0</td>\n",
       "      <td>0</td>\n",
       "      <td>0</td>\n",
       "      <td>0</td>\n",
       "      <td>0</td>\n",
       "      <td>0</td>\n",
       "      <td>0</td>\n",
       "      <td>0</td>\n",
       "      <td>0</td>\n",
       "    </tr>\n",
       "    <tr>\n",
       "      <th>71956</th>\n",
       "      <td>115</td>\n",
       "      <td>0</td>\n",
       "      <td>0</td>\n",
       "      <td>0</td>\n",
       "      <td>0</td>\n",
       "      <td>1</td>\n",
       "      <td>0</td>\n",
       "      <td>0</td>\n",
       "      <td>1</td>\n",
       "      <td>3</td>\n",
       "      <td>...</td>\n",
       "      <td>0</td>\n",
       "      <td>0</td>\n",
       "      <td>0</td>\n",
       "      <td>0</td>\n",
       "      <td>0</td>\n",
       "      <td>0</td>\n",
       "      <td>0</td>\n",
       "      <td>0</td>\n",
       "      <td>0</td>\n",
       "      <td>0</td>\n",
       "    </tr>\n",
       "    <tr>\n",
       "      <th>71957</th>\n",
       "      <td>115</td>\n",
       "      <td>0</td>\n",
       "      <td>0</td>\n",
       "      <td>0</td>\n",
       "      <td>0</td>\n",
       "      <td>1</td>\n",
       "      <td>0</td>\n",
       "      <td>0</td>\n",
       "      <td>1</td>\n",
       "      <td>38</td>\n",
       "      <td>...</td>\n",
       "      <td>0</td>\n",
       "      <td>0</td>\n",
       "      <td>0</td>\n",
       "      <td>0</td>\n",
       "      <td>0</td>\n",
       "      <td>0</td>\n",
       "      <td>0</td>\n",
       "      <td>0</td>\n",
       "      <td>0</td>\n",
       "      <td>0</td>\n",
       "    </tr>\n",
       "    <tr>\n",
       "      <th>71958</th>\n",
       "      <td>115</td>\n",
       "      <td>0</td>\n",
       "      <td>1</td>\n",
       "      <td>0</td>\n",
       "      <td>0</td>\n",
       "      <td>0</td>\n",
       "      <td>1</td>\n",
       "      <td>0</td>\n",
       "      <td>0</td>\n",
       "      <td>15</td>\n",
       "      <td>...</td>\n",
       "      <td>0</td>\n",
       "      <td>0</td>\n",
       "      <td>0</td>\n",
       "      <td>0</td>\n",
       "      <td>0</td>\n",
       "      <td>1</td>\n",
       "      <td>0</td>\n",
       "      <td>0</td>\n",
       "      <td>0</td>\n",
       "      <td>0</td>\n",
       "    </tr>\n",
       "  </tbody>\n",
       "</table>\n",
       "<p>5 rows × 97 columns</p>\n",
       "</div>"
      ],
      "text/plain": [
       "       Age  Scholarship  Hipertension  Diabetes  Alcoholism  Handcap  \\\n",
       "71954  102            0             0         0           0        0   \n",
       "71955  115            0             0         0           0        1   \n",
       "71956  115            0             0         0           0        1   \n",
       "71957  115            0             0         0           0        1   \n",
       "71958  115            0             1         0           0        0   \n",
       "\n",
       "       SMS_received  Gender_  No-show_  Delta_Dates ...  72  73  74  75  76  \\\n",
       "71954             0        0         0            2 ...   0   0   0   0   0   \n",
       "71955             0        0         1            3 ...   0   0   0   0   0   \n",
       "71956             0        0         1            3 ...   0   0   0   0   0   \n",
       "71957             0        0         1           38 ...   0   0   0   0   0   \n",
       "71958             1        0         0           15 ...   0   0   0   0   0   \n",
       "\n",
       "       77  78  79  80  81  \n",
       "71954   0   0   0   0   0  \n",
       "71955   0   0   0   0   0  \n",
       "71956   0   0   0   0   0  \n",
       "71957   0   0   0   0   0  \n",
       "71958   1   0   0   0   0  \n",
       "\n",
       "[5 rows x 97 columns]"
      ]
     },
     "execution_count": 3,
     "metadata": {},
     "output_type": "execute_result"
    }
   ],
   "source": [
    "df.tail()"
   ]
  },
  {
   "cell_type": "code",
   "execution_count": 5,
   "metadata": {},
   "outputs": [],
   "source": [
    "# פיצול לטריין וטסט\n",
    "train_df, test_df= train_test_split(df, test_size = 0.2, random_state=7)\n",
    "y = train_df[\"No-show_\"]\n",
    "X = train_df.drop(['No-show_'], axis = 1)\n",
    "\n",
    "y_test=test_df[\"No-show_\"]\n",
    "X_test=test_df.drop(['No-show_'], axis = 1)"
   ]
  },
  {
   "cell_type": "markdown",
   "metadata": {},
   "source": [
    "# עץ החלטה גדול"
   ]
  },
  {
   "cell_type": "code",
   "execution_count": 6,
   "metadata": {},
   "outputs": [
    {
     "data": {
      "text/plain": [
       "DecisionTreeClassifier(class_weight=None, criterion='gini', max_depth=9,\n",
       "            max_features=None, max_leaf_nodes=None,\n",
       "            min_impurity_decrease=0.0, min_impurity_split=None,\n",
       "            min_samples_leaf=1, min_samples_split=2,\n",
       "            min_weight_fraction_leaf=0.0, presort=False, random_state=None,\n",
       "            splitter='best')"
      ]
     },
     "execution_count": 6,
     "metadata": {},
     "output_type": "execute_result"
    }
   ],
   "source": [
    "tree_clf = DecisionTreeClassifier (max_depth = 9)# class_weight={0:2,1:10})\n",
    "tree_clf.fit (X, y)"
   ]
  },
  {
   "cell_type": "code",
   "execution_count": 28,
   "metadata": {
    "collapsed": true
   },
   "outputs": [
    {
     "ename": "ValueError",
     "evalue": "Length of feature_names, 22 does not match number of features, 15",
     "output_type": "error",
     "traceback": [
      "\u001b[1;31m---------------------------------------------------------------------------\u001b[0m",
      "\u001b[1;31mValueError\u001b[0m                                Traceback (most recent call last)",
      "\u001b[1;32m<ipython-input-28-536c3b73c7cd>\u001b[0m in \u001b[0;36m<module>\u001b[1;34m()\u001b[0m\n\u001b[0;32m      8\u001b[0m        'Appointment_counts', 'ADOULT', 'KID', 'OLD', 'YOUNG' ],\n\u001b[0;32m      9\u001b[0m                            \u001b[0mclass_names\u001b[0m \u001b[1;33m=\u001b[0m \u001b[1;33m[\u001b[0m\u001b[1;34m\"show\"\u001b[0m\u001b[1;33m,\u001b[0m \u001b[1;34m\"no_show\"\u001b[0m \u001b[1;33m]\u001b[0m\u001b[1;33m,\u001b[0m\u001b[1;33m\u001b[0m\u001b[0m\n\u001b[1;32m---> 10\u001b[1;33m                            rounded = True, filled=True, special_characters=True)\n\u001b[0m\u001b[0;32m     11\u001b[0m \u001b[0mgraph\u001b[0m \u001b[1;33m=\u001b[0m \u001b[0mgraphviz\u001b[0m\u001b[1;33m.\u001b[0m\u001b[0mSource\u001b[0m\u001b[1;33m(\u001b[0m\u001b[0mdot_data\u001b[0m\u001b[1;33m)\u001b[0m\u001b[1;33m\u001b[0m\u001b[0m\n\u001b[0;32m     12\u001b[0m \u001b[0mgraph\u001b[0m\u001b[1;33m\u001b[0m\u001b[0m\n",
      "\u001b[1;32m~\\Anaconda3\\lib\\site-packages\\sklearn\\tree\\export.py\u001b[0m in \u001b[0;36mexport_graphviz\u001b[1;34m(decision_tree, out_file, max_depth, feature_names, class_names, label, filled, leaves_parallel, impurity, node_ids, proportion, rotate, rounded, special_characters, precision)\u001b[0m\n\u001b[0;32m    427\u001b[0m                                  \u001b[1;34m\"does not match number of features, %d\"\u001b[0m\u001b[1;33m\u001b[0m\u001b[0m\n\u001b[0;32m    428\u001b[0m                                  % (len(feature_names),\n\u001b[1;32m--> 429\u001b[1;33m                                     decision_tree.n_features_))\n\u001b[0m\u001b[0;32m    430\u001b[0m \u001b[1;33m\u001b[0m\u001b[0m\n\u001b[0;32m    431\u001b[0m         \u001b[1;31m# The depth of each node for plotting with 'leaf' option\u001b[0m\u001b[1;33m\u001b[0m\u001b[1;33m\u001b[0m\u001b[0m\n",
      "\u001b[1;31mValueError\u001b[0m: Length of feature_names, 22 does not match number of features, 15"
     ]
    }
   ],
   "source": [
    "from sklearn.tree import export_graphviz #In the cmd line type: conda install python-graphviz\n",
    "import graphviz\n",
    "\n",
    "dot_data = export_graphviz(tree_clf, out_file = None, \n",
    "                           feature_names = ['SMS_received', 'Gender_', 'Delta_Dates', 'Scholarship', 'Hipertension',\n",
    "       'Diabetes', 'prcp', 'temp', 'Alcoholism', 'Handcap', 'Friday', 'Monday',\n",
    "       'Saturday', 'Sunday', 'Thursday', 'Tuesday', 'Wednesday',\n",
    "       'Appointment_counts', 'ADOULT', 'KID', 'OLD', 'YOUNG' ],\n",
    "                           class_names = [\"show\", \"no_show\" ],\n",
    "                           rounded = True, filled=True, special_characters=True)\n",
    "graph = graphviz.Source(dot_data) \n",
    "graph "
   ]
  },
  {
   "cell_type": "code",
   "execution_count": 7,
   "metadata": {},
   "outputs": [],
   "source": [
    "y_test_predict = tree_clf.predict (X_test)"
   ]
  },
  {
   "cell_type": "code",
   "execution_count": 8,
   "metadata": {},
   "outputs": [
    {
     "data": {
      "text/plain": [
       "array([[10118,   295],\n",
       "       [ 3763,   216]], dtype=int64)"
      ]
     },
     "execution_count": 8,
     "metadata": {},
     "output_type": "execute_result"
    }
   ],
   "source": [
    "conf_matrix = confusion_matrix(y_test, y_test_predict)\n",
    "conf_matrix"
   ]
  },
  {
   "cell_type": "code",
   "execution_count": 9,
   "metadata": {},
   "outputs": [
    {
     "data": {
      "text/plain": [
       "0.0542849962302086"
      ]
     },
     "execution_count": 9,
     "metadata": {},
     "output_type": "execute_result"
    }
   ],
   "source": [
    "recall_score(y_test, y_test_predict)"
   ]
  },
  {
   "cell_type": "code",
   "execution_count": 10,
   "metadata": {},
   "outputs": [
    {
     "data": {
      "text/plain": [
       "0.4227005870841487"
      ]
     },
     "execution_count": 10,
     "metadata": {},
     "output_type": "execute_result"
    }
   ],
   "source": [
    "precision_score(y_test, y_test_predict)"
   ]
  },
  {
   "cell_type": "markdown",
   "metadata": {},
   "source": [
    "## Random Forest"
   ]
  },
  {
   "cell_type": "code",
   "execution_count": 11,
   "metadata": {},
   "outputs": [],
   "source": [
    "rnd_clf = RandomForestClassifier(n_estimators=100,max_depth = 15 ,class_weight={0:2,1:10})\n",
    "rnd_clf.fit (X, y)\n",
    "y_pred_rf = rnd_clf.predict(X_test)"
   ]
  },
  {
   "cell_type": "code",
   "execution_count": 12,
   "metadata": {},
   "outputs": [
    {
     "data": {
      "text/plain": [
       "array([[ 769, 9644],\n",
       "       [ 140, 3839]], dtype=int64)"
      ]
     },
     "execution_count": 12,
     "metadata": {},
     "output_type": "execute_result"
    }
   ],
   "source": [
    "conf_matrix = confusion_matrix(y_test, y_pred_rf)\n",
    "conf_matrix"
   ]
  },
  {
   "cell_type": "code",
   "execution_count": 13,
   "metadata": {},
   "outputs": [
    {
     "data": {
      "text/plain": [
       "0.28472891789661053"
      ]
     },
     "execution_count": 13,
     "metadata": {},
     "output_type": "execute_result"
    }
   ],
   "source": [
    "precision_score(y_test, y_pred_rf)"
   ]
  },
  {
   "cell_type": "code",
   "execution_count": 14,
   "metadata": {},
   "outputs": [
    {
     "data": {
      "text/plain": [
       "0.9648152802211611"
      ]
     },
     "execution_count": 14,
     "metadata": {},
     "output_type": "execute_result"
    }
   ],
   "source": [
    "recall_score(y_test, y_pred_rf)"
   ]
  },
  {
   "cell_type": "markdown",
   "metadata": {},
   "source": [
    "## GBM "
   ]
  },
  {
   "cell_type": "code",
   "execution_count": 15,
   "metadata": {},
   "outputs": [],
   "source": [
    "clf_gb = ensemble.GradientBoostingClassifier(n_estimators=50,max_depth = 5)\n",
    "clf_gb.fit(X, y)\n",
    "y_pred_gb = clf_gb.predict(X_test)"
   ]
  },
  {
   "cell_type": "code",
   "execution_count": 16,
   "metadata": {},
   "outputs": [
    {
     "data": {
      "text/plain": [
       "array([[10327,    86],\n",
       "       [ 3901,    78]], dtype=int64)"
      ]
     },
     "execution_count": 16,
     "metadata": {},
     "output_type": "execute_result"
    }
   ],
   "source": [
    "confusion_matrix(y_test, y_pred_gb)"
   ]
  },
  {
   "cell_type": "code",
   "execution_count": 17,
   "metadata": {},
   "outputs": [
    {
     "data": {
      "text/plain": [
       "0.47560975609756095"
      ]
     },
     "execution_count": 17,
     "metadata": {},
     "output_type": "execute_result"
    }
   ],
   "source": [
    "precision_score(y_test, y_pred_gb)"
   ]
  },
  {
   "cell_type": "code",
   "execution_count": 18,
   "metadata": {},
   "outputs": [
    {
     "data": {
      "text/plain": [
       "0.019602915305353102"
      ]
     },
     "execution_count": 18,
     "metadata": {},
     "output_type": "execute_result"
    }
   ],
   "source": [
    "recall_score(y_test, y_pred_gb)"
   ]
  },
  {
   "cell_type": "markdown",
   "metadata": {},
   "source": [
    "# PROBABILITY-עץ גדול"
   ]
  },
  {
   "cell_type": "code",
   "execution_count": 19,
   "metadata": {},
   "outputs": [
    {
     "data": {
      "text/plain": [
       "array([[0.73454276, 0.26545724],\n",
       "       [0.72069825, 0.27930175],\n",
       "       [0.75383492, 0.24616508],\n",
       "       ...,\n",
       "       [0.82578397, 0.17421603],\n",
       "       [0.67710843, 0.32289157],\n",
       "       [0.68117409, 0.31882591]])"
      ]
     },
     "execution_count": 19,
     "metadata": {},
     "output_type": "execute_result"
    }
   ],
   "source": [
    "y_test_proba = tree_clf.predict_proba(X_test)\n",
    "y_test_proba[:,1]\n",
    "y_test_proba"
   ]
  },
  {
   "cell_type": "code",
   "execution_count": 20,
   "metadata": {},
   "outputs": [],
   "source": [
    "from sklearn.preprocessing import binarize\n",
    "# it will return 1 for all values above 0.3 and 0 otherwise\n",
    "y_pred_Set_T = binarize(y_test_proba, 0.05)"
   ]
  },
  {
   "cell_type": "code",
   "execution_count": 21,
   "metadata": {},
   "outputs": [],
   "source": [
    "y_pred_Set_T=y_pred_Set_T[:,1]"
   ]
  },
  {
   "cell_type": "code",
   "execution_count": 22,
   "metadata": {},
   "outputs": [
    {
     "data": {
      "text/plain": [
       "array([[   86, 10327],\n",
       "       [   30,  3949]], dtype=int64)"
      ]
     },
     "execution_count": 22,
     "metadata": {},
     "output_type": "execute_result"
    }
   ],
   "source": [
    "conf_matrix = confusion_matrix(y_test, y_pred_Set_T)\n",
    "conf_matrix"
   ]
  },
  {
   "cell_type": "code",
   "execution_count": 23,
   "metadata": {},
   "outputs": [
    {
     "data": {
      "text/plain": [
       "0.9924604171902488"
      ]
     },
     "execution_count": 23,
     "metadata": {},
     "output_type": "execute_result"
    }
   ],
   "source": [
    "recall_score(y_test, y_pred_Set_T)"
   ]
  },
  {
   "cell_type": "code",
   "execution_count": 24,
   "metadata": {},
   "outputs": [
    {
     "data": {
      "text/plain": [
       "0.2766181003082096"
      ]
     },
     "execution_count": 24,
     "metadata": {},
     "output_type": "execute_result"
    }
   ],
   "source": [
    "precision_score(y_test, y_pred_Set_T)"
   ]
  },
  {
   "cell_type": "code",
   "execution_count": 25,
   "metadata": {},
   "outputs": [
    {
     "name": "stdout",
     "output_type": "stream",
     "text": [
      " Precision =  [0.27647304 0.27623111 0.27638578 0.2766181  0.27657039 0.27665544\n",
      " 0.27671367 0.27670175 0.27661964 0.27697081 0.2775089  0.27822725\n",
      " 0.27834756 0.27845193 0.28168498 0.28302305 0.28377875 0.28370326\n",
      " 0.28374553 0.28338567 0.28335204 0.28341204 0.28362354 0.28441549\n",
      " 0.28445859 0.28853879 0.28913371 0.2892503  0.28966068 0.29198629\n",
      " 0.29476769 0.29790355 0.29844021 0.29831714 0.29836891 0.29999119\n",
      " 0.30008818 0.30085909 0.30378251 0.30366395 0.30371193 0.30346553\n",
      " 0.30344892 0.3034406  0.30343228 0.30816506 0.31103038 0.3124744\n",
      " 0.31256405 0.31391758 0.31391138 0.31593794 0.31886792 0.31924672\n",
      " 0.31928322 0.33241866 0.34144247 0.34159622 0.34211284 0.34216208\n",
      " 0.34171687 0.3413418  0.3414966  0.3433584  0.34378941 0.34340877\n",
      " 0.34352233 0.34612882 0.34954865 0.34994129 0.35195923 0.35215479\n",
      " 0.35384941 0.37316441 0.37352178 0.37391842 0.37406948 0.37461011\n",
      " 0.37895438 0.37965176 0.37992463 0.37928646 0.39146568 0.39520384\n",
      " 0.39528166 0.39537126 0.39543911 0.39565861 0.39633845 0.3971173\n",
      " 0.39183056 0.38705584 0.38431373 0.39640884 0.39915374 0.3974175\n",
      " 0.40029542 0.4058642  0.4052795  0.4047619  0.40510367 0.410299\n",
      " 0.41229656 0.41165756 0.41873805 0.41923077 0.42270059 0.426\n",
      " 0.43326039 0.44       0.44779582 0.44964871 0.45714286 0.45623342\n",
      " 0.45645646 0.4587156  0.45886076 0.45631068 0.46688742 0.46551724\n",
      " 0.46564885 0.45679012 0.45045045 0.45714286 0.45945946 0.45251397\n",
      " 0.49006623 0.5        0.51048951 0.5112782  0.51145038 0.46491228\n",
      " 0.48598131 0.49056604 0.4950495  0.5        0.48979592 0.49484536\n",
      " 0.48958333 0.48387097 0.48913043 0.49411765 0.49367089 0.50649351\n",
      " 0.51351351 0.51388889 0.48529412 1.        ] \n",
      " Recalls =  [1.         0.99246042 0.99246042 0.99246042 0.99145514 0.99120382\n",
      " 0.99120382 0.9909525  0.99044986 0.98718271 0.97989445 0.97662729\n",
      " 0.9753707  0.97461674 0.9663232  0.96280472 0.95802966 0.9572757\n",
      " 0.9572757  0.95250063 0.95174667 0.95023875 0.94973611 0.94345313\n",
      " 0.94345313 0.92058306 0.91681327 0.91631063 0.91178688 0.89922091\n",
      " 0.8848957  0.86780598 0.86554411 0.86428751 0.86428751 0.85624529\n",
      " 0.85524001 0.85373209 0.83965821 0.82483036 0.82457904 0.82307112\n",
      " 0.82256848 0.82231717 0.82206585 0.79391807 0.77456647 0.76677557\n",
      " 0.76652425 0.74088967 0.74063835 0.73184217 0.72204071 0.71575773\n",
      " 0.71198794 0.63935662 0.59964815 0.59914551 0.59738628 0.59738628\n",
      " 0.57024378 0.56773059 0.56773059 0.55089218 0.54812767 0.54536316\n",
      " 0.54511184 0.53480774 0.52550892 0.52425232 0.50339281 0.50314149\n",
      " 0.4204574  0.32570998 0.32545866 0.30409651 0.30309123 0.30183463\n",
      " 0.28600151 0.2794672  0.27871324 0.27519477 0.2121136  0.20708721\n",
      " 0.20633325 0.20608193 0.20482533 0.20155818 0.20130686 0.20080422\n",
      " 0.13018346 0.07665243 0.07388791 0.07212868 0.0711234  0.06961548\n",
      " 0.06810756 0.06609701 0.06559437 0.06408645 0.06383513 0.0620759\n",
      " 0.05730083 0.05679819 0.05503895 0.05478764 0.054285   0.05353104\n",
      " 0.04976125 0.04976125 0.04850465 0.04825333 0.04423222 0.04322694\n",
      " 0.03820055 0.03769791 0.03644132 0.03543604 0.03543604 0.03392812\n",
      " 0.03066097 0.02789646 0.02513194 0.02412666 0.02136215 0.02035687\n",
      " 0.01859764 0.01834632 0.01834632 0.01708972 0.0168384  0.01331993\n",
      " 0.01306861 0.01306861 0.01256597 0.01256597 0.01206333 0.01206333\n",
      " 0.01181201 0.01130937 0.01130937 0.01055542 0.00980146 0.00980146\n",
      " 0.00955014 0.00929882 0.00829354 0.        ] \n",
      " Thresholds =  [0.         0.04444444 0.046875   0.05555556 0.05714286 0.0625\n",
      " 0.07692308 0.08333333 0.09090909 0.09107468 0.09831461 0.11940299\n",
      " 0.125      0.12534309 0.12995595 0.13616071 0.13793103 0.14285714\n",
      " 0.14534884 0.14545455 0.14705882 0.16129032 0.16359447 0.16666667\n",
      " 0.16758105 0.16804408 0.17073171 0.17421603 0.18181818 0.18220339\n",
      " 0.18327759 0.18327974 0.1875     0.19047619 0.19392185 0.2\n",
      " 0.20526316 0.21357616 0.2164297  0.2173913  0.22222222 0.225\n",
      " 0.23076923 0.23529412 0.2382757  0.2392638  0.24086022 0.24137931\n",
      " 0.24616508 0.25       0.25230769 0.25613079 0.25980392 0.2606383\n",
      " 0.26541897 0.26545724 0.26923077 0.27096774 0.27272727 0.27930175\n",
      " 0.28205128 0.28571429 0.29032258 0.29824561 0.30656934 0.30769231\n",
      " 0.30793651 0.30895522 0.31707317 0.31882591 0.32       0.32027528\n",
      " 0.32289157 0.3255814  0.32806691 0.33333333 0.35135135 0.35153129\n",
      " 0.35428571 0.35555556 0.36       0.36015193 0.36050157 0.36111111\n",
      " 0.375      0.38461538 0.38582677 0.3902439  0.4        0.40602903\n",
      " 0.41105065 0.41111111 0.4137931  0.41573034 0.41666667 0.42105263\n",
      " 0.42335766 0.42857143 0.43636364 0.44       0.45614035 0.45794393\n",
      " 0.46153846 0.46363636 0.47058824 0.5        0.51162791 0.51492537\n",
      " 0.52173913 0.52631579 0.53571429 0.53892216 0.54       0.54736842\n",
      " 0.57142857 0.57446809 0.57777778 0.58333333 0.59459459 0.59803922\n",
      " 0.6        0.61643836 0.63636364 0.6547619  0.65714286 0.66666667\n",
      " 0.68       0.70588235 0.71428571 0.72222222 0.74193548 0.75\n",
      " 0.78571429 0.79166667 0.8        0.8125     0.81818182 0.83333333\n",
      " 0.85714286 0.88888889 0.9        0.90697674 0.91666667 0.92307692\n",
      " 0.92857143 0.9375     1.        ]\n"
     ]
    },
    {
     "data": {
      "image/png": "[encoded data removed]",
      "text/plain": [
       "<Figure size 432x288 with 1 Axes>"
      ]
     },
     "metadata": {
      "needs_background": "light"
     },
     "output_type": "display_data"
    }
   ],
   "source": [
    "precisions, recalls, thresholds = precision_recall_curve(y_true = y_test, probas_pred =y_test_proba[:,1])\n",
    "print(\" Precision = \", precisions, \"\\n\", \"Recalls = \", recalls, \"\\n\", \"Thresholds = \", thresholds)\n",
    "\n",
    "def plot_precision_recall_vs_threshold (precisions, recalls, thresholds, color = \"k\", label = None):\n",
    "    plt.plot (thresholds, precisions[:-1], color+\"--\", label=\"Precision \"+label)\n",
    "    plt.plot (thresholds, recalls[:-1], color+\"-\", label=\"Recall \"+label)\n",
    "    plt.xlabel(\"Threshold\")\n",
    "    plt.legend(loc=\"upper right\")\n",
    "    plt.ylim([0,1])\n",
    "    \n",
    "plot_precision_recall_vs_threshold( precisions, recalls, thresholds, color = \"b\", label=\"RF\")\n",
    "plt.legend(loc = \"best\")\n",
    "plt.show()"
   ]
  },
  {
   "cell_type": "code",
   "execution_count": 72,
   "metadata": {},
   "outputs": [
    {
     "data": {
      "image/png": "[encoded data removed]",
      "text/plain": [
       "<Figure size 432x288 with 1 Axes>"
      ]
     },
     "metadata": {
      "needs_background": "light"
     },
     "output_type": "display_data"
    }
   ],
   "source": [
    "fpr, tpr, thresholds = roc_curve(y_test, y_test_proba[:,1])\n",
    "\n",
    "def plot_roc_curve (fpr, tpr, label = None):\n",
    "    plt.plot(fpr, tpr, linewidth = 2, label = label)\n",
    "    plt.plot([0,1], [0,1], \"k--\")\n",
    "    plt.axis([0,1,0,1])\n",
    "    plt.xlabel(\"False positive rate\")\n",
    "    plt.ylabel(\"True positive rate\")\n",
    "    \n",
    "plot_roc_curve (fpr, tpr, \"tree\")\n",
    "plt.show()"
   ]
  },
  {
   "cell_type": "markdown",
   "metadata": {},
   "source": [
    "# PROBABILITY-RF"
   ]
  },
  {
   "cell_type": "code",
   "execution_count": 73,
   "metadata": {},
   "outputs": [
    {
     "data": {
      "text/plain": [
       "array([0.58725114, 0.6673819 , 0.65602669, ..., 0.56782975, 0.51863411,\n",
       "       0.62917164])"
      ]
     },
     "execution_count": 73,
     "metadata": {},
     "output_type": "execute_result"
    }
   ],
   "source": [
    "y_test_proba =rnd_clf.predict_proba(X_test)\n",
    "y_test_proba[:,1]"
   ]
  },
  {
   "cell_type": "code",
   "execution_count": 74,
   "metadata": {},
   "outputs": [],
   "source": [
    "from sklearn.preprocessing import binarize\n",
    "y_pred_Set_T = binarize(y_test_proba, 0.75)"
   ]
  },
  {
   "cell_type": "code",
   "execution_count": 75,
   "metadata": {},
   "outputs": [],
   "source": [
    "y_pred_Set_T=y_pred_Set_T[:,1]"
   ]
  },
  {
   "cell_type": "code",
   "execution_count": 76,
   "metadata": {},
   "outputs": [
    {
     "data": {
      "text/plain": [
       "array([[10134,   279],\n",
       "       [ 3716,   263]], dtype=int64)"
      ]
     },
     "execution_count": 76,
     "metadata": {},
     "output_type": "execute_result"
    }
   ],
   "source": [
    "conf_matrix = confusion_matrix(y_test, y_pred_Set_T)\n",
    "conf_matrix"
   ]
  },
  {
   "cell_type": "code",
   "execution_count": 77,
   "metadata": {},
   "outputs": [
    {
     "data": {
      "text/plain": [
       "0.0660970092988188"
      ]
     },
     "execution_count": 77,
     "metadata": {},
     "output_type": "execute_result"
    }
   ],
   "source": [
    "recall_score(y_test, y_pred_Set_T)"
   ]
  },
  {
   "cell_type": "code",
   "execution_count": 78,
   "metadata": {},
   "outputs": [
    {
     "data": {
      "text/plain": [
       "0.48523985239852396"
      ]
     },
     "execution_count": 78,
     "metadata": {},
     "output_type": "execute_result"
    }
   ],
   "source": [
    "precision_score(y_test, y_pred_Set_T)"
   ]
  },
  {
   "cell_type": "code",
   "execution_count": 79,
   "metadata": {},
   "outputs": [
    {
     "name": "stdout",
     "output_type": "stream",
     "text": [
      " Precision =  [0.2765499  0.27649962 0.27644933 ... 0.66666667 1.         1.        ] \n",
      " Recalls =  [1.00000000e+00 9.99748681e-01 9.99497361e-01 ... 5.02638854e-04\n",
      " 5.02638854e-04 0.00000000e+00] \n",
      " Thresholds =  [0.29948424 0.29977871 0.30338401 ... 0.8248423  0.82815435 0.82926166]\n"
     ]
    },
    {
     "data": {
      "image/png": "[encoded data removed]",
      "text/plain": [
       "<Figure size 432x288 with 1 Axes>"
      ]
     },
     "metadata": {
      "needs_background": "light"
     },
     "output_type": "display_data"
    }
   ],
   "source": [
    "precisions, recalls, thresholds = precision_recall_curve(y_true = y_test, probas_pred =y_test_proba[:,1])\n",
    "print(\" Precision = \", precisions, \"\\n\", \"Recalls = \", recalls, \"\\n\", \"Thresholds = \", thresholds)\n",
    "\n",
    "def plot_precision_recall_vs_threshold (precisions, recalls, thresholds, color = \"k\", label = None):\n",
    "    plt.plot (thresholds, precisions[:-1], color+\"--\", label=\"Precision \"+label)\n",
    "    plt.plot (thresholds, recalls[:-1], color+\"-\", label=\"Recall \"+label)\n",
    "    plt.xlabel(\"Threshold\")\n",
    "    plt.legend(loc=\"upper right\")\n",
    "    plt.ylim([0,1])\n",
    "    \n",
    "plot_precision_recall_vs_threshold( precisions, recalls, thresholds, color = \"b\", label=\"RF\")\n",
    "plt.legend(loc = \"best\")\n",
    "plt.show()"
   ]
  },
  {
   "cell_type": "code",
   "execution_count": 80,
   "metadata": {},
   "outputs": [
    {
     "data": {
      "image/png": "[encoded data removed]",
      "text/plain": [
       "<Figure size 432x288 with 1 Axes>"
      ]
     },
     "metadata": {
      "needs_background": "light"
     },
     "output_type": "display_data"
    }
   ],
   "source": [
    "fpr, tpr, thresholds = roc_curve(y_test, y_test_proba[:,1])\n",
    "\n",
    "def plot_roc_curve (fpr, tpr, label = None):\n",
    "    plt.plot(fpr, tpr, linewidth = 2, label = label)\n",
    "    plt.plot([0,1], [0,1], \"k--\")\n",
    "    plt.axis([0,1,0,1])\n",
    "    plt.xlabel(\"False positive rate\")\n",
    "    plt.ylabel(\"True positive rate\")\n",
    "    \n",
    "plot_roc_curve (fpr, tpr, \"tree\")\n",
    "plt.show()"
   ]
  },
  {
   "cell_type": "markdown",
   "metadata": {},
   "source": [
    "# PROBABILITY-GBM"
   ]
  },
  {
   "cell_type": "code",
   "execution_count": 81,
   "metadata": {},
   "outputs": [
    {
     "data": {
      "text/plain": [
       "array([[0.73882309, 0.26117691],\n",
       "       [0.70690879, 0.29309121],\n",
       "       [0.74175701, 0.25824299],\n",
       "       ...,\n",
       "       [0.75774251, 0.24225749],\n",
       "       [0.75907815, 0.24092185],\n",
       "       [0.71359428, 0.28640572]])"
      ]
     },
     "execution_count": 81,
     "metadata": {},
     "output_type": "execute_result"
    }
   ],
   "source": [
    "y_test_proba =clf_gb.predict_proba(X_test)\n",
    "y_test_proba[:,1]\n",
    "y_test_proba"
   ]
  },
  {
   "cell_type": "code",
   "execution_count": 89,
   "metadata": {},
   "outputs": [],
   "source": [
    "from sklearn.preprocessing import binarize\n",
    "y_pred_Set_T = binarize(y_test_proba, 0.8)"
   ]
  },
  {
   "cell_type": "code",
   "execution_count": 90,
   "metadata": {},
   "outputs": [],
   "source": [
    "y_pred_Set_T=y_pred_Set_T[:,1]"
   ]
  },
  {
   "cell_type": "code",
   "execution_count": 91,
   "metadata": {},
   "outputs": [
    {
     "data": {
      "text/plain": [
       "array([[10413,     0],\n",
       "       [ 3979,     0]], dtype=int64)"
      ]
     },
     "execution_count": 91,
     "metadata": {},
     "output_type": "execute_result"
    }
   ],
   "source": [
    "conf_matrix = confusion_matrix(y_test, y_pred_Set_T)\n",
    "conf_matrix"
   ]
  },
  {
   "cell_type": "code",
   "execution_count": 92,
   "metadata": {},
   "outputs": [
    {
     "data": {
      "text/plain": [
       "0.0"
      ]
     },
     "execution_count": 92,
     "metadata": {},
     "output_type": "execute_result"
    }
   ],
   "source": [
    "recall_score(y_test, y_pred_Set_T)"
   ]
  },
  {
   "cell_type": "code",
   "execution_count": 93,
   "metadata": {},
   "outputs": [
    {
     "name": "stderr",
     "output_type": "stream",
     "text": [
      "C:\\Users\\oripo\\Anaconda3\\lib\\site-packages\\sklearn\\metrics\\classification.py:1135: UndefinedMetricWarning: Precision is ill-defined and being set to 0.0 due to no predicted samples.\n",
      "  'precision', 'predicted', average, warn_for)\n"
     ]
    },
    {
     "data": {
      "text/plain": [
       "0.0"
      ]
     },
     "execution_count": 93,
     "metadata": {},
     "output_type": "execute_result"
    }
   ],
   "source": [
    "precision_score(y_test, y_pred_Set_T)"
   ]
  },
  {
   "cell_type": "code",
   "execution_count": 94,
   "metadata": {},
   "outputs": [
    {
     "name": "stdout",
     "output_type": "stream",
     "text": [
      " Precision =  [0.27653068 0.2764804  0.27651884 ... 0.         0.         1.        ] \n",
      " Recalls =  [1.         0.99974868 0.99974868 ... 0.         0.         0.        ] \n",
      " Thresholds =  [0.09723658 0.09814611 0.09922344 ... 0.70331372 0.70975823 0.71435253]\n"
     ]
    },
    {
     "data": {
      "image/png": "[encoded data removed]",
      "text/plain": [
       "<Figure size 432x288 with 1 Axes>"
      ]
     },
     "metadata": {
      "needs_background": "light"
     },
     "output_type": "display_data"
    }
   ],
   "source": [
    "precisions, recalls, thresholds = precision_recall_curve(y_true = y_test, probas_pred =y_test_proba[:,1])\n",
    "print(\" Precision = \", precisions, \"\\n\", \"Recalls = \", recalls, \"\\n\", \"Thresholds = \", thresholds)\n",
    "\n",
    "def plot_precision_recall_vs_threshold (precisions, recalls, thresholds, color = \"k\", label = None):\n",
    "    plt.plot (thresholds, precisions[:-1], color+\"--\", label=\"Precision \"+label)\n",
    "    plt.plot (thresholds, recalls[:-1], color+\"-\", label=\"Recall \"+label)\n",
    "    plt.xlabel(\"Threshold\")\n",
    "    plt.legend(loc=\"upper right\")\n",
    "    plt.ylim([0,1])\n",
    "    \n",
    "plot_precision_recall_vs_threshold( precisions, recalls, thresholds, color = \"b\", label=\"RF\")\n",
    "plt.legend(loc = \"best\")\n",
    "plt.show()"
   ]
  },
  {
   "cell_type": "code",
   "execution_count": 95,
   "metadata": {},
   "outputs": [
    {
     "data": {
      "image/png": "[encoded data removed]",
      "text/plain": [
       "<Figure size 432x288 with 1 Axes>"
      ]
     },
     "metadata": {
      "needs_background": "light"
     },
     "output_type": "display_data"
    }
   ],
   "source": [
    "fpr, tpr, thresholds = roc_curve(y_test, y_test_proba[:,1])\n",
    "\n",
    "def plot_roc_curve (fpr, tpr, label = None):\n",
    "    plt.plot(fpr, tpr, linewidth = 2, label = label)\n",
    "    plt.plot([0,1], [0,1], \"k--\")\n",
    "    plt.axis([0,1,0,1])\n",
    "    plt.xlabel(\"False positive rate\")\n",
    "    plt.ylabel(\"True positive rate\")\n",
    "    \n",
    "plot_roc_curve (fpr, tpr, \"tree\")\n",
    "plt.show()"
   ]
  },
  {
   "cell_type": "code",
   "execution_count": null,
   "metadata": {},
   "outputs": [],
   "source": []
  }
 ],
 "metadata": {
  "kernelspec": {
   "display_name": "Python 3",
   "language": "python",
   "name": "python3"
  },
  "language_info": {
   "codemirror_mode": {
    "name": "ipython",
    "version": 3
   },
   "file_extension": ".py",
   "mimetype": "text/x-python",
   "name": "python",
   "nbconvert_exporter": "python",
   "pygments_lexer": "ipython3",
   "version": "3.7.0"
  }
 },
 "nbformat": 4,
 "nbformat_minor": 2
}
