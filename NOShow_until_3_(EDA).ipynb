{
 "cells": [
  {
   "cell_type": "code",
   "execution_count": 24,
   "metadata": {},
   "outputs": [],
   "source": [
    "%matplotlib inline\n",
    "import numpy as np\n",
    "import pandas as pd\n",
    "import statsmodels.formula.api as sm\n",
    "import datetime\n",
    "from sklearn import metrics\n",
    "from sklearn.decomposition import PCA\n",
    "from sklearn.ensemble import RandomForestClassifier\n",
    "from sklearn.externals import joblib\n",
    "from scipy.stats import norm\n",
    "from sklearn.model_selection import train_test_split\n",
    "from pandas.plotting import scatter_matrix\n",
    "\n",
    "import pylab as pl\n",
    "import matplotlib.pyplot as plt\n",
    "import seaborn as sns\n",
    "%matplotlib inline \n",
    "\n",
    "from sklearn.preprocessing import MinMaxScaler\n",
    "from sklearn.preprocessing import StandardScaler\n",
    "\n",
    "import pickle\n"
   ]
  },
  {
   "cell_type": "code",
   "execution_count": null,
   "metadata": {},
   "outputs": [],
   "source": [
    "## לא רלוונטי יותר היה חשוב ליצירת הדאטה\n",
    "#df = pd.read_csv('no_show_original_data_2016.csv') #df = the original data from Kaggle\n",
    "\n",
    "#df_wether= pd.read_csv('Wether_vitaria_2016.csv')\n",
    "#df_wether.head()\n",
    "\n",
    "#df_wether_all_day=pd.DataFrame\n",
    "\n",
    "#df_wether_all_day=df_wether.groupby('date', as_index=False).agg({\"prcp\":\"mean\",\"temp\":\"mean\"})\n",
    "#df_wether_all_day['AppointmentDay'] = pd.to_datetime(df_wether_all_day['date'], format='%d-%m-%y')\n",
    "#df_wether_all_day.head()"
   ]
  },
  {
   "cell_type": "code",
   "execution_count": null,
   "metadata": {},
   "outputs": [],
   "source": [
    "##לא חשוב יותר-היה חשוב ליצירת הדאטה\n",
    "##This will create a new column called ScheduledWeekDay = it converts the date to the day of the week.\n",
    "#df['ScheduledDay'] = df['ScheduledDay'].astype('datetime64[ns]')\n",
    "#df['ScheduledDay'][0].weekday()\n",
    "#df.info()\n",
    "#df['ScheduledWeekDay'] = df['ScheduledDay'].apply(lambda x: x.weekday()+1)"
   ]
  },
  {
   "cell_type": "code",
   "execution_count": null,
   "metadata": {},
   "outputs": [],
   "source": [
    "## לא חשוב יותר היה רלוונטי ליצירת הדאטה\n",
    "#df['AppointmentDay']=df['AppointmentDay'].astype(str).str[:-4].astype(np.datetime64)#לעשות רק פעם אחת! זה מעיף את השטויות מהתאריך ומשאיר אותו רק עם תאריך\n",
    "#df['AppointmentDay']\n",
    "\n"
   ]
  },
  {
   "cell_type": "code",
   "execution_count": null,
   "metadata": {},
   "outputs": [],
   "source": [
    "##לא חשוב יותר, היה רלוונטי ליצירת הדאטה \n",
    "#df\n",
    "#df=df.merge(df_wether_all_day, how='left', on='AppointmentDay' )\n",
    "#df=df.drop(['date'], axis=1)\n",
    "#df.head()\n"
   ]
  },
  {
   "cell_type": "code",
   "execution_count": null,
   "metadata": {},
   "outputs": [],
   "source": [
    "#df.to_csv('no_show_original_data_2016_with_update_weather')\n",
    "\n"
   ]
  },
  {
   "cell_type": "code",
   "execution_count": null,
   "metadata": {},
   "outputs": [],
   "source": [
    "#df.isnull().sum()\n",
    "# ניתן לראות של86016 רשומות אין משקעים ביום, כלומר רק לחמישית מהנתונים יש\n",
    "#נכניס אפסים לכל המי שאין לו משקעים\n",
    "#df = df.fillna(value = \"0\")\n",
    "#df.isnull().sum()\n"
   ]
  },
  {
   "cell_type": "code",
   "execution_count": null,
   "metadata": {},
   "outputs": [],
   "source": [
    "# משורה זו שואבים את הדאטה החדשה והרלוונטית\n",
    "  \n",
    "#df=pd.read_csv('no_show_original_data_2016_with_update_weather')\n",
    "#df = df.drop(['Unnamed: 0'], axis=1)"
   ]
  },
  {
   "cell_type": "markdown",
   "metadata": {},
   "source": [
    "### Adding another column that states the delta between ScheduledDay and AppointmentDay\n"
   ]
  },
  {
   "cell_type": "code",
   "execution_count": null,
   "metadata": {},
   "outputs": [],
   "source": [
    "#df['ScheduledDay'] = pd.to_datetime(df['ScheduledDay'])\n",
    "#df['ScheduledDay_date'] = df['ScheduledDay'].dt.date\n",
    "#df['ScheduledDay_date'] = pd.to_datetime(df['ScheduledDay_date'])\n",
    "#df['AppointmentDay'] = pd.to_datetime(df['AppointmentDay'])\n",
    "#df['From_Schedualing_to_Appoitment'] = df['AppointmentDay']-df['ScheduledDay_date']\n",
    "#df = df.drop('ScheduledDay', 1)"
   ]
  },
  {
   "cell_type": "markdown",
   "metadata": {},
   "source": [
    "### adding a column of the day of the week of the appointment"
   ]
  },
  {
   "cell_type": "code",
   "execution_count": null,
   "metadata": {},
   "outputs": [],
   "source": [
    "#df['AppointmentDay'] = df['AppointmentDay'].astype('datetime64[ns]')\n",
    "#df['AppointmentDay'][0].weekday()\n",
    "#df['Appointment_WeekDay'] = df['AppointmentDay'].apply(lambda x: x.weekday()+2)"
   ]
  },
  {
   "cell_type": "markdown",
   "metadata": {},
   "source": [
    "### Droping the ScheduledWeekDay column"
   ]
  },
  {
   "cell_type": "code",
   "execution_count": null,
   "metadata": {},
   "outputs": [],
   "source": [
    "#df = df.drop('ScheduledWeekDay', 1)"
   ]
  },
  {
   "cell_type": "markdown",
   "metadata": {},
   "source": [
    "### changing the index (columns) order"
   ]
  },
  {
   "cell_type": "code",
   "execution_count": null,
   "metadata": {
    "scrolled": true
   },
   "outputs": [],
   "source": [
    "#new_index_order = ['PatientId', 'AppointmentID',  'Age', 'Gender', 'Neighbourhood', 'AppointmentDay', 'Appointment_WeekDay','From_Schedualing_to_Appoitment','prcp', 'temp', \n",
    "       #'Scholarship', 'Hipertension', 'Diabetes',\n",
    "      # 'Alcoholism', 'Handcap', 'SMS_received',\n",
    "     #  'ScheduledDay_date','No-show']\n",
    "#df = df.reindex(columns=new_index_order)"
   ]
  },
  {
   "cell_type": "code",
   "execution_count": null,
   "metadata": {},
   "outputs": [],
   "source": [
    "#df = pd.read_csv('no_show_original_data_2016_with_update_weather') #df = הדאטה אחרי שנוסף לו יום בשבוע, משקעים וטמפ' ממוצעים"
   ]
  },
  {
   "cell_type": "code",
   "execution_count": null,
   "metadata": {},
   "outputs": [],
   "source": [
    "#df.to_csv('no_show_final_data')\n",
    "#this is the data file we will until forther notice."
   ]
  },
  {
   "cell_type": "markdown",
   "metadata": {},
   "source": [
    "# START FROM HERE \n",
    "#### ALL OF THE ABOVE IS NOT RELEVANT ANYMORE"
   ]
  },
  {
   "cell_type": "code",
   "execution_count": 25,
   "metadata": {},
   "outputs": [],
   "source": [
    "df=pd.read_csv('no_show_final_data')\n",
    "df = df.drop(['Unnamed: 0'], axis=1)\n",
    "\n",
    "#### Changing all the types correctly ####\n",
    "df['AppointmentDay'] = pd.to_datetime(df['AppointmentDay'])\n",
    "df['ScheduledDay_date'] = pd.to_datetime(df['ScheduledDay_date'])\n",
    "df['From_Schedualing_to_Appoitment'] = df['From_Schedualing_to_Appoitment'].str.replace('days 00:00:00.000000000', '')\n"
   ]
  },
  {
   "cell_type": "code",
   "execution_count": 26,
   "metadata": {},
   "outputs": [],
   "source": [
    "# This will drop 5 rows unfortunately - otherwise I coulnd't change \"From_Schedualing_to_Appoitment\" to Int type.\n",
    "#use this box only once. After the first time thers rows are gone so you can't rerun it.\n",
    "df = df.drop([107953])\n",
    "df = df.drop([56552])\n",
    "df = df.drop([29635])\n",
    "df = df.drop([34082])\n",
    "df = df.drop([14205])"
   ]
  },
  {
   "cell_type": "code",
   "execution_count": 27,
   "metadata": {},
   "outputs": [],
   "source": [
    "# changing object to int\n",
    "df['From_Schedualing_to_Appoitment'] = df['From_Schedualing_to_Appoitment'].astype(int)"
   ]
  },
  {
   "cell_type": "code",
   "execution_count": 28,
   "metadata": {},
   "outputs": [],
   "source": [
    "# creating codes for categorical variables.\n",
    "df.loc[:, 'Neighbourhood_codes'] = df[\"Neighbourhood\"].astype(\"category\").cat.codes+1\n",
    "df.loc[:, 'Gender_'] = df[\"Gender\"].astype(\"category\").cat.codes\n",
    "#Woman=0, Man=1\n",
    "df.loc[:, 'No-show_'] = df[\"No-show\"].astype(\"category\").cat.codes\n",
    "#show=0, no-show=1 \n",
    "change_index_order_again = ['PatientId', 'AppointmentID', 'Age', 'Gender', 'Gender_', 'Neighbourhood', 'Neighbourhood_codes',\n",
    "       'AppointmentDay', 'Appointment_WeekDay',\n",
    "       'From_Schedualing_to_Appoitment', 'prcp', 'temp', 'Scholarship',\n",
    "       'Hipertension', 'Diabetes', 'Alcoholism', 'Handcap', 'SMS_received',\n",
    "       'ScheduledDay_date', 'No-show', 'No-show_']\n",
    "df = df.reindex(columns = change_index_order_again)\n"
   ]
  },
  {
   "cell_type": "code",
   "execution_count": 29,
   "metadata": {},
   "outputs": [],
   "source": [
    "#dfk = רק ילדים\n",
    "#df = רק מבוגרים\n",
    "#df_A_K =בנק של כולם, למתישהו\n",
    "dfk=df\n",
    "df_A_K=df"
   ]
  },
  {
   "cell_type": "code",
   "execution_count": 30,
   "metadata": {},
   "outputs": [],
   "source": [
    "dfk = dfk[dfk.Age <=15] # מוריד כל מי שגדול 16"
   ]
  },
  {
   "cell_type": "code",
   "execution_count": 31,
   "metadata": {},
   "outputs": [],
   "source": [
    "df = df[df.Age >15] #מוריד כל מי שקטן 16\n",
    "# 86054 מבוגרים\n",
    "# 24467 ילדים\n",
    "# סה\"כ = 110521\n",
    "\n"
   ]
  },
  {
   "cell_type": "markdown",
   "metadata": {},
   "source": [
    "# stop running here!"
   ]
  },
  {
   "cell_type": "markdown",
   "metadata": {},
   "source": [
    "### Numerical variables:\n",
    "1. Age\n",
    "2. prcp\n",
    "3. temp\n",
    "4. PatientId\n",
    "5. From_Schedualing_to_Appoitment\n",
    "\n",
    "### Categorical nominal variables: \n",
    "\n",
    "1. Neighbourhood_codes\n",
    "2. Gender_\n",
    "3. Scholarship\n",
    "2. Hipertension\n",
    "5. Diabetes\n",
    "3. Alcoholism\n",
    "4. Handcap\n",
    "5. SMS_received\n",
    "\n",
    "### Categorical ordinal variables: \n",
    "\n",
    "1. Appointment_WeekDay\n",
    "2. AppointmentDay\n",
    "4. ScheduledDay_date\n",
    "5. AppointmentID"
   ]
  },
  {
   "cell_type": "code",
   "execution_count": null,
   "metadata": {},
   "outputs": [],
   "source": [
    "#df_wether_all_day.head()"
   ]
  },
  {
   "cell_type": "code",
   "execution_count": null,
   "metadata": {},
   "outputs": [],
   "source": [
    "#len(df['Neighbourhood_codes'].value_counts())"
   ]
  },
  {
   "cell_type": "code",
   "execution_count": 41,
   "metadata": {},
   "outputs": [
    {
     "data": {
      "text/plain": [
       "47332"
      ]
     },
     "execution_count": 41,
     "metadata": {},
     "output_type": "execute_result"
    }
   ],
   "source": [
    "len(df[\"PatientId\"].unique())"
   ]
  },
  {
   "cell_type": "code",
   "execution_count": 35,
   "metadata": {},
   "outputs": [
    {
     "data": {
      "text/plain": [
       "86054"
      ]
     },
     "execution_count": 35,
     "metadata": {},
     "output_type": "execute_result"
    }
   ],
   "source": [
    "len(df[\"AppointmentID\"])"
   ]
  },
  {
   "cell_type": "code",
   "execution_count": 36,
   "metadata": {},
   "outputs": [
    {
     "data": {
      "text/plain": [
       "1.8180934674216176"
      ]
     },
     "execution_count": 36,
     "metadata": {},
     "output_type": "execute_result"
    }
   ],
   "source": [
    "86054/47332"
   ]
  },
  {
   "cell_type": "code",
   "execution_count": 45,
   "metadata": {
    "collapsed": true
   },
   "outputs": [
    {
     "data": {
      "text/plain": [
       "8.221460e+14    88\n",
       "9.963767e+10    84\n",
       "2.688610e+13    70\n",
       "3.353480e+13    65\n",
       "8.713750e+14    62\n",
       "7.579750e+13    62\n",
       "6.264200e+12    62\n",
       "2.584240e+11    62\n",
       "6.684490e+13    57\n",
       "8.722790e+11    55\n",
       "8.923970e+13    54\n",
       "8.435224e+09    51\n",
       "8.534400e+14    50\n",
       "6.543360e+13    46\n",
       "1.448000e+13    46\n",
       "9.452750e+12    42\n",
       "8.189450e+13    42\n",
       "1.882320e+14    40\n",
       "9.496200e+12    38\n",
       "2.271580e+12    38\n",
       "1.336490e+13    37\n",
       "1.484140e+12    35\n",
       "9.861630e+14    34\n",
       "8.883500e+13    34\n",
       "7.124590e+14    33\n",
       "6.128880e+12    30\n",
       "4.167560e+14    30\n",
       "8.121400e+13    29\n",
       "8.634160e+12    24\n",
       "3.699500e+13    23\n",
       "                ..\n",
       "3.315460e+14     1\n",
       "5.353820e+13     1\n",
       "8.948440e+13     1\n",
       "7.794620e+13     1\n",
       "4.766890e+14     1\n",
       "6.673320e+13     1\n",
       "9.489930e+14     1\n",
       "3.799390e+14     1\n",
       "4.526390e+11     1\n",
       "6.142740e+12     1\n",
       "4.479560e+13     1\n",
       "1.613840e+14     1\n",
       "8.948840e+13     1\n",
       "2.831890e+14     1\n",
       "4.171120e+12     1\n",
       "3.814750e+13     1\n",
       "7.242370e+12     1\n",
       "2.757380e+14     1\n",
       "3.839330e+11     1\n",
       "1.448490e+13     1\n",
       "5.354220e+13     1\n",
       "8.522790e+14     1\n",
       "4.694550e+13     1\n",
       "6.484890e+14     1\n",
       "5.213820e+11     1\n",
       "9.169250e+13     1\n",
       "5.354300e+13     1\n",
       "1.576130e+11     1\n",
       "2.237350e+13     1\n",
       "8.246150e+12     1\n",
       "Name: PatientId, Length: 47332, dtype: int64"
      ]
     },
     "execution_count": 45,
     "metadata": {},
     "output_type": "execute_result"
    }
   ],
   "source": [
    "df[\"PatientId\"].value_counts()"
   ]
  },
  {
   "cell_type": "code",
   "execution_count": null,
   "metadata": {},
   "outputs": [],
   "source": [
    "#df['AppointmentID'].value_counts().head()"
   ]
  },
  {
   "cell_type": "code",
   "execution_count": null,
   "metadata": {},
   "outputs": [],
   "source": [
    "#df['SMS_received'].value_counts().head()\n",
    "# we can't know if there was more then 1 SMS sent. "
   ]
  },
  {
   "cell_type": "code",
   "execution_count": null,
   "metadata": {},
   "outputs": [],
   "source": [
    "#df.describe()"
   ]
  },
  {
   "cell_type": "code",
   "execution_count": 47,
   "metadata": {},
   "outputs": [],
   "source": [
    "#df.info()"
   ]
  },
  {
   "cell_type": "markdown",
   "metadata": {},
   "source": [
    "### Analizing the data: first conclutions\n",
    "1. There was 1 row with the age of (-1). It wasn't a no show, so I deleted it (Itamar).\n",
    "2. The SMS column states if a text was sent or not. It does not state how many sms were sent."
   ]
  },
  {
   "cell_type": "code",
   "execution_count": 49,
   "metadata": {},
   "outputs": [],
   "source": [
    "#df.isnull().sum()"
   ]
  },
  {
   "cell_type": "code",
   "execution_count": 51,
   "metadata": {},
   "outputs": [],
   "source": [
    "sns.countplot(x='Gender', data=df)\n",
    "# women go mnore to the doctor\n",
    "# no differance between men and women in \"no-show\"s"
   ]
  },
  {
   "cell_type": "code",
   "execution_count": null,
   "metadata": {
    "scrolled": false
   },
   "outputs": [],
   "source": [
    "sns.countplot(x='Age', data=df)\n",
    "# not normal distribution? what to do?"
   ]
  },
  {
   "cell_type": "code",
   "execution_count": null,
   "metadata": {
    "scrolled": false
   },
   "outputs": [],
   "source": [
    "sns.countplot(x='Age', data=dfk,  color='blue',hue = 'No-show')\n",
    "# not normal distribution? what to do?"
   ]
  },
  {
   "cell_type": "code",
   "execution_count": 55,
   "metadata": {},
   "outputs": [],
   "source": [
    "sns.countplot(x='Neighbourhood_codes', data=df, color='blue',hue = 'No-show')"
   ]
  },
  {
   "cell_type": "code",
   "execution_count": null,
   "metadata": {},
   "outputs": [],
   "source": [
    "sns.countplot(x='Alcoholism', data=df, color='blue',hue = 'No-show')"
   ]
  },
  {
   "cell_type": "code",
   "execution_count": 57,
   "metadata": {},
   "outputs": [],
   "source": [
    "sns.countplot(x='From_Schedualing_to_Appoitment', data=df, color='blue',hue = 'No-show')"
   ]
  },
  {
   "cell_type": "code",
   "execution_count": null,
   "metadata": {},
   "outputs": [],
   "source": [
    "sns.countplot(x='AppointmentDay', data=df, color='blue',hue = 'No-show_')"
   ]
  },
  {
   "cell_type": "code",
   "execution_count": null,
   "metadata": {},
   "outputs": [],
   "source": [
    "sns.countplot(x='SMS_received', data=df, color='blue',hue = 'No-show')\n",
    "# SMS did not help decrise the number of no-shows in the problematic patients."
   ]
  },
  {
   "cell_type": "code",
   "execution_count": null,
   "metadata": {},
   "outputs": [],
   "source": [
    "sns.countplot(x='prcp', data=df, color='blue',hue = 'No-show')\n",
    "# SMS did not help decrise the number of no-shows in the problematic patients."
   ]
  },
  {
   "cell_type": "code",
   "execution_count": 59,
   "metadata": {},
   "outputs": [],
   "source": [
    "# sns.countplot(y='Scholarship', data=df, color='blue',hue = 'No-show')"
   ]
  },
  {
   "cell_type": "code",
   "execution_count": 60,
   "metadata": {},
   "outputs": [
    {
     "data": {
      "text/plain": [
       "<matplotlib.axes._subplots.AxesSubplot at 0x1845e337a58>"
      ]
     },
     "execution_count": 60,
     "metadata": {},
     "output_type": "execute_result"
    },
    {
     "data": {
      "image/png": "[encoded data removed]",
      "text/plain": [
       "<Figure size 432x288 with 1 Axes>"
      ]
     },
     "metadata": {},
     "output_type": "display_data"
    }
   ],
   "source": [
    "sns.countplot(y='Gender', data=df, color='blue',hue = 'No-show')"
   ]
  },
  {
   "cell_type": "code",
   "execution_count": null,
   "metadata": {},
   "outputs": [],
   "source": [
    "sns.countplot(x='From_Schedualing_to_Appoitment', data=df)\n",
    "#how to make normal?"
   ]
  },
  {
   "cell_type": "code",
   "execution_count": 63,
   "metadata": {},
   "outputs": [],
   "source": [
    "# df.sort_values('AppointmentDay')"
   ]
  },
  {
   "cell_type": "code",
   "execution_count": null,
   "metadata": {},
   "outputs": [],
   "source": [
    "df['AppointmentDay'].value_counts()"
   ]
  },
  {
   "cell_type": "code",
   "execution_count": null,
   "metadata": {},
   "outputs": [],
   "source": [
    "# Identify missing data\n",
    "df.isnull().sum()\n",
    "# no missing data :)"
   ]
  },
  {
   "cell_type": "markdown",
   "metadata": {},
   "source": [
    "### making a pie chart"
   ]
  },
  {
   "cell_type": "code",
   "execution_count": 64,
   "metadata": {},
   "outputs": [
    {
     "data": {
      "image/png": "[encoded data removed]",
      "text/plain": [
       "<Figure size 432x288 with 1 Axes>"
      ]
     },
     "metadata": {},
     "output_type": "display_data"
    }
   ],
   "source": [
    "fig1, ax1 = plt.subplots()\n",
    "\n",
    "slices = df[\"Scholarship\"].value_counts()\n",
    "labels = slices.index\n",
    "ax1.pie(slices, autopct='%1.1f%%', labels=labels)\n",
    "ax1.axis('equal')  # Equal aspect ratio ensures that pie is drawn as a circle.\n",
    "\n",
    "plt.show()"
   ]
  },
  {
   "cell_type": "code",
   "execution_count": 65,
   "metadata": {},
   "outputs": [
    {
     "data": {
      "image/png": "[encoded data removed]",
      "text/plain": [
       "<Figure size 432x288 with 1 Axes>"
      ]
     },
     "metadata": {},
     "output_type": "display_data"
    }
   ],
   "source": [
    "fig1, ax1 = plt.subplots()\n",
    "\n",
    "slices = df[\"Alcoholism\"].value_counts()\n",
    "labels = slices.index\n",
    "ax1.pie(slices, autopct='%1.1f%%', labels=labels)\n",
    "ax1.axis('equal')  # Equal aspect ratio ensures that pie is drawn as a circle.\n",
    "\n",
    "plt.show()"
   ]
  },
  {
   "cell_type": "markdown",
   "metadata": {},
   "source": [
    "##### Encode ordinal feature\n",
    "We can define a dictionary that maps each ordinal value to a numerical value, and then use the function \"map\" as shown below, or use the function \"replace\" as shown in: http://pbpython.com/categorical-encoding.html ."
   ]
  },
  {
   "cell_type": "code",
   "execution_count": 66,
   "metadata": {},
   "outputs": [
    {
     "data": {
      "text/plain": [
       "<matplotlib.axes._subplots.AxesSubplot at 0x1845e3732b0>"
      ]
     },
     "execution_count": 66,
     "metadata": {},
     "output_type": "execute_result"
    },
    {
     "data": {
      "image/png": "[encoded data removed]",
      "text/plain": [
       "<Figure size 432x288 with 1 Axes>"
      ]
     },
     "metadata": {},
     "output_type": "display_data"
    }
   ],
   "source": [
    "sns.countplot(x='From_Schedualing_to_Appoitment', data=df)"
   ]
  },
  {
   "cell_type": "markdown",
   "metadata": {},
   "source": [
    "##### #### 3.1 Histograms to view features"
   ]
  },
  {
   "cell_type": "code",
   "execution_count": null,
   "metadata": {},
   "outputs": [],
   "source": [
    "df.columns"
   ]
  },
  {
   "cell_type": "code",
   "execution_count": 67,
   "metadata": {
    "scrolled": true
   },
   "outputs": [
    {
     "data": {
      "image/png": "[encoded data removed]",
      "text/plain": [
       "<Figure size 1440x1080 with 16 Axes>"
      ]
     },
     "metadata": {},
     "output_type": "display_data"
    }
   ],
   "source": [
    "df.hist(bins = 200, figsize = (20,15), column=['PatientId', 'AppointmentID', 'Age', 'Gender', 'Gender_',\n",
    "       'Neighbourhood', 'Neighbourhood_codes', 'AppointmentDay',\n",
    "       'Appointment_WeekDay', 'From_Schedualing_to_Appoitment', 'prcp', 'temp',\n",
    "       'Scholarship', 'Hipertension', 'Diabetes', 'Alcoholism', 'Handcap',\n",
    "       'SMS_received', 'ScheduledDay_date', 'No-show', 'No-show_']) #Check the hist parameters by clicking on the Tab completion. \n",
    "plt.show()"
   ]
  },
  {
   "cell_type": "code",
   "execution_count": null,
   "metadata": {},
   "outputs": [],
   "source": [
    "sns.distplot(df[\"Age\"], fit=norm)"
   ]
  },
  {
   "cell_type": "code",
   "execution_count": null,
   "metadata": {},
   "outputs": [],
   "source": [
    "sns.distplot(df[\"prcp\"], fit=norm)"
   ]
  },
  {
   "cell_type": "code",
   "execution_count": null,
   "metadata": {},
   "outputs": [],
   "source": [
    "sns.distplot(df[\"Appointment_WeekDay\"])\n"
   ]
  },
  {
   "cell_type": "code",
   "execution_count": null,
   "metadata": {},
   "outputs": [],
   "source": [
    "#לא יודעים מה לעשות עם זה\n",
    "#New_age = np.clip(df['Age'], 1, 95)\n",
    "#plt.hist(df['Age'], bins=50)\n",
    "#plt.hist(New_age, bins=50, color='red', alpha = 0.5)\n",
    "#plt.show()"
   ]
  },
  {
   "cell_type": "code",
   "execution_count": 68,
   "metadata": {},
   "outputs": [],
   "source": [
    "sqrt_age = np.sqrt(df[\"Age\"])"
   ]
  },
  {
   "cell_type": "code",
   "execution_count": 69,
   "metadata": {},
   "outputs": [
    {
     "name": "stderr",
     "output_type": "stream",
     "text": [
      "C:\\Users\\lapid\\Anaconda3\\lib\\site-packages\\matplotlib\\axes\\_axes.py:6462: UserWarning: The 'normed' kwarg is deprecated, and has been replaced by the 'density' kwarg.\n",
      "  warnings.warn(\"The 'normed' kwarg is deprecated, and has been \"\n"
     ]
    },
    {
     "data": {
      "text/plain": [
       "<matplotlib.axes._subplots.AxesSubplot at 0x18462e1f278>"
      ]
     },
     "execution_count": 69,
     "metadata": {},
     "output_type": "execute_result"
    },
    {
     "data": {
      "image/png": "[encoded data removed]",
      "text/plain": [
       "<Figure size 432x288 with 1 Axes>"
      ]
     },
     "metadata": {},
     "output_type": "display_data"
    }
   ],
   "source": [
    "sns.distplot(df[\"Age\"], fit=norm)"
   ]
  },
  {
   "cell_type": "code",
   "execution_count": 70,
   "metadata": {},
   "outputs": [
    {
     "ename": "NameError",
     "evalue": "name 'log_age' is not defined",
     "output_type": "error",
     "traceback": [
      "\u001b[1;31m---------------------------------------------------------------------------\u001b[0m",
      "\u001b[1;31mNameError\u001b[0m                                 Traceback (most recent call last)",
      "\u001b[1;32m<ipython-input-70-e98f264544b3>\u001b[0m in \u001b[0;36m<module>\u001b[1;34m()\u001b[0m\n\u001b[1;32m----> 1\u001b[1;33m \u001b[0msns\u001b[0m\u001b[1;33m.\u001b[0m\u001b[0mdistplot\u001b[0m\u001b[1;33m(\u001b[0m\u001b[0mlog_age\u001b[0m\u001b[1;33m,\u001b[0m \u001b[0mfit\u001b[0m\u001b[1;33m=\u001b[0m\u001b[0mnorm\u001b[0m\u001b[1;33m,\u001b[0m \u001b[0mbins\u001b[0m\u001b[1;33m=\u001b[0m\u001b[1;36m15\u001b[0m\u001b[1;33m)\u001b[0m\u001b[1;33m\u001b[0m\u001b[0m\n\u001b[0m",
      "\u001b[1;31mNameError\u001b[0m: name 'log_age' is not defined"
     ]
    }
   ],
   "source": [
    "sns.distplot(log_age, fit=norm, bins=15)"
   ]
  },
  {
   "cell_type": "markdown",
   "metadata": {},
   "source": [
    "# Start of train/test"
   ]
  },
  {
   "cell_type": "code",
   "execution_count": 71,
   "metadata": {},
   "outputs": [],
   "source": [
    "df_N = df.drop(['PatientId', 'AppointmentID', 'Age', 'Gender', 'Gender_',\n",
    "    'AppointmentDay',\n",
    "       'Appointment_WeekDay', 'From_Schedualing_to_Appoitment', 'prcp', 'temp',\n",
    "       'Scholarship', 'Hipertension', 'Diabetes', 'Alcoholism', 'Handcap',\n",
    "       'SMS_received', 'ScheduledDay_date', 'No-show', 'No-show_'], axis=1)\n",
    "df = df.drop(['Gender','No-show','Neighbourhood', 'AppointmentDay', 'ScheduledDay_date'], axis=1)"
   ]
  },
  {
   "cell_type": "code",
   "execution_count": 72,
   "metadata": {},
   "outputs": [],
   "source": [
    "train_df, test_df= train_test_split(df, test_size = 0.2, random_state=7)\n",
    "# train_test_split is from sklearn. It requiers that the data will be a numpy array, that is numbers only.\n",
    "# If your prediction class in y is very small, then add a parameter startify = y"
   ]
  },
  {
   "cell_type": "code",
   "execution_count": 73,
   "metadata": {},
   "outputs": [],
   "source": [
    "y = train_df[\"No-show_\"]\n",
    "X = train_df"
   ]
  },
  {
   "cell_type": "code",
   "execution_count": null,
   "metadata": {},
   "outputs": [],
   "source": []
  },
  {
   "cell_type": "code",
   "execution_count": 74,
   "metadata": {},
   "outputs": [
    {
     "data": {
      "text/html": [
       "<div>\n",
       "<style scoped>\n",
       "    .dataframe tbody tr th:only-of-type {\n",
       "        vertical-align: middle;\n",
       "    }\n",
       "\n",
       "    .dataframe tbody tr th {\n",
       "        vertical-align: top;\n",
       "    }\n",
       "\n",
       "    .dataframe thead th {\n",
       "        text-align: right;\n",
       "    }\n",
       "</style>\n",
       "<table border=\"1\" class=\"dataframe\">\n",
       "  <thead>\n",
       "    <tr style=\"text-align: right;\">\n",
       "      <th></th>\n",
       "      <th>PatientId</th>\n",
       "      <th>AppointmentID</th>\n",
       "      <th>Age</th>\n",
       "      <th>Gender_</th>\n",
       "      <th>Neighbourhood_codes</th>\n",
       "      <th>Appointment_WeekDay</th>\n",
       "      <th>From_Schedualing_to_Appoitment</th>\n",
       "      <th>prcp</th>\n",
       "      <th>temp</th>\n",
       "      <th>Scholarship</th>\n",
       "      <th>Hipertension</th>\n",
       "      <th>Diabetes</th>\n",
       "      <th>Alcoholism</th>\n",
       "      <th>Handcap</th>\n",
       "      <th>SMS_received</th>\n",
       "      <th>No-show_</th>\n",
       "    </tr>\n",
       "  </thead>\n",
       "  <tbody>\n",
       "    <tr>\n",
       "      <th>PatientId</th>\n",
       "      <td>1.000000</td>\n",
       "      <td>0.000807</td>\n",
       "      <td>-0.003689</td>\n",
       "      <td>0.011260</td>\n",
       "      <td>0.004683</td>\n",
       "      <td>-0.000938</td>\n",
       "      <td>0.003031</td>\n",
       "      <td>0.001356</td>\n",
       "      <td>0.005275</td>\n",
       "      <td>0.000969</td>\n",
       "      <td>-0.006820</td>\n",
       "      <td>0.001199</td>\n",
       "      <td>0.011994</td>\n",
       "      <td>-0.003559</td>\n",
       "      <td>-0.006519</td>\n",
       "      <td>0.000200</td>\n",
       "    </tr>\n",
       "    <tr>\n",
       "      <th>AppointmentID</th>\n",
       "      <td>0.000807</td>\n",
       "      <td>1.000000</td>\n",
       "      <td>-0.022907</td>\n",
       "      <td>0.025010</td>\n",
       "      <td>0.002786</td>\n",
       "      <td>-0.051003</td>\n",
       "      <td>-0.779173</td>\n",
       "      <td>-0.040578</td>\n",
       "      <td>0.043289</td>\n",
       "      <td>0.021905</td>\n",
       "      <td>0.018419</td>\n",
       "      <td>0.027832</td>\n",
       "      <td>0.038204</td>\n",
       "      <td>0.013368</td>\n",
       "      <td>-0.246798</td>\n",
       "      <td>-0.150026</td>\n",
       "    </tr>\n",
       "    <tr>\n",
       "      <th>Age</th>\n",
       "      <td>-0.003689</td>\n",
       "      <td>-0.022907</td>\n",
       "      <td>1.000000</td>\n",
       "      <td>0.036990</td>\n",
       "      <td>0.003358</td>\n",
       "      <td>-0.003383</td>\n",
       "      <td>0.037782</td>\n",
       "      <td>-0.009317</td>\n",
       "      <td>-0.004084</td>\n",
       "      <td>-0.143258</td>\n",
       "      <td>0.472810</td>\n",
       "      <td>0.272148</td>\n",
       "      <td>0.042202</td>\n",
       "      <td>0.064992</td>\n",
       "      <td>-0.017255</td>\n",
       "      <td>-0.083190</td>\n",
       "    </tr>\n",
       "    <tr>\n",
       "      <th>Gender_</th>\n",
       "      <td>0.011260</td>\n",
       "      <td>0.025010</td>\n",
       "      <td>0.036990</td>\n",
       "      <td>1.000000</td>\n",
       "      <td>-0.017714</td>\n",
       "      <td>0.008642</td>\n",
       "      <td>-0.034720</td>\n",
       "      <td>0.006540</td>\n",
       "      <td>0.001129</td>\n",
       "      <td>-0.146932</td>\n",
       "      <td>-0.009163</td>\n",
       "      <td>-0.003874</td>\n",
       "      <td>0.141360</td>\n",
       "      <td>0.034517</td>\n",
       "      <td>-0.054394</td>\n",
       "      <td>-0.008018</td>\n",
       "    </tr>\n",
       "    <tr>\n",
       "      <th>Neighbourhood_codes</th>\n",
       "      <td>0.004683</td>\n",
       "      <td>0.002786</td>\n",
       "      <td>0.003358</td>\n",
       "      <td>-0.017714</td>\n",
       "      <td>1.000000</td>\n",
       "      <td>-0.004515</td>\n",
       "      <td>-0.002411</td>\n",
       "      <td>-0.002902</td>\n",
       "      <td>-0.003853</td>\n",
       "      <td>0.004630</td>\n",
       "      <td>0.009161</td>\n",
       "      <td>0.016037</td>\n",
       "      <td>0.001986</td>\n",
       "      <td>0.012324</td>\n",
       "      <td>0.022656</td>\n",
       "      <td>-0.010188</td>\n",
       "    </tr>\n",
       "    <tr>\n",
       "      <th>Appointment_WeekDay</th>\n",
       "      <td>-0.000938</td>\n",
       "      <td>-0.051003</td>\n",
       "      <td>-0.003383</td>\n",
       "      <td>0.008642</td>\n",
       "      <td>-0.004515</td>\n",
       "      <td>1.000000</td>\n",
       "      <td>-0.014105</td>\n",
       "      <td>0.239549</td>\n",
       "      <td>-0.174185</td>\n",
       "      <td>-0.007664</td>\n",
       "      <td>0.002879</td>\n",
       "      <td>0.006735</td>\n",
       "      <td>0.002918</td>\n",
       "      <td>0.001494</td>\n",
       "      <td>-0.101127</td>\n",
       "      <td>-0.004048</td>\n",
       "    </tr>\n",
       "    <tr>\n",
       "      <th>From_Schedualing_to_Appoitment</th>\n",
       "      <td>0.003031</td>\n",
       "      <td>-0.779173</td>\n",
       "      <td>0.037782</td>\n",
       "      <td>-0.034720</td>\n",
       "      <td>-0.002411</td>\n",
       "      <td>-0.014105</td>\n",
       "      <td>1.000000</td>\n",
       "      <td>-0.012850</td>\n",
       "      <td>-0.009667</td>\n",
       "      <td>-0.028396</td>\n",
       "      <td>-0.024050</td>\n",
       "      <td>-0.033191</td>\n",
       "      <td>-0.042849</td>\n",
       "      <td>-0.019629</td>\n",
       "      <td>0.385494</td>\n",
       "      <td>0.170900</td>\n",
       "    </tr>\n",
       "    <tr>\n",
       "      <th>prcp</th>\n",
       "      <td>0.001356</td>\n",
       "      <td>-0.040578</td>\n",
       "      <td>-0.009317</td>\n",
       "      <td>0.006540</td>\n",
       "      <td>-0.002902</td>\n",
       "      <td>0.239549</td>\n",
       "      <td>-0.012850</td>\n",
       "      <td>1.000000</td>\n",
       "      <td>0.166564</td>\n",
       "      <td>-0.003687</td>\n",
       "      <td>-0.003097</td>\n",
       "      <td>-0.004557</td>\n",
       "      <td>0.001806</td>\n",
       "      <td>-0.000422</td>\n",
       "      <td>-0.006581</td>\n",
       "      <td>-0.004494</td>\n",
       "    </tr>\n",
       "    <tr>\n",
       "      <th>temp</th>\n",
       "      <td>0.005275</td>\n",
       "      <td>0.043289</td>\n",
       "      <td>-0.004084</td>\n",
       "      <td>0.001129</td>\n",
       "      <td>-0.003853</td>\n",
       "      <td>-0.174185</td>\n",
       "      <td>-0.009667</td>\n",
       "      <td>0.166564</td>\n",
       "      <td>1.000000</td>\n",
       "      <td>-0.005984</td>\n",
       "      <td>-0.009694</td>\n",
       "      <td>-0.002680</td>\n",
       "      <td>-0.002740</td>\n",
       "      <td>-0.000909</td>\n",
       "      <td>-0.117233</td>\n",
       "      <td>0.012896</td>\n",
       "    </tr>\n",
       "    <tr>\n",
       "      <th>Scholarship</th>\n",
       "      <td>0.000969</td>\n",
       "      <td>0.021905</td>\n",
       "      <td>-0.143258</td>\n",
       "      <td>-0.146932</td>\n",
       "      <td>0.004630</td>\n",
       "      <td>-0.007664</td>\n",
       "      <td>-0.028396</td>\n",
       "      <td>-0.003687</td>\n",
       "      <td>-0.005984</td>\n",
       "      <td>1.000000</td>\n",
       "      <td>-0.016437</td>\n",
       "      <td>-0.023813</td>\n",
       "      <td>0.044333</td>\n",
       "      <td>-0.009604</td>\n",
       "      <td>0.000581</td>\n",
       "      <td>0.031123</td>\n",
       "    </tr>\n",
       "    <tr>\n",
       "      <th>Hipertension</th>\n",
       "      <td>-0.006820</td>\n",
       "      <td>0.018419</td>\n",
       "      <td>0.472810</td>\n",
       "      <td>-0.009163</td>\n",
       "      <td>0.009161</td>\n",
       "      <td>0.002879</td>\n",
       "      <td>-0.024050</td>\n",
       "      <td>-0.003097</td>\n",
       "      <td>-0.009694</td>\n",
       "      <td>-0.016437</td>\n",
       "      <td>1.000000</td>\n",
       "      <td>0.412983</td>\n",
       "      <td>0.062946</td>\n",
       "      <td>0.072936</td>\n",
       "      <td>-0.016888</td>\n",
       "      <td>-0.035321</td>\n",
       "    </tr>\n",
       "    <tr>\n",
       "      <th>Diabetes</th>\n",
       "      <td>0.001199</td>\n",
       "      <td>0.027832</td>\n",
       "      <td>0.272148</td>\n",
       "      <td>-0.003874</td>\n",
       "      <td>0.016037</td>\n",
       "      <td>0.006735</td>\n",
       "      <td>-0.033191</td>\n",
       "      <td>-0.004557</td>\n",
       "      <td>-0.002680</td>\n",
       "      <td>-0.023813</td>\n",
       "      <td>0.412983</td>\n",
       "      <td>1.000000</td>\n",
       "      <td>0.003103</td>\n",
       "      <td>0.051368</td>\n",
       "      <td>-0.023070</td>\n",
       "      <td>-0.016225</td>\n",
       "    </tr>\n",
       "    <tr>\n",
       "      <th>Alcoholism</th>\n",
       "      <td>0.011994</td>\n",
       "      <td>0.038204</td>\n",
       "      <td>0.042202</td>\n",
       "      <td>0.141360</td>\n",
       "      <td>0.001986</td>\n",
       "      <td>0.002918</td>\n",
       "      <td>-0.042849</td>\n",
       "      <td>0.001806</td>\n",
       "      <td>-0.002740</td>\n",
       "      <td>0.044333</td>\n",
       "      <td>0.062946</td>\n",
       "      <td>0.003103</td>\n",
       "      <td>1.000000</td>\n",
       "      <td>0.000416</td>\n",
       "      <td>-0.031944</td>\n",
       "      <td>0.002448</td>\n",
       "    </tr>\n",
       "    <tr>\n",
       "      <th>Handcap</th>\n",
       "      <td>-0.003559</td>\n",
       "      <td>0.013368</td>\n",
       "      <td>0.064992</td>\n",
       "      <td>0.034517</td>\n",
       "      <td>0.012324</td>\n",
       "      <td>0.001494</td>\n",
       "      <td>-0.019629</td>\n",
       "      <td>-0.000422</td>\n",
       "      <td>-0.000909</td>\n",
       "      <td>-0.009604</td>\n",
       "      <td>0.072936</td>\n",
       "      <td>0.051368</td>\n",
       "      <td>0.000416</td>\n",
       "      <td>1.000000</td>\n",
       "      <td>-0.027682</td>\n",
       "      <td>-0.008821</td>\n",
       "    </tr>\n",
       "    <tr>\n",
       "      <th>SMS_received</th>\n",
       "      <td>-0.006519</td>\n",
       "      <td>-0.246798</td>\n",
       "      <td>-0.017255</td>\n",
       "      <td>-0.054394</td>\n",
       "      <td>0.022656</td>\n",
       "      <td>-0.101127</td>\n",
       "      <td>0.385494</td>\n",
       "      <td>-0.006581</td>\n",
       "      <td>-0.117233</td>\n",
       "      <td>0.000581</td>\n",
       "      <td>-0.016888</td>\n",
       "      <td>-0.023070</td>\n",
       "      <td>-0.031944</td>\n",
       "      <td>-0.027682</td>\n",
       "      <td>1.000000</td>\n",
       "      <td>0.126603</td>\n",
       "    </tr>\n",
       "    <tr>\n",
       "      <th>No-show_</th>\n",
       "      <td>0.000200</td>\n",
       "      <td>-0.150026</td>\n",
       "      <td>-0.083190</td>\n",
       "      <td>-0.008018</td>\n",
       "      <td>-0.010188</td>\n",
       "      <td>-0.004048</td>\n",
       "      <td>0.170900</td>\n",
       "      <td>-0.004494</td>\n",
       "      <td>0.012896</td>\n",
       "      <td>0.031123</td>\n",
       "      <td>-0.035321</td>\n",
       "      <td>-0.016225</td>\n",
       "      <td>0.002448</td>\n",
       "      <td>-0.008821</td>\n",
       "      <td>0.126603</td>\n",
       "      <td>1.000000</td>\n",
       "    </tr>\n",
       "  </tbody>\n",
       "</table>\n",
       "</div>"
      ],
      "text/plain": [
       "                                PatientId  AppointmentID       Age   Gender_  \\\n",
       "PatientId                        1.000000       0.000807 -0.003689  0.011260   \n",
       "AppointmentID                    0.000807       1.000000 -0.022907  0.025010   \n",
       "Age                             -0.003689      -0.022907  1.000000  0.036990   \n",
       "Gender_                          0.011260       0.025010  0.036990  1.000000   \n",
       "Neighbourhood_codes              0.004683       0.002786  0.003358 -0.017714   \n",
       "Appointment_WeekDay             -0.000938      -0.051003 -0.003383  0.008642   \n",
       "From_Schedualing_to_Appoitment   0.003031      -0.779173  0.037782 -0.034720   \n",
       "prcp                             0.001356      -0.040578 -0.009317  0.006540   \n",
       "temp                             0.005275       0.043289 -0.004084  0.001129   \n",
       "Scholarship                      0.000969       0.021905 -0.143258 -0.146932   \n",
       "Hipertension                    -0.006820       0.018419  0.472810 -0.009163   \n",
       "Diabetes                         0.001199       0.027832  0.272148 -0.003874   \n",
       "Alcoholism                       0.011994       0.038204  0.042202  0.141360   \n",
       "Handcap                         -0.003559       0.013368  0.064992  0.034517   \n",
       "SMS_received                    -0.006519      -0.246798 -0.017255 -0.054394   \n",
       "No-show_                         0.000200      -0.150026 -0.083190 -0.008018   \n",
       "\n",
       "                                Neighbourhood_codes  Appointment_WeekDay  \\\n",
       "PatientId                                  0.004683            -0.000938   \n",
       "AppointmentID                              0.002786            -0.051003   \n",
       "Age                                        0.003358            -0.003383   \n",
       "Gender_                                   -0.017714             0.008642   \n",
       "Neighbourhood_codes                        1.000000            -0.004515   \n",
       "Appointment_WeekDay                       -0.004515             1.000000   \n",
       "From_Schedualing_to_Appoitment            -0.002411            -0.014105   \n",
       "prcp                                      -0.002902             0.239549   \n",
       "temp                                      -0.003853            -0.174185   \n",
       "Scholarship                                0.004630            -0.007664   \n",
       "Hipertension                               0.009161             0.002879   \n",
       "Diabetes                                   0.016037             0.006735   \n",
       "Alcoholism                                 0.001986             0.002918   \n",
       "Handcap                                    0.012324             0.001494   \n",
       "SMS_received                               0.022656            -0.101127   \n",
       "No-show_                                  -0.010188            -0.004048   \n",
       "\n",
       "                                From_Schedualing_to_Appoitment      prcp  \\\n",
       "PatientId                                             0.003031  0.001356   \n",
       "AppointmentID                                        -0.779173 -0.040578   \n",
       "Age                                                   0.037782 -0.009317   \n",
       "Gender_                                              -0.034720  0.006540   \n",
       "Neighbourhood_codes                                  -0.002411 -0.002902   \n",
       "Appointment_WeekDay                                  -0.014105  0.239549   \n",
       "From_Schedualing_to_Appoitment                        1.000000 -0.012850   \n",
       "prcp                                                 -0.012850  1.000000   \n",
       "temp                                                 -0.009667  0.166564   \n",
       "Scholarship                                          -0.028396 -0.003687   \n",
       "Hipertension                                         -0.024050 -0.003097   \n",
       "Diabetes                                             -0.033191 -0.004557   \n",
       "Alcoholism                                           -0.042849  0.001806   \n",
       "Handcap                                              -0.019629 -0.000422   \n",
       "SMS_received                                          0.385494 -0.006581   \n",
       "No-show_                                              0.170900 -0.004494   \n",
       "\n",
       "                                    temp  Scholarship  Hipertension  Diabetes  \\\n",
       "PatientId                       0.005275     0.000969     -0.006820  0.001199   \n",
       "AppointmentID                   0.043289     0.021905      0.018419  0.027832   \n",
       "Age                            -0.004084    -0.143258      0.472810  0.272148   \n",
       "Gender_                         0.001129    -0.146932     -0.009163 -0.003874   \n",
       "Neighbourhood_codes            -0.003853     0.004630      0.009161  0.016037   \n",
       "Appointment_WeekDay            -0.174185    -0.007664      0.002879  0.006735   \n",
       "From_Schedualing_to_Appoitment -0.009667    -0.028396     -0.024050 -0.033191   \n",
       "prcp                            0.166564    -0.003687     -0.003097 -0.004557   \n",
       "temp                            1.000000    -0.005984     -0.009694 -0.002680   \n",
       "Scholarship                    -0.005984     1.000000     -0.016437 -0.023813   \n",
       "Hipertension                   -0.009694    -0.016437      1.000000  0.412983   \n",
       "Diabetes                       -0.002680    -0.023813      0.412983  1.000000   \n",
       "Alcoholism                     -0.002740     0.044333      0.062946  0.003103   \n",
       "Handcap                        -0.000909    -0.009604      0.072936  0.051368   \n",
       "SMS_received                   -0.117233     0.000581     -0.016888 -0.023070   \n",
       "No-show_                        0.012896     0.031123     -0.035321 -0.016225   \n",
       "\n",
       "                                Alcoholism   Handcap  SMS_received  No-show_  \n",
       "PatientId                         0.011994 -0.003559     -0.006519  0.000200  \n",
       "AppointmentID                     0.038204  0.013368     -0.246798 -0.150026  \n",
       "Age                               0.042202  0.064992     -0.017255 -0.083190  \n",
       "Gender_                           0.141360  0.034517     -0.054394 -0.008018  \n",
       "Neighbourhood_codes               0.001986  0.012324      0.022656 -0.010188  \n",
       "Appointment_WeekDay               0.002918  0.001494     -0.101127 -0.004048  \n",
       "From_Schedualing_to_Appoitment   -0.042849 -0.019629      0.385494  0.170900  \n",
       "prcp                              0.001806 -0.000422     -0.006581 -0.004494  \n",
       "temp                             -0.002740 -0.000909     -0.117233  0.012896  \n",
       "Scholarship                       0.044333 -0.009604      0.000581  0.031123  \n",
       "Hipertension                      0.062946  0.072936     -0.016888 -0.035321  \n",
       "Diabetes                          0.003103  0.051368     -0.023070 -0.016225  \n",
       "Alcoholism                        1.000000  0.000416     -0.031944  0.002448  \n",
       "Handcap                           0.000416  1.000000     -0.027682 -0.008821  \n",
       "SMS_received                     -0.031944 -0.027682      1.000000  0.126603  \n",
       "No-show_                          0.002448 -0.008821      0.126603  1.000000  "
      ]
     },
     "execution_count": 74,
     "metadata": {},
     "output_type": "execute_result"
    }
   ],
   "source": [
    "train_df_numeric = train_df.iloc[:, 0:20]\n",
    "# iloc = integer-location based indexing for selection by position\n",
    "corr_df=train_df_numeric.corr()\n",
    "corr_df"
   ]
  },
  {
   "cell_type": "code",
   "execution_count": 75,
   "metadata": {},
   "outputs": [
    {
     "data": {
      "text/plain": [
       "<matplotlib.axes._subplots.AxesSubplot at 0x1845bcd2518>"
      ]
     },
     "execution_count": 75,
     "metadata": {},
     "output_type": "execute_result"
    },
    {
     "data": {
      "image/png": "[encoded data removed]",
      "text/plain": [
       "<Figure size 432x288 with 2 Axes>"
      ]
     },
     "metadata": {},
     "output_type": "display_data"
    }
   ],
   "source": [
    "sns.heatmap(corr_df)\n",
    "# corr of 47% > Age + Hypertention (blood pressure)\n",
    "# corr of 27% > Age + Diabetes\n",
    "# corr of 41% > Diabetes + Hypertention (blood pressure)\n",
    "# corr of 38% > SMS + From_Schedualing_to_Appoitment"
   ]
  },
  {
   "cell_type": "code",
   "execution_count": 76,
   "metadata": {},
   "outputs": [
    {
     "data": {
      "text/plain": [
       "<matplotlib.axes._subplots.AxesSubplot at 0x1846278c6d8>"
      ]
     },
     "execution_count": 76,
     "metadata": {},
     "output_type": "execute_result"
    },
    {
     "data": {
      "image/png": "[encoded data removed]",
      "text/plain": [
       "<Figure size 432x288 with 2 Axes>"
      ]
     },
     "metadata": {},
     "output_type": "display_data"
    }
   ],
   "source": [
    "sns.heatmap(corr_df[(corr_df<1) & ((corr_df >= 0.3) | (corr_df <= -0.3)) ] )"
   ]
  },
  {
   "cell_type": "code",
   "execution_count": null,
   "metadata": {},
   "outputs": [],
   "source": [
    "corr_matrix = train_df.corr()\n",
    "corr_matrix[\"No-show_\"].sort_values()"
   ]
  },
  {
   "cell_type": "code",
   "execution_count": null,
   "metadata": {},
   "outputs": [],
   "source": [
    "plt.scatter(data = train_df, x=\"last_evaluation\", y=\"satisfaction_level\", alpha=0.1)"
   ]
  },
  {
   "cell_type": "code",
   "execution_count": null,
   "metadata": {},
   "outputs": [],
   "source": [
    "sns.pairplot(train_df_numeric, kind='reg', plot_kws={'line_kws':{'color':'red'}, 'scatter_kws': {'alpha': 0.05}})"
   ]
  },
  {
   "cell_type": "code",
   "execution_count": null,
   "metadata": {},
   "outputs": [],
   "source": [
    "pd.crosstab(train_df['No-show_'], train_df['SMS_received'], margins=True)"
   ]
  },
  {
   "cell_type": "code",
   "execution_count": null,
   "metadata": {},
   "outputs": [],
   "source": [
    "attributes = ['Age', 'Diabetes','SMS_received']"
   ]
  },
  {
   "cell_type": "code",
   "execution_count": null,
   "metadata": {},
   "outputs": [],
   "source": [
    "scatter_matrix(df[attributes], figsize=(12,8))"
   ]
  },
  {
   "cell_type": "code",
   "execution_count": 77,
   "metadata": {},
   "outputs": [
    {
     "data": {
      "text/plain": [
       "<matplotlib.axes._subplots.AxesSubplot at 0x1845c651f60>"
      ]
     },
     "execution_count": 77,
     "metadata": {},
     "output_type": "execute_result"
    },
    {
     "data": {
      "image/png": "[encoded data removed]",
      "text/plain": [
       "<Figure size 432x288 with 1 Axes>"
      ]
     },
     "metadata": {},
     "output_type": "display_data"
    }
   ],
   "source": [
    "sns.boxplot(x='No-show_', y='Age', data=train_df)\n",
    "# No-show are of all ages, and the no shows are a bit younger.\n"
   ]
  },
  {
   "cell_type": "code",
   "execution_count": null,
   "metadata": {},
   "outputs": [],
   "source": [
    "sns.boxplot(x='No-show_', y='temp', data=train_df)"
   ]
  },
  {
   "cell_type": "code",
   "execution_count": 78,
   "metadata": {},
   "outputs": [
    {
     "data": {
      "text/plain": [
       "<matplotlib.axes._subplots.AxesSubplot at 0x18466064a58>"
      ]
     },
     "execution_count": 78,
     "metadata": {},
     "output_type": "execute_result"
    },
    {
     "data": {
      "image/png": "[encoded data removed]",
      "text/plain": [
       "<Figure size 432x288 with 1 Axes>"
      ]
     },
     "metadata": {},
     "output_type": "display_data"
    }
   ],
   "source": [
    "sns.boxplot(x='No-show_', y='From_Schedualing_to_Appoitment', data=train_df)\n",
    "# more no-shows have bigger gap between the schedualing to the appoitment date than the shows."
   ]
  },
  {
   "cell_type": "code",
   "execution_count": null,
   "metadata": {},
   "outputs": [],
   "source": [
    "sns.countplot(y='From_Schedualing_to_Appoitment', data=df, color='blue',hue = 'No-show')"
   ]
  },
  {
   "cell_type": "code",
   "execution_count": 12,
   "metadata": {},
   "outputs": [],
   "source": [
    "mms = MinMaxScaler()"
   ]
  },
  {
   "cell_type": "code",
   "execution_count": 13,
   "metadata": {
    "scrolled": true
   },
   "outputs": [],
   "source": [
    "train_df_normalized = mms.fit_transform(train_df) # fit is getting min and max, and transform changes the data by min-max\n",
    "test_df_normalized = mms.transform(test_df) #for testing use transform only. Min and max are taken from the train"
   ]
  },
  {
   "cell_type": "code",
   "execution_count": 16,
   "metadata": {},
   "outputs": [],
   "source": [
    "stdsc = StandardScaler()\n",
    "train_df_std = stdsc.fit_transform(train_df) # fit is getting mean and std, and transform changes the data by standartization\n",
    "test_df_std = stdsc.transform(test_df) #for testing use transform only. Mean and std are taken from the train"
   ]
  },
  {
   "cell_type": "code",
   "execution_count": 17,
   "metadata": {
    "collapsed": true
   },
   "outputs": [
    {
     "data": {
      "image/png": "[encoded data removed]",
      "text/plain": [
       "<Figure size 432x288 with 1 Axes>"
      ]
     },
     "metadata": {},
     "output_type": "display_data"
    }
   ],
   "source": [
    "plt.hist(train_df_std)\n",
    "plt.show()"
   ]
  },
  {
   "cell_type": "code",
   "execution_count": 79,
   "metadata": {},
   "outputs": [],
   "source": [
    "pickle.dump(train_df, open(\"train_df.dat\", \"wb\")) # wb = write binary"
   ]
  },
  {
   "cell_type": "code",
   "execution_count": 80,
   "metadata": {},
   "outputs": [],
   "source": [
    "train_df_read = pickle.load(open(\"train_df.dat\", \"rb\"))"
   ]
  },
  {
   "cell_type": "code",
   "execution_count": 81,
   "metadata": {},
   "outputs": [],
   "source": [
    "pickle.dump(test_df, open(\"test_df.dat\", \"wb\"))\n",
    "pickle.dump(train_df_std, open(\"train_df_std.dat\", \"wb\"))\n",
    "pickle.dump(test_df_std, open(\"test_df_std.dat\", \"wb\"))"
   ]
  },
  {
   "cell_type": "code",
   "execution_count": 82,
   "metadata": {},
   "outputs": [],
   "source": [
    "pickle.dump(train_df_normalized, open(\"train_df_normalized.dat\", \"wb\"))\n",
    "pickle.dump(test_df_normalized, open(\"test_df_normalized.dat\", \"wb\"))"
   ]
  }
 ],
 "metadata": {
  "kernelspec": {
   "display_name": "Python 3",
   "language": "python",
   "name": "python3"
  },
  "language_info": {
   "codemirror_mode": {
    "name": "ipython",
    "version": 3
   },
   "file_extension": ".py",
   "mimetype": "text/x-python",
   "name": "python",
   "nbconvert_exporter": "python",
   "pygments_lexer": "ipython3",
   "version": "3.6.5"
  }
 },
 "nbformat": 4,
 "nbformat_minor": 2
}
