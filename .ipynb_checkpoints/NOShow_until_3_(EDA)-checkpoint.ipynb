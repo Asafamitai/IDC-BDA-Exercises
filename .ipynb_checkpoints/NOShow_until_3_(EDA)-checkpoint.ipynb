{
 "cells": [
  {
   "cell_type": "code",
   "execution_count": 15,
   "metadata": {},
   "outputs": [],
   "source": [
    "%matplotlib inline\n",
    "import numpy as np\n",
    "import pandas as pd\n",
    "import statsmodels.formula.api as sm\n",
    "import datetime\n",
    "from sklearn import metrics\n",
    "from sklearn.decomposition import PCA\n",
    "from sklearn.ensemble import RandomForestClassifier\n",
    "from sklearn.externals import joblib\n",
    "from scipy.stats import norm\n",
    "from sklearn.model_selection import train_test_split\n",
    "from pandas.plotting import scatter_matrix\n",
    "\n",
    "import pylab as pl\n",
    "import matplotlib.pyplot as plt\n",
    "import seaborn as sns\n",
    "%matplotlib inline \n",
    "\n",
    "from sklearn.preprocessing import MinMaxScaler\n",
    "from sklearn.preprocessing import StandardScaler\n",
    "\n",
    "import pickle\n"
   ]
  },
  {
   "cell_type": "code",
   "execution_count": null,
   "metadata": {},
   "outputs": [],
   "source": [
    "## לא רלוונטי יותר היה חשוב ליצירת הדאטה\n",
    "#df = pd.read_csv('no_show_original_data_2016.csv') #df = the original data from Kaggle\n",
    "\n",
    "#df_wether= pd.read_csv('Wether_vitaria_2016.csv')\n",
    "#df_wether.head()\n",
    "\n",
    "#df_wether_all_day=pd.DataFrame\n",
    "\n",
    "#df_wether_all_day=df_wether.groupby('date', as_index=False).agg({\"prcp\":\"mean\",\"temp\":\"mean\"})\n",
    "#df_wether_all_day['AppointmentDay'] = pd.to_datetime(df_wether_all_day['date'], format='%d-%m-%y')\n",
    "#df_wether_all_day.head()"
   ]
  },
  {
   "cell_type": "code",
   "execution_count": null,
   "metadata": {},
   "outputs": [],
   "source": [
    "##לא חשוב יותר-היה חשוב ליצירת הדאטה\n",
    "##This will create a new column called ScheduledWeekDay = it converts the date to the day of the week.\n",
    "#df['ScheduledDay'] = df['ScheduledDay'].astype('datetime64[ns]')\n",
    "#df['ScheduledDay'][0].weekday()\n",
    "#df.info()\n",
    "#df['ScheduledWeekDay'] = df['ScheduledDay'].apply(lambda x: x.weekday()+1)"
   ]
  },
  {
   "cell_type": "code",
   "execution_count": null,
   "metadata": {},
   "outputs": [],
   "source": [
    "## לא חשוב יותר היה רלוונטי ליצירת הדאטה\n",
    "#df['AppointmentDay']=df['AppointmentDay'].astype(str).str[:-4].astype(np.datetime64)#לעשות רק פעם אחת! זה מעיף את השטויות מהתאריך ומשאיר אותו רק עם תאריך\n",
    "#df['AppointmentDay']\n",
    "\n"
   ]
  },
  {
   "cell_type": "code",
   "execution_count": null,
   "metadata": {},
   "outputs": [],
   "source": [
    "##לא חשוב יותר, היה רלוונטי ליצירת הדאטה \n",
    "#df\n",
    "#df=df.merge(df_wether_all_day, how='left', on='AppointmentDay' )\n",
    "#df=df.drop(['date'], axis=1)\n",
    "#df.head()\n"
   ]
  },
  {
   "cell_type": "code",
   "execution_count": null,
   "metadata": {},
   "outputs": [],
   "source": [
    "#df.to_csv('no_show_original_data_2016_with_update_weather')\n",
    "\n"
   ]
  },
  {
   "cell_type": "code",
   "execution_count": null,
   "metadata": {},
   "outputs": [],
   "source": [
    "#df.isnull().sum()\n",
    "# ניתן לראות של86016 רשומות אין משקעים ביום, כלומר רק לחמישית מהנתונים יש\n",
    "#נכניס אפסים לכל המי שאין לו משקעים\n",
    "#df = df.fillna(value = \"0\")\n",
    "#df.isnull().sum()\n"
   ]
  },
  {
   "cell_type": "code",
   "execution_count": null,
   "metadata": {},
   "outputs": [],
   "source": [
    "# משורה זו שואבים את הדאטה החדשה והרלוונטית\n",
    "  \n",
    "#df=pd.read_csv('no_show_original_data_2016_with_update_weather')\n",
    "#df = df.drop(['Unnamed: 0'], axis=1)"
   ]
  },
  {
   "cell_type": "markdown",
   "metadata": {},
   "source": [
    "### Adding another column that states the delta between ScheduledDay and AppointmentDay\n"
   ]
  },
  {
   "cell_type": "code",
   "execution_count": null,
   "metadata": {},
   "outputs": [],
   "source": [
    "#df['ScheduledDay'] = pd.to_datetime(df['ScheduledDay'])\n",
    "#df['ScheduledDay_date'] = df['ScheduledDay'].dt.date\n",
    "#df['ScheduledDay_date'] = pd.to_datetime(df['ScheduledDay_date'])\n",
    "#df['AppointmentDay'] = pd.to_datetime(df['AppointmentDay'])\n",
    "#df['From_Schedualing_to_Appoitment'] = df['AppointmentDay']-df['ScheduledDay_date']\n",
    "#df = df.drop('ScheduledDay', 1)"
   ]
  },
  {
   "cell_type": "markdown",
   "metadata": {},
   "source": [
    "### adding a column of the day of the week of the appointment"
   ]
  },
  {
   "cell_type": "code",
   "execution_count": null,
   "metadata": {},
   "outputs": [],
   "source": [
    "#df['AppointmentDay'] = df['AppointmentDay'].astype('datetime64[ns]')\n",
    "#df['AppointmentDay'][0].weekday()\n",
    "#df['Appointment_WeekDay'] = df['AppointmentDay'].apply(lambda x: x.weekday()+2)"
   ]
  },
  {
   "cell_type": "markdown",
   "metadata": {},
   "source": [
    "### Droping the ScheduledWeekDay column"
   ]
  },
  {
   "cell_type": "code",
   "execution_count": null,
   "metadata": {},
   "outputs": [],
   "source": [
    "#df = df.drop('ScheduledWeekDay', 1)"
   ]
  },
  {
   "cell_type": "markdown",
   "metadata": {},
   "source": [
    "### changing the index (columns) order"
   ]
  },
  {
   "cell_type": "code",
   "execution_count": null,
   "metadata": {
    "scrolled": true
   },
   "outputs": [],
   "source": [
    "#new_index_order = ['PatientId', 'AppointmentID',  'Age', 'Gender', 'Neighbourhood', 'AppointmentDay', 'Appointment_WeekDay','From_Schedualing_to_Appoitment','prcp', 'temp', \n",
    "       #'Scholarship', 'Hipertension', 'Diabetes',\n",
    "      # 'Alcoholism', 'Handcap', 'SMS_received',\n",
    "     #  'ScheduledDay_date','No-show']\n",
    "#df = df.reindex(columns=new_index_order)"
   ]
  },
  {
   "cell_type": "code",
   "execution_count": null,
   "metadata": {},
   "outputs": [],
   "source": [
    "#df = pd.read_csv('no_show_original_data_2016_with_update_weather') #df = הדאטה אחרי שנוסף לו יום בשבוע, משקעים וטמפ' ממוצעים"
   ]
  },
  {
   "cell_type": "code",
   "execution_count": null,
   "metadata": {},
   "outputs": [],
   "source": [
    "#df.to_csv('no_show_final_data')\n",
    "#this is the data file we will until forther notice."
   ]
  },
  {
   "cell_type": "markdown",
   "metadata": {},
   "source": [
    "# START FROM HERE \n",
    "#### ALL OF THE ABOVE IS NOT RELEVANT ANYMORE"
   ]
  },
  {
   "cell_type": "code",
   "execution_count": 2,
   "metadata": {},
   "outputs": [],
   "source": [
    "df=pd.read_csv('no_show_final_data')\n",
    "df = df.drop(['Unnamed: 0'], axis=1)\n",
    "\n",
    "#### Changing all the types correctly ####\n",
    "df['AppointmentDay'] = pd.to_datetime(df['AppointmentDay'])\n",
    "df['ScheduledDay_date'] = pd.to_datetime(df['ScheduledDay_date'])\n",
    "df['From_Schedualing_to_Appoitment'] = df['From_Schedualing_to_Appoitment'].str.replace('days 00:00:00.000000000', '')\n"
   ]
  },
  {
   "cell_type": "code",
   "execution_count": 3,
   "metadata": {},
   "outputs": [],
   "source": [
    "# This will drop 5 rows unfortunately - otherwise I coulnd't change \"From_Schedualing_to_Appoitment\" to Int type.\n",
    "#use this box only once. After the first time thers rows are gone so you can't rerun it.\n",
    "df = df.drop([107953])\n",
    "df = df.drop([56552])\n",
    "df = df.drop([29635])\n",
    "df = df.drop([34082])\n",
    "df = df.drop([14205])"
   ]
  },
  {
   "cell_type": "code",
   "execution_count": 4,
   "metadata": {},
   "outputs": [],
   "source": [
    "# changing object to int\n",
    "df['From_Schedualing_to_Appoitment'] = df['From_Schedualing_to_Appoitment'].astype(int)"
   ]
  },
  {
   "cell_type": "code",
   "execution_count": 5,
   "metadata": {},
   "outputs": [],
   "source": [
    "# creating codes for categorical variables.\n",
    "df.loc[:, 'Neighbourhood_codes'] = df[\"Neighbourhood\"].astype(\"category\").cat.codes+1\n",
    "df.loc[:, 'Gender_'] = df[\"Gender\"].astype(\"category\").cat.codes\n",
    "#Woman=0, Man=1\n",
    "df.loc[:, 'No-show_'] = df[\"No-show\"].astype(\"category\").cat.codes\n",
    "#show=0, no-show=1 \n",
    "change_index_order_again = ['PatientId', 'AppointmentID', 'Age', 'Gender', 'Gender_', 'Neighbourhood', 'Neighbourhood_codes',\n",
    "       'AppointmentDay', 'Appointment_WeekDay',\n",
    "       'From_Schedualing_to_Appoitment', 'prcp', 'temp', 'Scholarship',\n",
    "       'Hipertension', 'Diabetes', 'Alcoholism', 'Handcap', 'SMS_received',\n",
    "       'ScheduledDay_date', 'No-show', 'No-show_']\n",
    "df = df.reindex(columns = change_index_order_again)\n"
   ]
  },
  {
   "cell_type": "code",
   "execution_count": 6,
   "metadata": {},
   "outputs": [],
   "source": [
    "#dfk = רק ילדים\n",
    "#df = רק מבוגרים\n",
    "#df_A_K =בנק של כולם, למתישהו\n",
    "dfk=df\n",
    "df_A_K=df"
   ]
  },
  {
   "cell_type": "code",
   "execution_count": 7,
   "metadata": {},
   "outputs": [],
   "source": [
    "dfk = dfk[dfk.Age <=15] # מוריד כל מי שגדול 16"
   ]
  },
  {
   "cell_type": "code",
   "execution_count": 8,
   "metadata": {
    "collapsed": true
   },
   "outputs": [
    {
     "data": {
      "text/html": [
       "<div>\n",
       "<style scoped>\n",
       "    .dataframe tbody tr th:only-of-type {\n",
       "        vertical-align: middle;\n",
       "    }\n",
       "\n",
       "    .dataframe tbody tr th {\n",
       "        vertical-align: top;\n",
       "    }\n",
       "\n",
       "    .dataframe thead th {\n",
       "        text-align: right;\n",
       "    }\n",
       "</style>\n",
       "<table border=\"1\" class=\"dataframe\">\n",
       "  <thead>\n",
       "    <tr style=\"text-align: right;\">\n",
       "      <th></th>\n",
       "      <th>PatientId</th>\n",
       "      <th>AppointmentID</th>\n",
       "      <th>Age</th>\n",
       "      <th>Gender_</th>\n",
       "      <th>Neighbourhood_codes</th>\n",
       "      <th>Appointment_WeekDay</th>\n",
       "      <th>From_Schedualing_to_Appoitment</th>\n",
       "      <th>prcp</th>\n",
       "      <th>temp</th>\n",
       "      <th>Scholarship</th>\n",
       "      <th>Hipertension</th>\n",
       "      <th>Diabetes</th>\n",
       "      <th>Alcoholism</th>\n",
       "      <th>Handcap</th>\n",
       "      <th>SMS_received</th>\n",
       "      <th>No-show_</th>\n",
       "    </tr>\n",
       "  </thead>\n",
       "  <tbody>\n",
       "    <tr>\n",
       "      <th>count</th>\n",
       "      <td>2.446700e+04</td>\n",
       "      <td>2.446700e+04</td>\n",
       "      <td>24467.000000</td>\n",
       "      <td>24467.000000</td>\n",
       "      <td>24467.000000</td>\n",
       "      <td>24467.000000</td>\n",
       "      <td>24467.000000</td>\n",
       "      <td>24467.000000</td>\n",
       "      <td>24467.000000</td>\n",
       "      <td>24467.000000</td>\n",
       "      <td>24467.000000</td>\n",
       "      <td>24467.000000</td>\n",
       "      <td>24467.000000</td>\n",
       "      <td>24467.000000</td>\n",
       "      <td>24467.000000</td>\n",
       "      <td>24467.000000</td>\n",
       "    </tr>\n",
       "    <tr>\n",
       "      <th>mean</th>\n",
       "      <td>1.491595e+14</td>\n",
       "      <td>5.676458e+06</td>\n",
       "      <td>6.240324</td>\n",
       "      <td>0.511097</td>\n",
       "      <td>43.650631</td>\n",
       "      <td>3.840438</td>\n",
       "      <td>9.706666</td>\n",
       "      <td>0.249291</td>\n",
       "      <td>24.251166</td>\n",
       "      <td>0.106633</td>\n",
       "      <td>0.000981</td>\n",
       "      <td>0.000899</td>\n",
       "      <td>0.000695</td>\n",
       "      <td>0.008501</td>\n",
       "      <td>0.293906</td>\n",
       "      <td>0.214452</td>\n",
       "    </tr>\n",
       "    <tr>\n",
       "      <th>std</th>\n",
       "      <td>2.578165e+14</td>\n",
       "      <td>6.760575e+04</td>\n",
       "      <td>4.791649</td>\n",
       "      <td>0.499887</td>\n",
       "      <td>22.540870</td>\n",
       "      <td>1.376798</td>\n",
       "      <td>13.792120</td>\n",
       "      <td>0.902047</td>\n",
       "      <td>1.056043</td>\n",
       "      <td>0.308653</td>\n",
       "      <td>0.031305</td>\n",
       "      <td>0.029973</td>\n",
       "      <td>0.026351</td>\n",
       "      <td>0.111878</td>\n",
       "      <td>0.455559</td>\n",
       "      <td>0.410450</td>\n",
       "    </tr>\n",
       "    <tr>\n",
       "      <th>min</th>\n",
       "      <td>1.420000e+05</td>\n",
       "      <td>5.216818e+06</td>\n",
       "      <td>0.000000</td>\n",
       "      <td>0.000000</td>\n",
       "      <td>2.000000</td>\n",
       "      <td>2.000000</td>\n",
       "      <td>0.000000</td>\n",
       "      <td>0.000000</td>\n",
       "      <td>21.941667</td>\n",
       "      <td>0.000000</td>\n",
       "      <td>0.000000</td>\n",
       "      <td>0.000000</td>\n",
       "      <td>0.000000</td>\n",
       "      <td>0.000000</td>\n",
       "      <td>0.000000</td>\n",
       "      <td>0.000000</td>\n",
       "    </tr>\n",
       "    <tr>\n",
       "      <th>25%</th>\n",
       "      <td>4.217150e+12</td>\n",
       "      <td>5.639710e+06</td>\n",
       "      <td>2.000000</td>\n",
       "      <td>0.000000</td>\n",
       "      <td>28.000000</td>\n",
       "      <td>3.000000</td>\n",
       "      <td>0.000000</td>\n",
       "      <td>0.000000</td>\n",
       "      <td>23.858333</td>\n",
       "      <td>0.000000</td>\n",
       "      <td>0.000000</td>\n",
       "      <td>0.000000</td>\n",
       "      <td>0.000000</td>\n",
       "      <td>0.000000</td>\n",
       "      <td>0.000000</td>\n",
       "      <td>0.000000</td>\n",
       "    </tr>\n",
       "    <tr>\n",
       "      <th>50%</th>\n",
       "      <td>3.193270e+13</td>\n",
       "      <td>5.679845e+06</td>\n",
       "      <td>6.000000</td>\n",
       "      <td>1.000000</td>\n",
       "      <td>42.000000</td>\n",
       "      <td>4.000000</td>\n",
       "      <td>3.000000</td>\n",
       "      <td>0.000000</td>\n",
       "      <td>24.208333</td>\n",
       "      <td>0.000000</td>\n",
       "      <td>0.000000</td>\n",
       "      <td>0.000000</td>\n",
       "      <td>0.000000</td>\n",
       "      <td>0.000000</td>\n",
       "      <td>0.000000</td>\n",
       "      <td>0.000000</td>\n",
       "    </tr>\n",
       "    <tr>\n",
       "      <th>75%</th>\n",
       "      <td>9.484310e+13</td>\n",
       "      <td>5.726028e+06</td>\n",
       "      <td>10.000000</td>\n",
       "      <td>1.000000</td>\n",
       "      <td>62.000000</td>\n",
       "      <td>5.000000</td>\n",
       "      <td>15.000000</td>\n",
       "      <td>0.000000</td>\n",
       "      <td>24.804167</td>\n",
       "      <td>0.000000</td>\n",
       "      <td>0.000000</td>\n",
       "      <td>0.000000</td>\n",
       "      <td>0.000000</td>\n",
       "      <td>0.000000</td>\n",
       "      <td>1.000000</td>\n",
       "      <td>0.000000</td>\n",
       "    </tr>\n",
       "    <tr>\n",
       "      <th>max</th>\n",
       "      <td>9.999820e+14</td>\n",
       "      <td>5.790284e+06</td>\n",
       "      <td>15.000000</td>\n",
       "      <td>1.000000</td>\n",
       "      <td>81.000000</td>\n",
       "      <td>6.000000</td>\n",
       "      <td>146.000000</td>\n",
       "      <td>4.666667</td>\n",
       "      <td>26.300000</td>\n",
       "      <td>1.000000</td>\n",
       "      <td>1.000000</td>\n",
       "      <td>1.000000</td>\n",
       "      <td>1.000000</td>\n",
       "      <td>4.000000</td>\n",
       "      <td>1.000000</td>\n",
       "      <td>1.000000</td>\n",
       "    </tr>\n",
       "  </tbody>\n",
       "</table>\n",
       "</div>"
      ],
      "text/plain": [
       "          PatientId  AppointmentID           Age       Gender_  \\\n",
       "count  2.446700e+04   2.446700e+04  24467.000000  24467.000000   \n",
       "mean   1.491595e+14   5.676458e+06      6.240324      0.511097   \n",
       "std    2.578165e+14   6.760575e+04      4.791649      0.499887   \n",
       "min    1.420000e+05   5.216818e+06      0.000000      0.000000   \n",
       "25%    4.217150e+12   5.639710e+06      2.000000      0.000000   \n",
       "50%    3.193270e+13   5.679845e+06      6.000000      1.000000   \n",
       "75%    9.484310e+13   5.726028e+06     10.000000      1.000000   \n",
       "max    9.999820e+14   5.790284e+06     15.000000      1.000000   \n",
       "\n",
       "       Neighbourhood_codes  Appointment_WeekDay  \\\n",
       "count         24467.000000         24467.000000   \n",
       "mean             43.650631             3.840438   \n",
       "std              22.540870             1.376798   \n",
       "min               2.000000             2.000000   \n",
       "25%              28.000000             3.000000   \n",
       "50%              42.000000             4.000000   \n",
       "75%              62.000000             5.000000   \n",
       "max              81.000000             6.000000   \n",
       "\n",
       "       From_Schedualing_to_Appoitment          prcp          temp  \\\n",
       "count                    24467.000000  24467.000000  24467.000000   \n",
       "mean                         9.706666      0.249291     24.251166   \n",
       "std                         13.792120      0.902047      1.056043   \n",
       "min                          0.000000      0.000000     21.941667   \n",
       "25%                          0.000000      0.000000     23.858333   \n",
       "50%                          3.000000      0.000000     24.208333   \n",
       "75%                         15.000000      0.000000     24.804167   \n",
       "max                        146.000000      4.666667     26.300000   \n",
       "\n",
       "        Scholarship  Hipertension      Diabetes    Alcoholism       Handcap  \\\n",
       "count  24467.000000  24467.000000  24467.000000  24467.000000  24467.000000   \n",
       "mean       0.106633      0.000981      0.000899      0.000695      0.008501   \n",
       "std        0.308653      0.031305      0.029973      0.026351      0.111878   \n",
       "min        0.000000      0.000000      0.000000      0.000000      0.000000   \n",
       "25%        0.000000      0.000000      0.000000      0.000000      0.000000   \n",
       "50%        0.000000      0.000000      0.000000      0.000000      0.000000   \n",
       "75%        0.000000      0.000000      0.000000      0.000000      0.000000   \n",
       "max        1.000000      1.000000      1.000000      1.000000      4.000000   \n",
       "\n",
       "       SMS_received      No-show_  \n",
       "count  24467.000000  24467.000000  \n",
       "mean       0.293906      0.214452  \n",
       "std        0.455559      0.410450  \n",
       "min        0.000000      0.000000  \n",
       "25%        0.000000      0.000000  \n",
       "50%        0.000000      0.000000  \n",
       "75%        1.000000      0.000000  \n",
       "max        1.000000      1.000000  "
      ]
     },
     "execution_count": 8,
     "metadata": {},
     "output_type": "execute_result"
    }
   ],
   "source": [
    "df = df[df.Age >15] #מוריד כל מי שקטן 16\n",
    "# 86054 מבוגרים\n",
    "# 24467 ילדים\n",
    "# סה\"כ = 110521\n",
    "\n"
   ]
  },
  {
   "cell_type": "markdown",
   "metadata": {},
   "source": [
    "# stop here!!!!!!!!"
   ]
  },
  {
   "cell_type": "markdown",
   "metadata": {},
   "source": [
    "### Numerical variables:\n",
    "1. Age\n",
    "2. prcp\n",
    "3. temp\n",
    "4. PatientId\n",
    "5. From_Schedualing_to_Appoitment\n",
    "\n",
    "### Categorical nominal variables: \n",
    "\n",
    "1. Neighbourhood_codes\n",
    "2. Gender_\n",
    "3. Scholarship\n",
    "2. Hipertension\n",
    "5. Diabetes\n",
    "3. Alcoholism\n",
    "4. Handcap\n",
    "5. SMS_received\n",
    "\n",
    "### Categorical ordinal variables: \n",
    "\n",
    "1. Appointment_WeekDay\n",
    "2. AppointmentDay\n",
    "4. ScheduledDay_date\n",
    "5. AppointmentID"
   ]
  },
  {
   "cell_type": "code",
   "execution_count": null,
   "metadata": {},
   "outputs": [],
   "source": [
    "#df_wether_all_day.head()"
   ]
  },
  {
   "cell_type": "code",
   "execution_count": null,
   "metadata": {},
   "outputs": [],
   "source": [
    "#len(df['Neighbourhood_codes'].value_counts())"
   ]
  },
  {
   "cell_type": "code",
   "execution_count": null,
   "metadata": {},
   "outputs": [],
   "source": [
    "#df[\"PatientId\"].value_counts()"
   ]
  },
  {
   "cell_type": "code",
   "execution_count": null,
   "metadata": {},
   "outputs": [],
   "source": [
    "#df['AppointmentID'].value_counts().head()"
   ]
  },
  {
   "cell_type": "code",
   "execution_count": null,
   "metadata": {},
   "outputs": [],
   "source": [
    "#df['SMS_received'].value_counts().head()\n",
    "# we can't know if there was more then 1 SMS sent. "
   ]
  },
  {
   "cell_type": "code",
   "execution_count": null,
   "metadata": {},
   "outputs": [],
   "source": [
    "#df.describe()"
   ]
  },
  {
   "cell_type": "code",
   "execution_count": null,
   "metadata": {},
   "outputs": [],
   "source": [
    "#df.info()"
   ]
  },
  {
   "cell_type": "markdown",
   "metadata": {},
   "source": [
    "### Analizing the data: first conclutions\n",
    "1. There was 1 row with the age of (-1). It wasn't a no show, so I deleted it (Itamar).\n",
    "2. The SMS column states if a text was sent or not. It does not state how many sms were sent."
   ]
  },
  {
   "cell_type": "code",
   "execution_count": null,
   "metadata": {},
   "outputs": [],
   "source": [
    "df.isnull().sum()"
   ]
  },
  {
   "cell_type": "code",
   "execution_count": null,
   "metadata": {},
   "outputs": [],
   "source": [
    "sns.countplot(x='Gender', data=df)\n",
    "# women go mnore to the doctor\n",
    "# no differance between men and women in \"no-show\"s"
   ]
  },
  {
   "cell_type": "code",
   "execution_count": null,
   "metadata": {
    "scrolled": false
   },
   "outputs": [],
   "source": [
    "sns.countplot(x='Age', data=df)\n",
    "# not normal distribution? what to do?"
   ]
  },
  {
   "cell_type": "code",
   "execution_count": null,
   "metadata": {
    "scrolled": false
   },
   "outputs": [],
   "source": [
    "sns.countplot(x='Age', data=dfk,  color='blue',hue = 'No-show')\n",
    "# not normal distribution? what to do?"
   ]
  },
  {
   "cell_type": "code",
   "execution_count": null,
   "metadata": {},
   "outputs": [],
   "source": [
    "sns.countplot(x='Neighbourhood_codes', data=df, color='blue',hue = 'No-show')"
   ]
  },
  {
   "cell_type": "code",
   "execution_count": null,
   "metadata": {},
   "outputs": [],
   "source": [
    "sns.countplot(x='Alcoholism', data=df, color='blue',hue = 'No-show')"
   ]
  },
  {
   "cell_type": "code",
   "execution_count": null,
   "metadata": {},
   "outputs": [],
   "source": [
    "sns.countplot(x='From_Schedualing_to_Appoitment', data=df, color='blue',hue = 'No-show')"
   ]
  },
  {
   "cell_type": "code",
   "execution_count": null,
   "metadata": {},
   "outputs": [],
   "source": [
    "sns.countplot(x='AppointmentDay', data=df, color='blue',hue = 'No-show_')"
   ]
  },
  {
   "cell_type": "code",
   "execution_count": null,
   "metadata": {},
   "outputs": [],
   "source": [
    "sns.countplot(x='SMS_received', data=df, color='blue',hue = 'No-show')\n",
    "# SMS did not help decrise the number of no-shows in the problematic patients."
   ]
  },
  {
   "cell_type": "code",
   "execution_count": null,
   "metadata": {},
   "outputs": [],
   "source": [
    "sns.countplot(x='prcp', data=df, color='blue',hue = 'No-show')\n",
    "# SMS did not help decrise the number of no-shows in the problematic patients."
   ]
  },
  {
   "cell_type": "code",
   "execution_count": null,
   "metadata": {},
   "outputs": [],
   "source": [
    "sns.countplot(y='Scholarship', data=df, color='blue',hue = 'No-show')"
   ]
  },
  {
   "cell_type": "code",
   "execution_count": null,
   "metadata": {},
   "outputs": [],
   "source": [
    "sns.countplot(y='Gender', data=df, color='blue',hue = 'No-show')"
   ]
  },
  {
   "cell_type": "code",
   "execution_count": null,
   "metadata": {},
   "outputs": [],
   "source": [
    "sns.countplot(y='Gender', data=df, color='blue',hue = 'No-show')"
   ]
  },
  {
   "cell_type": "code",
   "execution_count": null,
   "metadata": {},
   "outputs": [],
   "source": [
    "sns.countplot(x='From_Schedualing_to_Appoitment', data=df)\n",
    "#how to make normal?"
   ]
  },
  {
   "cell_type": "code",
   "execution_count": null,
   "metadata": {},
   "outputs": [],
   "source": [
    "df.sort_values('AppointmentDay')"
   ]
  },
  {
   "cell_type": "code",
   "execution_count": null,
   "metadata": {},
   "outputs": [],
   "source": [
    "df['AppointmentDay'].value_counts()"
   ]
  },
  {
   "cell_type": "code",
   "execution_count": null,
   "metadata": {},
   "outputs": [],
   "source": [
    "# Identify missing data\n",
    "df.isnull().sum()\n",
    "# no missing data :)"
   ]
  },
  {
   "cell_type": "markdown",
   "metadata": {},
   "source": [
    "### making a pie chart"
   ]
  },
  {
   "cell_type": "code",
   "execution_count": null,
   "metadata": {},
   "outputs": [],
   "source": [
    "fig1, ax1 = plt.subplots()\n",
    "\n",
    "slices = df[\"Scholarship\"].value_counts()\n",
    "labels = slices.index\n",
    "ax1.pie(slices, autopct='%1.1f%%', labels=labels)\n",
    "ax1.axis('equal')  # Equal aspect ratio ensures that pie is drawn as a circle.\n",
    "\n",
    "plt.show()"
   ]
  },
  {
   "cell_type": "code",
   "execution_count": null,
   "metadata": {},
   "outputs": [],
   "source": [
    "fig1, ax1 = plt.subplots()\n",
    "\n",
    "slices = df[\"Alcoholism\"].value_counts()\n",
    "labels = slices.index\n",
    "ax1.pie(slices, autopct='%1.1f%%', labels=labels)\n",
    "ax1.axis('equal')  # Equal aspect ratio ensures that pie is drawn as a circle.\n",
    "\n",
    "plt.show()"
   ]
  },
  {
   "cell_type": "markdown",
   "metadata": {},
   "source": [
    "##### Encode ordinal feature\n",
    "We can define a dictionary that maps each ordinal value to a numerical value, and then use the function \"map\" as shown below, or use the function \"replace\" as shown in: http://pbpython.com/categorical-encoding.html ."
   ]
  },
  {
   "cell_type": "code",
   "execution_count": null,
   "metadata": {},
   "outputs": [],
   "source": [
    "sns.countplot(x='From_Schedualing_to_Appoitment', data=df)"
   ]
  },
  {
   "cell_type": "markdown",
   "metadata": {},
   "source": [
    "##### #### 3.1 Histograms to view features"
   ]
  },
  {
   "cell_type": "code",
   "execution_count": null,
   "metadata": {},
   "outputs": [],
   "source": [
    "df.columns"
   ]
  },
  {
   "cell_type": "code",
   "execution_count": null,
   "metadata": {
    "scrolled": true
   },
   "outputs": [],
   "source": [
    "df.hist(bins = 200, figsize = (20,15), column=['PatientId', 'AppointmentID', 'Age', 'Gender', 'Gender_',\n",
    "       'Neighbourhood', 'Neighbourhood_codes', 'AppointmentDay',\n",
    "       'Appointment_WeekDay', 'From_Schedualing_to_Appoitment', 'prcp', 'temp',\n",
    "       'Scholarship', 'Hipertension', 'Diabetes', 'Alcoholism', 'Handcap',\n",
    "       'SMS_received', 'ScheduledDay_date', 'No-show', 'No-show_']) #Check the hist parameters by clicking on the Tab completion. \n",
    "plt.show()"
   ]
  },
  {
   "cell_type": "code",
   "execution_count": null,
   "metadata": {},
   "outputs": [],
   "source": [
    "sns.distplot(df[\"Age\"], fit=norm)"
   ]
  },
  {
   "cell_type": "code",
   "execution_count": null,
   "metadata": {},
   "outputs": [],
   "source": [
    "sns.distplot(df[\"prcp\"], fit=norm)"
   ]
  },
  {
   "cell_type": "code",
   "execution_count": null,
   "metadata": {},
   "outputs": [],
   "source": [
    "sns.distplot(df[\"Appointment_WeekDay\"])\n"
   ]
  },
  {
   "cell_type": "code",
   "execution_count": null,
   "metadata": {},
   "outputs": [],
   "source": [
    "#לא יודעים מה לעשות עם זה\n",
    "#New_age = np.clip(df['Age'], 1, 95)\n",
    "#plt.hist(df['Age'], bins=50)\n",
    "#plt.hist(New_age, bins=50, color='red', alpha = 0.5)\n",
    "#plt.show()"
   ]
  },
  {
   "cell_type": "code",
   "execution_count": null,
   "metadata": {},
   "outputs": [],
   "source": [
    "sqrt_age = np.sqrt(df[\"Age\"])"
   ]
  },
  {
   "cell_type": "code",
   "execution_count": null,
   "metadata": {},
   "outputs": [],
   "source": [
    "sns.distplot(df[\"Age\"], fit=norm)"
   ]
  },
  {
   "cell_type": "code",
   "execution_count": null,
   "metadata": {},
   "outputs": [],
   "source": [
    "sns.distplot(log_age, fit=norm, bins=15)"
   ]
  },
  {
   "cell_type": "markdown",
   "metadata": {},
   "source": [
    "# Start of train/test"
   ]
  },
  {
   "cell_type": "code",
   "execution_count": 9,
   "metadata": {},
   "outputs": [],
   "source": [
    "df_N = df.drop(['PatientId', 'AppointmentID', 'Age', 'Gender', 'Gender_',\n",
    "    'AppointmentDay',\n",
    "       'Appointment_WeekDay', 'From_Schedualing_to_Appoitment', 'prcp', 'temp',\n",
    "       'Scholarship', 'Hipertension', 'Diabetes', 'Alcoholism', 'Handcap',\n",
    "       'SMS_received', 'ScheduledDay_date', 'No-show', 'No-show_'], axis=1)\n",
    "df = df.drop(['Gender','No-show','Neighbourhood', 'AppointmentDay', 'ScheduledDay_date'], axis=1)"
   ]
  },
  {
   "cell_type": "code",
   "execution_count": 10,
   "metadata": {},
   "outputs": [],
   "source": [
    "train_df, test_df= train_test_split(df, test_size = 0.2, random_state=7)\n",
    "# train_test_split is from sklearn. It requiers that the data will be a numpy array, that is numbers only.\n",
    "# If your prediction class in y is very small, then add a parameter startify = y"
   ]
  },
  {
   "cell_type": "code",
   "execution_count": 11,
   "metadata": {},
   "outputs": [],
   "source": [
    "y = train_df[\"No-show_\"]\n",
    "X = train_df"
   ]
  },
  {
   "cell_type": "code",
   "execution_count": null,
   "metadata": {},
   "outputs": [],
   "source": [
    "train_df_numeric = train_df.iloc[:, 0:20]\n",
    "# iloc = integer-location based indexing for selection by position\n",
    "corr_df=train_df_numeric.corr()\n",
    "corr_df"
   ]
  },
  {
   "cell_type": "code",
   "execution_count": null,
   "metadata": {},
   "outputs": [],
   "source": [
    "sns.heatmap(corr_df)\n",
    "# corr of 47% > Age + Hypertention (blood pressure)\n",
    "# corr of 27% > Age + Diabetes\n",
    "# corr of 41% > Diabetes + Hypertention (blood pressure)\n",
    "# corr of 38% > SMS + From_Schedualing_to_Appoitment"
   ]
  },
  {
   "cell_type": "code",
   "execution_count": null,
   "metadata": {},
   "outputs": [],
   "source": [
    "sns.heatmap(corr_df[(corr_df<1) & ((corr_df >= 0.3) | (corr_df <= -0.3)) ] )"
   ]
  },
  {
   "cell_type": "code",
   "execution_count": null,
   "metadata": {},
   "outputs": [],
   "source": [
    "corr_matrix = train_df.corr()\n",
    "corr_matrix[\"No-show_\"].sort_values()"
   ]
  },
  {
   "cell_type": "code",
   "execution_count": null,
   "metadata": {},
   "outputs": [],
   "source": [
    "plt.scatter(data = train_df, x=\"last_evaluation\", y=\"satisfaction_level\", alpha=0.1)"
   ]
  },
  {
   "cell_type": "code",
   "execution_count": null,
   "metadata": {},
   "outputs": [],
   "source": [
    "sns.pairplot(train_df_numeric, kind='reg', plot_kws={'line_kws':{'color':'red'}, 'scatter_kws': {'alpha': 0.05}})"
   ]
  },
  {
   "cell_type": "code",
   "execution_count": null,
   "metadata": {},
   "outputs": [],
   "source": [
    "pd.crosstab(train_df['No-show_'], train_df['SMS_received'], margins=True)"
   ]
  },
  {
   "cell_type": "code",
   "execution_count": null,
   "metadata": {},
   "outputs": [],
   "source": [
    "attributes = ['Age', 'Diabetes','SMS_received']"
   ]
  },
  {
   "cell_type": "code",
   "execution_count": null,
   "metadata": {},
   "outputs": [],
   "source": [
    "scatter_matrix(df[attributes], figsize=(12,8))"
   ]
  },
  {
   "cell_type": "code",
   "execution_count": null,
   "metadata": {},
   "outputs": [],
   "source": [
    "sns.boxplot(x='No-show_', y='Age', data=train_df)\n",
    "# No-show are of all ages, and the no shows are a bit younger.\n"
   ]
  },
  {
   "cell_type": "code",
   "execution_count": null,
   "metadata": {},
   "outputs": [],
   "source": [
    "sns.boxplot(x='No-show_', y='temp', data=train_df)"
   ]
  },
  {
   "cell_type": "code",
   "execution_count": null,
   "metadata": {},
   "outputs": [],
   "source": [
    "sns.boxplot(x='No-show_', y='From_Schedualing_to_Appoitment', data=train_df)\n",
    "# more no-shows have bigger gap between the schedualing to the appoitment date than the shows."
   ]
  },
  {
   "cell_type": "code",
   "execution_count": null,
   "metadata": {},
   "outputs": [],
   "source": [
    "sns.countplot(y='From_Schedualing_to_Appoitment', data=df, color='blue',hue = 'No-show')"
   ]
  },
  {
   "cell_type": "code",
   "execution_count": 12,
   "metadata": {},
   "outputs": [],
   "source": [
    "mms = MinMaxScaler()"
   ]
  },
  {
   "cell_type": "code",
   "execution_count": 13,
   "metadata": {
    "scrolled": true
   },
   "outputs": [],
   "source": [
    "train_df_normalized = mms.fit_transform(train_df) # fit is getting min and max, and transform changes the data by min-max\n",
    "test_df_normalized = mms.transform(test_df) #for testing use transform only. Min and max are taken from the train"
   ]
  },
  {
   "cell_type": "code",
   "execution_count": 16,
   "metadata": {},
   "outputs": [],
   "source": [
    "stdsc = StandardScaler()\n",
    "train_df_std = stdsc.fit_transform(train_df) # fit is getting mean and std, and transform changes the data by standartization\n",
    "test_df_std = stdsc.transform(test_df) #for testing use transform only. Mean and std are taken from the train"
   ]
  },
  {
   "cell_type": "code",
   "execution_count": 17,
   "metadata": {
    "collapsed": true
   },
   "outputs": [
    {
     "data": {
      "image/png": "[encoded data removed]",
      "text/plain": [
       "<Figure size 432x288 with 1 Axes>"
      ]
     },
     "metadata": {},
     "output_type": "display_data"
    }
   ],
   "source": [
    "plt.hist(train_df_std)\n",
    "plt.show()"
   ]
  },
  {
   "cell_type": "code",
   "execution_count": 18,
   "metadata": {},
   "outputs": [],
   "source": [
    "pickle.dump(train_df, open(\"train_df.dat\", \"wb\")) # wb = write binary"
   ]
  },
  {
   "cell_type": "code",
   "execution_count": 19,
   "metadata": {},
   "outputs": [],
   "source": [
    "train_df_read = pickle.load(open(\"train_df.dat\", \"rb\"))"
   ]
  },
  {
   "cell_type": "code",
   "execution_count": 22,
   "metadata": {},
   "outputs": [],
   "source": [
    "pickle.dump(test_df, open(\"test_df.dat\", \"wb\"))\n",
    "pickle.dump(train_df_std, open(\"train_df_std.dat\", \"wb\"))\n",
    "pickle.dump(test_df_std, open(\"test_df_std.dat\", \"wb\"))"
   ]
  },
  {
   "cell_type": "code",
   "execution_count": 23,
   "metadata": {},
   "outputs": [],
   "source": [
    "pickle.dump(train_df_normalized, open(\"train_df_normalized.dat\", \"wb\"))\n",
    "pickle.dump(test_df_normalized, open(\"test_df_normalized.dat\", \"wb\"))"
   ]
  }
 ],
 "metadata": {
  "kernelspec": {
   "display_name": "Python 3",
   "language": "python",
   "name": "python3"
  },
  "language_info": {
   "codemirror_mode": {
    "name": "ipython",
    "version": 3
   },
   "file_extension": ".py",
   "mimetype": "text/x-python",
   "name": "python",
   "nbconvert_exporter": "python",
   "pygments_lexer": "ipython3",
   "version": "3.6.5"
  }
 },
 "nbformat": 4,
 "nbformat_minor": 2
}
