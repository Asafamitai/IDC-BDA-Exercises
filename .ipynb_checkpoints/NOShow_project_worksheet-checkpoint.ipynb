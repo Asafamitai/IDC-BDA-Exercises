{
 "cells": [
  {
   "cell_type": "code",
   "execution_count": 19,
   "metadata": {},
   "outputs": [],
   "source": [
    "%matplotlib inline\n",
    "import numpy as np\n",
    "import pandas as pd\n",
    "import statsmodels.formula.api as sm\n",
    "import datetime\n",
    "from sklearn import metrics\n",
    "from sklearn.decomposition import PCA\n",
    "from sklearn.ensemble import RandomForestClassifier\n",
    "from sklearn.externals import joblib\n",
    "from scipy.stats import norm\n",
    "from sklearn.model_selection import train_test_split\n",
    "\n",
    "import pylab as pl\n",
    "import matplotlib.pyplot as plt\n",
    "import seaborn as sns"
   ]
  },
  {
   "cell_type": "code",
   "execution_count": null,
   "metadata": {},
   "outputs": [],
   "source": [
    "## לא רלוונטי יותר היה חשוב ליצירת הדאטה\n",
    "#df = pd.read_csv('no_show_original_data_2016.csv') #df = the original data from Kaggle\n",
    "\n",
    "#df_wether= pd.read_csv('Wether_vitaria_2016.csv')\n",
    "#df_wether.head()\n",
    "\n",
    "#df_wether_all_day=pd.DataFrame\n",
    "\n",
    "#df_wether_all_day=df_wether.groupby('date', as_index=False).agg({\"prcp\":\"mean\",\"temp\":\"mean\"})\n",
    "#df_wether_all_day['AppointmentDay'] = pd.to_datetime(df_wether_all_day['date'], format='%d-%m-%y')\n",
    "#df_wether_all_day.head()"
   ]
  },
  {
   "cell_type": "code",
   "execution_count": null,
   "metadata": {},
   "outputs": [],
   "source": [
    "##לא חשוב יותר-היה חשוב ליצירת הדאטה\n",
    "##This will create a new column called ScheduledWeekDay = it converts the date to the day of the week.\n",
    "#df['ScheduledDay'] = df['ScheduledDay'].astype('datetime64[ns]')\n",
    "#df['ScheduledDay'][0].weekday()\n",
    "#df.info()\n",
    "#df['ScheduledWeekDay'] = df['ScheduledDay'].apply(lambda x: x.weekday()+1)"
   ]
  },
  {
   "cell_type": "code",
   "execution_count": null,
   "metadata": {},
   "outputs": [],
   "source": [
    "## לא חשוב יותר היה רלוונטי ליצירת הדאטה\n",
    "#df['AppointmentDay']=df['AppointmentDay'].astype(str).str[:-4].astype(np.datetime64)#לעשות רק פעם אחת! זה מעיף את השטויות מהתאריך ומשאיר אותו רק עם תאריך\n",
    "#df['AppointmentDay']\n",
    "\n"
   ]
  },
  {
   "cell_type": "code",
   "execution_count": null,
   "metadata": {},
   "outputs": [],
   "source": [
    "##לא חשוב יותר, היה רלוונטי ליצירת הדאטה \n",
    "#df\n",
    "#df=df.merge(df_wether_all_day, how='left', on='AppointmentDay' )\n",
    "#df=df.drop(['date'], axis=1)\n",
    "#df.head()\n"
   ]
  },
  {
   "cell_type": "code",
   "execution_count": null,
   "metadata": {},
   "outputs": [],
   "source": [
    "#df.to_csv('no_show_original_data_2016_with_update_weather')\n",
    "\n"
   ]
  },
  {
   "cell_type": "code",
   "execution_count": null,
   "metadata": {},
   "outputs": [],
   "source": [
    "#df.isnull().sum()\n",
    "# ניתן לראות של86016 רשומות אין משקעים ביום, כלומר רק לחמישית מהנתונים יש\n",
    "#נכניס אפסים לכל המי שאין לו משקעים\n",
    "#df = df.fillna(value = \"0\")\n",
    "#df.isnull().sum()\n"
   ]
  },
  {
   "cell_type": "code",
   "execution_count": null,
   "metadata": {},
   "outputs": [],
   "source": [
    "# משורה זו שואבים את הדאטה החדשה והרלוונטית\n",
    "  \n",
    "#df=pd.read_csv('no_show_original_data_2016_with_update_weather')\n",
    "#df = df.drop(['Unnamed: 0'], axis=1)"
   ]
  },
  {
   "cell_type": "markdown",
   "metadata": {},
   "source": [
    "### Adding another column that states the delta between ScheduledDay and AppointmentDay\n"
   ]
  },
  {
   "cell_type": "code",
   "execution_count": null,
   "metadata": {},
   "outputs": [],
   "source": [
    "#df['ScheduledDay'] = pd.to_datetime(df['ScheduledDay'])\n",
    "#df['ScheduledDay_date'] = df['ScheduledDay'].dt.date\n",
    "#df['ScheduledDay_date'] = pd.to_datetime(df['ScheduledDay_date'])\n",
    "#df['AppointmentDay'] = pd.to_datetime(df['AppointmentDay'])\n",
    "#df['From_Schedualing_to_Appoitment'] = df['AppointmentDay']-df['ScheduledDay_date']\n",
    "#df = df.drop('ScheduledDay', 1)"
   ]
  },
  {
   "cell_type": "markdown",
   "metadata": {},
   "source": [
    "### adding a column of the day of the week of the appointment"
   ]
  },
  {
   "cell_type": "code",
   "execution_count": null,
   "metadata": {},
   "outputs": [],
   "source": [
    "#df['AppointmentDay'] = df['AppointmentDay'].astype('datetime64[ns]')\n",
    "#df['AppointmentDay'][0].weekday()\n",
    "#df['Appointment_WeekDay'] = df['AppointmentDay'].apply(lambda x: x.weekday()+2)"
   ]
  },
  {
   "cell_type": "markdown",
   "metadata": {},
   "source": [
    "### Droping the ScheduledWeekDay column"
   ]
  },
  {
   "cell_type": "code",
   "execution_count": null,
   "metadata": {},
   "outputs": [],
   "source": [
    "#df = df.drop('ScheduledWeekDay', 1)"
   ]
  },
  {
   "cell_type": "markdown",
   "metadata": {},
   "source": [
    "### changing the index (columns) order"
   ]
  },
  {
   "cell_type": "code",
   "execution_count": null,
   "metadata": {
    "scrolled": true
   },
   "outputs": [],
   "source": [
    "#new_index_order = ['PatientId', 'AppointmentID',  'Age', 'Gender', 'Neighbourhood', 'AppointmentDay', 'Appointment_WeekDay','From_Schedualing_to_Appoitment','prcp', 'temp', \n",
    "       #'Scholarship', 'Hipertension', 'Diabetes',\n",
    "      # 'Alcoholism', 'Handcap', 'SMS_received',\n",
    "     #  'ScheduledDay_date','No-show']\n",
    "#df = df.reindex(columns=new_index_order)"
   ]
  },
  {
   "cell_type": "code",
   "execution_count": null,
   "metadata": {},
   "outputs": [],
   "source": [
    "#df = pd.read_csv('no_show_original_data_2016_with_update_weather') #df = הדאטה אחרי שנוסף לו יום בשבוע, משקעים וטמפ' ממוצעים"
   ]
  },
  {
   "cell_type": "code",
   "execution_count": null,
   "metadata": {},
   "outputs": [],
   "source": [
    "#df.to_csv('no_show_final_data')\n",
    "#this is the data file we will until forther notice."
   ]
  },
  {
   "cell_type": "markdown",
   "metadata": {},
   "source": [
    "# START FROM HERE \n",
    "#### ALL OF THE ABOVE IS NOT RELEVANT ANYMORE"
   ]
  },
  {
   "cell_type": "code",
   "execution_count": 2,
   "metadata": {},
   "outputs": [],
   "source": [
    "df=pd.read_csv('no_show_final_data')\n",
    "df = df.drop(['Unnamed: 0'], axis=1)\n",
    "\n",
    "#### Changing all the types correctly ####\n",
    "df['AppointmentDay'] = pd.to_datetime(df['AppointmentDay'])\n",
    "df['ScheduledDay_date'] = pd.to_datetime(df['ScheduledDay_date'])\n",
    "df['From_Schedualing_to_Appoitment'] = df['From_Schedualing_to_Appoitment'].str.replace('days 00:00:00.000000000', '')\n"
   ]
  },
  {
   "cell_type": "code",
   "execution_count": 3,
   "metadata": {},
   "outputs": [],
   "source": [
    "# This will drop 5 rows unfortunately - otherwise I coulnd't change \"From_Schedualing_to_Appoitment\" to Int type.\n",
    "#use this box only once. After the first time thers rows are gone so you can't rerun it.\n",
    "df = df.drop([107953])\n",
    "df = df.drop([56552])\n",
    "df = df.drop([29635])\n",
    "df = df.drop([34082])\n",
    "df = df.drop([14205])"
   ]
  },
  {
   "cell_type": "code",
   "execution_count": 4,
   "metadata": {},
   "outputs": [],
   "source": [
    "# changing object to int\n",
    "df['From_Schedualing_to_Appoitment'] = df['From_Schedualing_to_Appoitment'].astype(int)"
   ]
  },
  {
   "cell_type": "code",
   "execution_count": 5,
   "metadata": {},
   "outputs": [],
   "source": [
    "# creating codes for categorical variables.\n",
    "df.loc[:, 'Neighbourhood_codes'] = df[\"Neighbourhood\"].astype(\"category\").cat.codes+1\n",
    "df.loc[:, 'Gender_'] = df[\"Gender\"].astype(\"category\").cat.codes\n",
    "#Woman=0, Man=1\n",
    "df.loc[:, 'No-show_'] = df[\"No-show\"].astype(\"category\").cat.codes\n",
    "#show=0, no-show=1 \n",
    "change_index_order_again = ['PatientId', 'AppointmentID', 'Age', 'Gender', 'Gender_', 'Neighbourhood', 'Neighbourhood_codes',\n",
    "       'AppointmentDay', 'Appointment_WeekDay',\n",
    "       'From_Schedualing_to_Appoitment', 'prcp', 'temp', 'Scholarship',\n",
    "       'Hipertension', 'Diabetes', 'Alcoholism', 'Handcap', 'SMS_received',\n",
    "       'ScheduledDay_date', 'No-show', 'No-show_']\n",
    "df = df.reindex(columns = change_index_order_again)\n"
   ]
  },
  {
   "cell_type": "code",
   "execution_count": 6,
   "metadata": {},
   "outputs": [],
   "source": [
    "#dfk = רק ילדים\n",
    "#df = רק מבוגרים\n",
    "#df_A_K =בנק של כולם, למתישהו\n",
    "dfk=df\n",
    "df_A_K=df"
   ]
  },
  {
   "cell_type": "code",
   "execution_count": 10,
   "metadata": {},
   "outputs": [],
   "source": [
    "dfk = dfk[dfk.Age <=15] # מוריד כל מי שגדול 16"
   ]
  },
  {
   "cell_type": "code",
   "execution_count": 25,
   "metadata": {},
   "outputs": [
    {
     "data": {
      "text/html": [
       "<div>\n",
       "<style scoped>\n",
       "    .dataframe tbody tr th:only-of-type {\n",
       "        vertical-align: middle;\n",
       "    }\n",
       "\n",
       "    .dataframe tbody tr th {\n",
       "        vertical-align: top;\n",
       "    }\n",
       "\n",
       "    .dataframe thead th {\n",
       "        text-align: right;\n",
       "    }\n",
       "</style>\n",
       "<table border=\"1\" class=\"dataframe\">\n",
       "  <thead>\n",
       "    <tr style=\"text-align: right;\">\n",
       "      <th></th>\n",
       "      <th>PatientId</th>\n",
       "      <th>AppointmentID</th>\n",
       "      <th>Age</th>\n",
       "      <th>Gender_</th>\n",
       "      <th>Neighbourhood_codes</th>\n",
       "      <th>Appointment_WeekDay</th>\n",
       "      <th>From_Schedualing_to_Appoitment</th>\n",
       "      <th>prcp</th>\n",
       "      <th>temp</th>\n",
       "      <th>Scholarship</th>\n",
       "      <th>Hipertension</th>\n",
       "      <th>Diabetes</th>\n",
       "      <th>Alcoholism</th>\n",
       "      <th>Handcap</th>\n",
       "      <th>SMS_received</th>\n",
       "      <th>No-show_</th>\n",
       "    </tr>\n",
       "  </thead>\n",
       "  <tbody>\n",
       "    <tr>\n",
       "      <th>count</th>\n",
       "      <td>2.446700e+04</td>\n",
       "      <td>2.446700e+04</td>\n",
       "      <td>24467.000000</td>\n",
       "      <td>24467.000000</td>\n",
       "      <td>24467.000000</td>\n",
       "      <td>24467.000000</td>\n",
       "      <td>24467.000000</td>\n",
       "      <td>24467.000000</td>\n",
       "      <td>24467.000000</td>\n",
       "      <td>24467.000000</td>\n",
       "      <td>24467.000000</td>\n",
       "      <td>24467.000000</td>\n",
       "      <td>24467.000000</td>\n",
       "      <td>24467.000000</td>\n",
       "      <td>24467.000000</td>\n",
       "      <td>24467.000000</td>\n",
       "    </tr>\n",
       "    <tr>\n",
       "      <th>mean</th>\n",
       "      <td>1.491595e+14</td>\n",
       "      <td>5.676458e+06</td>\n",
       "      <td>6.240324</td>\n",
       "      <td>0.511097</td>\n",
       "      <td>43.650631</td>\n",
       "      <td>3.840438</td>\n",
       "      <td>9.706666</td>\n",
       "      <td>0.249291</td>\n",
       "      <td>24.251166</td>\n",
       "      <td>0.106633</td>\n",
       "      <td>0.000981</td>\n",
       "      <td>0.000899</td>\n",
       "      <td>0.000695</td>\n",
       "      <td>0.008501</td>\n",
       "      <td>0.293906</td>\n",
       "      <td>0.214452</td>\n",
       "    </tr>\n",
       "    <tr>\n",
       "      <th>std</th>\n",
       "      <td>2.578165e+14</td>\n",
       "      <td>6.760575e+04</td>\n",
       "      <td>4.791649</td>\n",
       "      <td>0.499887</td>\n",
       "      <td>22.540870</td>\n",
       "      <td>1.376798</td>\n",
       "      <td>13.792120</td>\n",
       "      <td>0.902047</td>\n",
       "      <td>1.056043</td>\n",
       "      <td>0.308653</td>\n",
       "      <td>0.031305</td>\n",
       "      <td>0.029973</td>\n",
       "      <td>0.026351</td>\n",
       "      <td>0.111878</td>\n",
       "      <td>0.455559</td>\n",
       "      <td>0.410450</td>\n",
       "    </tr>\n",
       "    <tr>\n",
       "      <th>min</th>\n",
       "      <td>1.420000e+05</td>\n",
       "      <td>5.216818e+06</td>\n",
       "      <td>0.000000</td>\n",
       "      <td>0.000000</td>\n",
       "      <td>2.000000</td>\n",
       "      <td>2.000000</td>\n",
       "      <td>0.000000</td>\n",
       "      <td>0.000000</td>\n",
       "      <td>21.941667</td>\n",
       "      <td>0.000000</td>\n",
       "      <td>0.000000</td>\n",
       "      <td>0.000000</td>\n",
       "      <td>0.000000</td>\n",
       "      <td>0.000000</td>\n",
       "      <td>0.000000</td>\n",
       "      <td>0.000000</td>\n",
       "    </tr>\n",
       "    <tr>\n",
       "      <th>25%</th>\n",
       "      <td>4.217150e+12</td>\n",
       "      <td>5.639710e+06</td>\n",
       "      <td>2.000000</td>\n",
       "      <td>0.000000</td>\n",
       "      <td>28.000000</td>\n",
       "      <td>3.000000</td>\n",
       "      <td>0.000000</td>\n",
       "      <td>0.000000</td>\n",
       "      <td>23.858333</td>\n",
       "      <td>0.000000</td>\n",
       "      <td>0.000000</td>\n",
       "      <td>0.000000</td>\n",
       "      <td>0.000000</td>\n",
       "      <td>0.000000</td>\n",
       "      <td>0.000000</td>\n",
       "      <td>0.000000</td>\n",
       "    </tr>\n",
       "    <tr>\n",
       "      <th>50%</th>\n",
       "      <td>3.193270e+13</td>\n",
       "      <td>5.679845e+06</td>\n",
       "      <td>6.000000</td>\n",
       "      <td>1.000000</td>\n",
       "      <td>42.000000</td>\n",
       "      <td>4.000000</td>\n",
       "      <td>3.000000</td>\n",
       "      <td>0.000000</td>\n",
       "      <td>24.208333</td>\n",
       "      <td>0.000000</td>\n",
       "      <td>0.000000</td>\n",
       "      <td>0.000000</td>\n",
       "      <td>0.000000</td>\n",
       "      <td>0.000000</td>\n",
       "      <td>0.000000</td>\n",
       "      <td>0.000000</td>\n",
       "    </tr>\n",
       "    <tr>\n",
       "      <th>75%</th>\n",
       "      <td>9.484310e+13</td>\n",
       "      <td>5.726028e+06</td>\n",
       "      <td>10.000000</td>\n",
       "      <td>1.000000</td>\n",
       "      <td>62.000000</td>\n",
       "      <td>5.000000</td>\n",
       "      <td>15.000000</td>\n",
       "      <td>0.000000</td>\n",
       "      <td>24.804167</td>\n",
       "      <td>0.000000</td>\n",
       "      <td>0.000000</td>\n",
       "      <td>0.000000</td>\n",
       "      <td>0.000000</td>\n",
       "      <td>0.000000</td>\n",
       "      <td>1.000000</td>\n",
       "      <td>0.000000</td>\n",
       "    </tr>\n",
       "    <tr>\n",
       "      <th>max</th>\n",
       "      <td>9.999820e+14</td>\n",
       "      <td>5.790284e+06</td>\n",
       "      <td>15.000000</td>\n",
       "      <td>1.000000</td>\n",
       "      <td>81.000000</td>\n",
       "      <td>6.000000</td>\n",
       "      <td>146.000000</td>\n",
       "      <td>4.666667</td>\n",
       "      <td>26.300000</td>\n",
       "      <td>1.000000</td>\n",
       "      <td>1.000000</td>\n",
       "      <td>1.000000</td>\n",
       "      <td>1.000000</td>\n",
       "      <td>4.000000</td>\n",
       "      <td>1.000000</td>\n",
       "      <td>1.000000</td>\n",
       "    </tr>\n",
       "  </tbody>\n",
       "</table>\n",
       "</div>"
      ],
      "text/plain": [
       "          PatientId  AppointmentID           Age       Gender_  \\\n",
       "count  2.446700e+04   2.446700e+04  24467.000000  24467.000000   \n",
       "mean   1.491595e+14   5.676458e+06      6.240324      0.511097   \n",
       "std    2.578165e+14   6.760575e+04      4.791649      0.499887   \n",
       "min    1.420000e+05   5.216818e+06      0.000000      0.000000   \n",
       "25%    4.217150e+12   5.639710e+06      2.000000      0.000000   \n",
       "50%    3.193270e+13   5.679845e+06      6.000000      1.000000   \n",
       "75%    9.484310e+13   5.726028e+06     10.000000      1.000000   \n",
       "max    9.999820e+14   5.790284e+06     15.000000      1.000000   \n",
       "\n",
       "       Neighbourhood_codes  Appointment_WeekDay  \\\n",
       "count         24467.000000         24467.000000   \n",
       "mean             43.650631             3.840438   \n",
       "std              22.540870             1.376798   \n",
       "min               2.000000             2.000000   \n",
       "25%              28.000000             3.000000   \n",
       "50%              42.000000             4.000000   \n",
       "75%              62.000000             5.000000   \n",
       "max              81.000000             6.000000   \n",
       "\n",
       "       From_Schedualing_to_Appoitment          prcp          temp  \\\n",
       "count                    24467.000000  24467.000000  24467.000000   \n",
       "mean                         9.706666      0.249291     24.251166   \n",
       "std                         13.792120      0.902047      1.056043   \n",
       "min                          0.000000      0.000000     21.941667   \n",
       "25%                          0.000000      0.000000     23.858333   \n",
       "50%                          3.000000      0.000000     24.208333   \n",
       "75%                         15.000000      0.000000     24.804167   \n",
       "max                        146.000000      4.666667     26.300000   \n",
       "\n",
       "        Scholarship  Hipertension      Diabetes    Alcoholism       Handcap  \\\n",
       "count  24467.000000  24467.000000  24467.000000  24467.000000  24467.000000   \n",
       "mean       0.106633      0.000981      0.000899      0.000695      0.008501   \n",
       "std        0.308653      0.031305      0.029973      0.026351      0.111878   \n",
       "min        0.000000      0.000000      0.000000      0.000000      0.000000   \n",
       "25%        0.000000      0.000000      0.000000      0.000000      0.000000   \n",
       "50%        0.000000      0.000000      0.000000      0.000000      0.000000   \n",
       "75%        0.000000      0.000000      0.000000      0.000000      0.000000   \n",
       "max        1.000000      1.000000      1.000000      1.000000      4.000000   \n",
       "\n",
       "       SMS_received      No-show_  \n",
       "count  24467.000000  24467.000000  \n",
       "mean       0.293906      0.214452  \n",
       "std        0.455559      0.410450  \n",
       "min        0.000000      0.000000  \n",
       "25%        0.000000      0.000000  \n",
       "50%        0.000000      0.000000  \n",
       "75%        1.000000      0.000000  \n",
       "max        1.000000      1.000000  "
      ]
     },
     "execution_count": 25,
     "metadata": {},
     "output_type": "execute_result"
    }
   ],
   "source": [
    "df = df[df.Age >15] #מוריד כל מי שקטן 16\n",
    "# 86054 מבוגרים\n",
    "# 24467 ילדים\n",
    "# סה\"כ = 110521\n",
    "dfk.describe()\n"
   ]
  },
  {
   "cell_type": "markdown",
   "metadata": {},
   "source": [
    "### Numerical variables:\n",
    "1. Age\n",
    "2. prcp\n",
    "3. temp\n",
    "4. PatientId\n",
    "\n",
    "### Categorical nominal variables: \n",
    "\n",
    "1. Neighbourhood_codes\n",
    "2. Gender_\n",
    "3. Scholarship\n",
    "2. Hipertension\n",
    "5. Diabetes\n",
    "3. Alcoholism\n",
    "4. Handcap\n",
    "5. SMS_received\n",
    "\n",
    "### Categorical ordinal variables: \n",
    "\n",
    "1. Appointment_WeekDay\n",
    "2. AppointmentDay\n",
    "3. From_Schedualing_to_Appoitment\n",
    "4. ScheduledDay_date\n",
    "5. AppointmentID"
   ]
  },
  {
   "cell_type": "code",
   "execution_count": null,
   "metadata": {},
   "outputs": [],
   "source": [
    "#df_wether_all_day.head()"
   ]
  },
  {
   "cell_type": "code",
   "execution_count": null,
   "metadata": {},
   "outputs": [],
   "source": [
    "len(df['Neighbourhood_codes'].value_counts())"
   ]
  },
  {
   "cell_type": "code",
   "execution_count": null,
   "metadata": {},
   "outputs": [],
   "source": [
    "df[\"PatientId\"].value_counts()"
   ]
  },
  {
   "cell_type": "code",
   "execution_count": null,
   "metadata": {},
   "outputs": [],
   "source": [
    "df['AppointmentID'].value_counts().head()"
   ]
  },
  {
   "cell_type": "code",
   "execution_count": null,
   "metadata": {},
   "outputs": [],
   "source": [
    "df['SMS_received'].value_counts().head()\n",
    "# we can't know if there was more then 1 SMS sent. "
   ]
  },
  {
   "cell_type": "code",
   "execution_count": null,
   "metadata": {},
   "outputs": [],
   "source": [
    "df.describe()"
   ]
  },
  {
   "cell_type": "code",
   "execution_count": null,
   "metadata": {},
   "outputs": [],
   "source": [
    "df.info()"
   ]
  },
  {
   "cell_type": "markdown",
   "metadata": {},
   "source": [
    "### Analizing the data: first conclutions\n",
    "1. There was 1 row with the age of (-1). It wasn't a no show, so I deleted it (Itamar).\n",
    "2. The SMS column states if a text was sent or not. It does not state how many sms were sent."
   ]
  },
  {
   "cell_type": "code",
   "execution_count": 12,
   "metadata": {},
   "outputs": [
    {
     "data": {
      "text/plain": [
       "PatientId                         0\n",
       "AppointmentID                     0\n",
       "Age                               0\n",
       "Gender                            0\n",
       "Gender_                           0\n",
       "Neighbourhood                     0\n",
       "Neighbourhood_codes               0\n",
       "AppointmentDay                    0\n",
       "Appointment_WeekDay               0\n",
       "From_Schedualing_to_Appoitment    0\n",
       "prcp                              0\n",
       "temp                              0\n",
       "Scholarship                       0\n",
       "Hipertension                      0\n",
       "Diabetes                          0\n",
       "Alcoholism                        0\n",
       "Handcap                           0\n",
       "SMS_received                      0\n",
       "ScheduledDay_date                 0\n",
       "No-show                           0\n",
       "No-show_                          0\n",
       "dtype: int64"
      ]
     },
     "execution_count": 12,
     "metadata": {},
     "output_type": "execute_result"
    }
   ],
   "source": [
    "df.isnull().sum()"
   ]
  },
  {
   "cell_type": "code",
   "execution_count": null,
   "metadata": {},
   "outputs": [],
   "source": [
    "sns.countplot(x='Gender', data=df)\n",
    "# women go mnore to the doctor\n",
    "# no differance between men and women in \"no-show\"s"
   ]
  },
  {
   "cell_type": "code",
   "execution_count": 13,
   "metadata": {
    "scrolled": false
   },
   "outputs": [
    {
     "data": {
      "text/plain": [
       "<matplotlib.axes._subplots.AxesSubplot at 0x159e778c278>"
      ]
     },
     "execution_count": 13,
     "metadata": {},
     "output_type": "execute_result"
    },
    {
     "data": {
      "image/png": "[encoded data removed]",
      "text/plain": [
       "<Figure size 432x288 with 1 Axes>"
      ]
     },
     "metadata": {},
     "output_type": "display_data"
    }
   ],
   "source": [
    "sns.countplot(x='Age', data=df)\n",
    "# not normal distribution? what to do?"
   ]
  },
  {
   "cell_type": "code",
   "execution_count": 15,
   "metadata": {
    "scrolled": false
   },
   "outputs": [
    {
     "data": {
      "text/plain": [
       "<matplotlib.axes._subplots.AxesSubplot at 0x159e85070b8>"
      ]
     },
     "execution_count": 15,
     "metadata": {},
     "output_type": "execute_result"
    },
    {
     "data": {
      "image/png": "[encoded data removed]",
      "text/plain": [
       "<Figure size 432x288 with 1 Axes>"
      ]
     },
     "metadata": {},
     "output_type": "display_data"
    }
   ],
   "source": [
    "sns.countplot(x='Age', data=dfk,  color='blue',hue = 'No-show')\n",
    "# not normal distribution? what to do?"
   ]
  },
  {
   "cell_type": "code",
   "execution_count": null,
   "metadata": {},
   "outputs": [],
   "source": [
    "sns.countplot(x='Neighbourhood_codes', data=df, color='blue',hue = 'No-show')"
   ]
  },
  {
   "cell_type": "code",
   "execution_count": null,
   "metadata": {},
   "outputs": [],
   "source": [
    "sns.countplot(x='Alcoholism', data=df, color='blue',hue = 'No-show')"
   ]
  },
  {
   "cell_type": "code",
   "execution_count": null,
   "metadata": {},
   "outputs": [],
   "source": [
    "sns.countplot(x='From_Schedualing_to_Appoitment', data=df, color='blue',hue = 'No-show')"
   ]
  },
  {
   "cell_type": "code",
   "execution_count": null,
   "metadata": {},
   "outputs": [],
   "source": [
    "sns.countplot(x='Appointment_WeekDay', data=df, color='blue',hue = 'No-show')"
   ]
  },
  {
   "cell_type": "code",
   "execution_count": null,
   "metadata": {},
   "outputs": [],
   "source": [
    "sns.countplot(x='SMS_received', data=df, color='blue',hue = 'No-show')\n",
    "# SMS did not help decrise the number of no-shows in the problematic patients."
   ]
  },
  {
   "cell_type": "code",
   "execution_count": null,
   "metadata": {},
   "outputs": [],
   "source": [
    "sns.countplot(x='prcp', data=df, color='blue',hue = 'No-show')\n",
    "# SMS did not help decrise the number of no-shows in the problematic patients."
   ]
  },
  {
   "cell_type": "code",
   "execution_count": null,
   "metadata": {},
   "outputs": [],
   "source": [
    "sns.countplot(y='Scholarship', data=df, color='blue',hue = 'No-show')"
   ]
  },
  {
   "cell_type": "code",
   "execution_count": null,
   "metadata": {},
   "outputs": [],
   "source": [
    "sns.countplot(y='Gender', data=df, color='blue',hue = 'No-show')"
   ]
  },
  {
   "cell_type": "code",
   "execution_count": null,
   "metadata": {},
   "outputs": [],
   "source": [
    "sns.countplot(y='Gender', data=df, color='blue',hue = 'No-show')"
   ]
  },
  {
   "cell_type": "code",
   "execution_count": null,
   "metadata": {},
   "outputs": [],
   "source": [
    "sns.countplot(x='From_Schedualing_to_Appoitment', data=df)\n",
    "#how to make normal?"
   ]
  },
  {
   "cell_type": "code",
   "execution_count": null,
   "metadata": {},
   "outputs": [],
   "source": [
    "sns.countplot(y='ScheduledWeekDay', data=df, color='blue',hue = 'No-show')\n",
    "#no real information here - Monday has more no-shows but olso more appointments - \n",
    "#so.... hard to say if this says anything."
   ]
  },
  {
   "cell_type": "code",
   "execution_count": null,
   "metadata": {},
   "outputs": [],
   "source": [
    "df.sort_values('AppointmentDay')"
   ]
  },
  {
   "cell_type": "code",
   "execution_count": null,
   "metadata": {},
   "outputs": [],
   "source": [
    "df['AppointmentDay'].value_counts()"
   ]
  },
  {
   "cell_type": "code",
   "execution_count": null,
   "metadata": {},
   "outputs": [],
   "source": [
    "# Identify missing data\n",
    "df.isnull().sum()\n",
    "# no missing data :)"
   ]
  },
  {
   "cell_type": "markdown",
   "metadata": {},
   "source": [
    "### making a pie chart"
   ]
  },
  {
   "cell_type": "code",
   "execution_count": null,
   "metadata": {},
   "outputs": [],
   "source": [
    "fig1, ax1 = plt.subplots()\n",
    "\n",
    "slices = df[\"Scholarship\"].value_counts()\n",
    "labels = slices.index\n",
    "ax1.pie(slices, autopct='%1.1f%%', labels=labels)\n",
    "ax1.axis('equal')  # Equal aspect ratio ensures that pie is drawn as a circle.\n",
    "\n",
    "plt.show()"
   ]
  },
  {
   "cell_type": "code",
   "execution_count": null,
   "metadata": {},
   "outputs": [],
   "source": [
    "fig1, ax1 = plt.subplots()\n",
    "\n",
    "slices = df[\"Alcoholism\"].value_counts()\n",
    "labels = slices.index\n",
    "ax1.pie(slices, autopct='%1.1f%%', labels=labels)\n",
    "ax1.axis('equal')  # Equal aspect ratio ensures that pie is drawn as a circle.\n",
    "\n",
    "plt.show()"
   ]
  },
  {
   "cell_type": "markdown",
   "metadata": {},
   "source": [
    "##### Encode ordinal feature\n",
    "We can define a dictionary that maps each ordinal value to a numerical value, and then use the function \"map\" as shown below, or use the function \"replace\" as shown in: http://pbpython.com/categorical-encoding.html ."
   ]
  },
  {
   "cell_type": "code",
   "execution_count": null,
   "metadata": {},
   "outputs": [],
   "source": [
    "sns.countplot(x='From_Schedualing_to_Appoitment', data=df)"
   ]
  },
  {
   "cell_type": "markdown",
   "metadata": {},
   "source": [
    "##### #### 3.1 Histograms to view features"
   ]
  },
  {
   "cell_type": "code",
   "execution_count": null,
   "metadata": {},
   "outputs": [],
   "source": [
    "df.columns"
   ]
  },
  {
   "cell_type": "code",
   "execution_count": null,
   "metadata": {
    "scrolled": true
   },
   "outputs": [],
   "source": [
    "df.hist(bins = 200, figsize = (20,15), column=['PatientId', 'AppointmentID', 'Age', 'Gender', 'Gender_',\n",
    "       'Neighbourhood', 'Neighbourhood_codes', 'AppointmentDay',\n",
    "       'Appointment_WeekDay', 'From_Schedualing_to_Appoitment', 'prcp', 'temp',\n",
    "       'Scholarship', 'Hipertension', 'Diabetes', 'Alcoholism', 'Handcap',\n",
    "       'SMS_received', 'ScheduledDay_date', 'No-show', 'No-show_']) #Check the hist parameters by clicking on the Tab completion. \n",
    "plt.show()"
   ]
  },
  {
   "cell_type": "code",
   "execution_count": null,
   "metadata": {},
   "outputs": [],
   "source": [
    "sns.distplot(df[\"Age\"], fit=norm)"
   ]
  },
  {
   "cell_type": "code",
   "execution_count": null,
   "metadata": {},
   "outputs": [],
   "source": [
    "sns.distplot(df[\"prcp\"], fit=norm)"
   ]
  },
  {
   "cell_type": "code",
   "execution_count": null,
   "metadata": {},
   "outputs": [],
   "source": [
    "sns.distplot(df[\"Appointment_WeekDay\"])\n"
   ]
  },
  {
   "cell_type": "code",
   "execution_count": null,
   "metadata": {},
   "outputs": [],
   "source": [
    "#לא יודעים מה לעשות עם זה\n",
    "#New_age = np.clip(df['Age'], 1, 95)\n",
    "#plt.hist(df['Age'], bins=50)\n",
    "#plt.hist(New_age, bins=50, color='red', alpha = 0.5)\n",
    "#plt.show()"
   ]
  },
  {
   "cell_type": "code",
   "execution_count": null,
   "metadata": {},
   "outputs": [],
   "source": [
    "sqrt_age = np.sqrt(df[\"Age\"])"
   ]
  },
  {
   "cell_type": "code",
   "execution_count": null,
   "metadata": {},
   "outputs": [],
   "source": [
    "sns.distplot(df[\"Age\"], fit=norm)"
   ]
  },
  {
   "cell_type": "code",
   "execution_count": null,
   "metadata": {},
   "outputs": [],
   "source": [
    "sns.distplot(log_age, fit=norm, bins=15)"
   ]
  },
  {
   "cell_type": "code",
   "execution_count": 20,
   "metadata": {},
   "outputs": [],
   "source": [
    "train_df, test_df= train_test_split(df, test_size = 0.2, random_state=7)\n",
    "# train_test_split is from sklearn. It requiers that the data will be a numpy array, that is numbers only.\n",
    "# If your prediction class in y is very small, then add a parameter startify = y"
   ]
  },
  {
   "cell_type": "code",
   "execution_count": 27,
   "metadata": {},
   "outputs": [
    {
     "data": {
      "text/html": [
       "<div>\n",
       "<style scoped>\n",
       "    .dataframe tbody tr th:only-of-type {\n",
       "        vertical-align: middle;\n",
       "    }\n",
       "\n",
       "    .dataframe tbody tr th {\n",
       "        vertical-align: top;\n",
       "    }\n",
       "\n",
       "    .dataframe thead th {\n",
       "        text-align: right;\n",
       "    }\n",
       "</style>\n",
       "<table border=\"1\" class=\"dataframe\">\n",
       "  <thead>\n",
       "    <tr style=\"text-align: right;\">\n",
       "      <th></th>\n",
       "      <th>PatientId</th>\n",
       "      <th>AppointmentID</th>\n",
       "      <th>Age</th>\n",
       "      <th>Gender_</th>\n",
       "      <th>Neighbourhood_codes</th>\n",
       "      <th>Appointment_WeekDay</th>\n",
       "      <th>From_Schedualing_to_Appoitment</th>\n",
       "      <th>prcp</th>\n",
       "      <th>temp</th>\n",
       "      <th>Scholarship</th>\n",
       "      <th>Hipertension</th>\n",
       "      <th>Diabetes</th>\n",
       "      <th>Alcoholism</th>\n",
       "      <th>Handcap</th>\n",
       "      <th>SMS_received</th>\n",
       "      <th>No-show_</th>\n",
       "    </tr>\n",
       "  </thead>\n",
       "  <tbody>\n",
       "    <tr>\n",
       "      <th>count</th>\n",
       "      <td>6.884300e+04</td>\n",
       "      <td>6.884300e+04</td>\n",
       "      <td>68843.000000</td>\n",
       "      <td>68843.000000</td>\n",
       "      <td>68843.000000</td>\n",
       "      <td>68843.000000</td>\n",
       "      <td>68843.000000</td>\n",
       "      <td>68843.000000</td>\n",
       "      <td>68843.000000</td>\n",
       "      <td>68843.000000</td>\n",
       "      <td>68843.000000</td>\n",
       "      <td>68843.000000</td>\n",
       "      <td>68843.000000</td>\n",
       "      <td>68843.000000</td>\n",
       "      <td>68843.000000</td>\n",
       "      <td>68843.000000</td>\n",
       "    </tr>\n",
       "    <tr>\n",
       "      <th>mean</th>\n",
       "      <td>1.460863e+14</td>\n",
       "      <td>5.674894e+06</td>\n",
       "      <td>45.875194</td>\n",
       "      <td>0.304577</td>\n",
       "      <td>42.475415</td>\n",
       "      <td>3.867859</td>\n",
       "      <td>10.344102</td>\n",
       "      <td>0.259342</td>\n",
       "      <td>24.235677</td>\n",
       "      <td>0.095347</td>\n",
       "      <td>0.252967</td>\n",
       "      <td>0.091876</td>\n",
       "      <td>0.038595</td>\n",
       "      <td>0.025987</td>\n",
       "      <td>0.329750</td>\n",
       "      <td>0.198364</td>\n",
       "    </tr>\n",
       "    <tr>\n",
       "      <th>std</th>\n",
       "      <td>2.548464e+14</td>\n",
       "      <td>7.223181e+04</td>\n",
       "      <td>18.237892</td>\n",
       "      <td>0.460231</td>\n",
       "      <td>22.286114</td>\n",
       "      <td>1.372253</td>\n",
       "      <td>15.644225</td>\n",
       "      <td>0.921054</td>\n",
       "      <td>1.045352</td>\n",
       "      <td>0.293696</td>\n",
       "      <td>0.434715</td>\n",
       "      <td>0.288853</td>\n",
       "      <td>0.192629</td>\n",
       "      <td>0.172922</td>\n",
       "      <td>0.470126</td>\n",
       "      <td>0.398771</td>\n",
       "    </tr>\n",
       "    <tr>\n",
       "      <th>min</th>\n",
       "      <td>3.920000e+04</td>\n",
       "      <td>5.030230e+06</td>\n",
       "      <td>16.000000</td>\n",
       "      <td>0.000000</td>\n",
       "      <td>1.000000</td>\n",
       "      <td>2.000000</td>\n",
       "      <td>0.000000</td>\n",
       "      <td>0.000000</td>\n",
       "      <td>21.941667</td>\n",
       "      <td>0.000000</td>\n",
       "      <td>0.000000</td>\n",
       "      <td>0.000000</td>\n",
       "      <td>0.000000</td>\n",
       "      <td>0.000000</td>\n",
       "      <td>0.000000</td>\n",
       "      <td>0.000000</td>\n",
       "    </tr>\n",
       "    <tr>\n",
       "      <th>25%</th>\n",
       "      <td>4.165985e+12</td>\n",
       "      <td>5.640419e+06</td>\n",
       "      <td>31.000000</td>\n",
       "      <td>0.000000</td>\n",
       "      <td>26.000000</td>\n",
       "      <td>3.000000</td>\n",
       "      <td>0.000000</td>\n",
       "      <td>0.000000</td>\n",
       "      <td>23.858333</td>\n",
       "      <td>0.000000</td>\n",
       "      <td>0.000000</td>\n",
       "      <td>0.000000</td>\n",
       "      <td>0.000000</td>\n",
       "      <td>0.000000</td>\n",
       "      <td>0.000000</td>\n",
       "      <td>0.000000</td>\n",
       "    </tr>\n",
       "    <tr>\n",
       "      <th>50%</th>\n",
       "      <td>3.149790e+13</td>\n",
       "      <td>5.680700e+06</td>\n",
       "      <td>45.000000</td>\n",
       "      <td>0.000000</td>\n",
       "      <td>40.000000</td>\n",
       "      <td>4.000000</td>\n",
       "      <td>4.000000</td>\n",
       "      <td>0.000000</td>\n",
       "      <td>24.208333</td>\n",
       "      <td>0.000000</td>\n",
       "      <td>0.000000</td>\n",
       "      <td>0.000000</td>\n",
       "      <td>0.000000</td>\n",
       "      <td>0.000000</td>\n",
       "      <td>0.000000</td>\n",
       "      <td>0.000000</td>\n",
       "    </tr>\n",
       "    <tr>\n",
       "      <th>75%</th>\n",
       "      <td>9.378035e+13</td>\n",
       "      <td>5.725365e+06</td>\n",
       "      <td>59.000000</td>\n",
       "      <td>1.000000</td>\n",
       "      <td>61.000000</td>\n",
       "      <td>5.000000</td>\n",
       "      <td>15.000000</td>\n",
       "      <td>0.000000</td>\n",
       "      <td>24.804167</td>\n",
       "      <td>0.000000</td>\n",
       "      <td>1.000000</td>\n",
       "      <td>0.000000</td>\n",
       "      <td>0.000000</td>\n",
       "      <td>0.000000</td>\n",
       "      <td>1.000000</td>\n",
       "      <td>0.000000</td>\n",
       "    </tr>\n",
       "    <tr>\n",
       "      <th>max</th>\n",
       "      <td>9.999690e+14</td>\n",
       "      <td>5.790484e+06</td>\n",
       "      <td>115.000000</td>\n",
       "      <td>1.000000</td>\n",
       "      <td>81.000000</td>\n",
       "      <td>7.000000</td>\n",
       "      <td>179.000000</td>\n",
       "      <td>4.666667</td>\n",
       "      <td>26.300000</td>\n",
       "      <td>1.000000</td>\n",
       "      <td>1.000000</td>\n",
       "      <td>1.000000</td>\n",
       "      <td>1.000000</td>\n",
       "      <td>4.000000</td>\n",
       "      <td>1.000000</td>\n",
       "      <td>1.000000</td>\n",
       "    </tr>\n",
       "  </tbody>\n",
       "</table>\n",
       "</div>"
      ],
      "text/plain": [
       "          PatientId  AppointmentID           Age       Gender_  \\\n",
       "count  6.884300e+04   6.884300e+04  68843.000000  68843.000000   \n",
       "mean   1.460863e+14   5.674894e+06     45.875194      0.304577   \n",
       "std    2.548464e+14   7.223181e+04     18.237892      0.460231   \n",
       "min    3.920000e+04   5.030230e+06     16.000000      0.000000   \n",
       "25%    4.165985e+12   5.640419e+06     31.000000      0.000000   \n",
       "50%    3.149790e+13   5.680700e+06     45.000000      0.000000   \n",
       "75%    9.378035e+13   5.725365e+06     59.000000      1.000000   \n",
       "max    9.999690e+14   5.790484e+06    115.000000      1.000000   \n",
       "\n",
       "       Neighbourhood_codes  Appointment_WeekDay  \\\n",
       "count         68843.000000         68843.000000   \n",
       "mean             42.475415             3.867859   \n",
       "std              22.286114             1.372253   \n",
       "min               1.000000             2.000000   \n",
       "25%              26.000000             3.000000   \n",
       "50%              40.000000             4.000000   \n",
       "75%              61.000000             5.000000   \n",
       "max              81.000000             7.000000   \n",
       "\n",
       "       From_Schedualing_to_Appoitment          prcp          temp  \\\n",
       "count                    68843.000000  68843.000000  68843.000000   \n",
       "mean                        10.344102      0.259342     24.235677   \n",
       "std                         15.644225      0.921054      1.045352   \n",
       "min                          0.000000      0.000000     21.941667   \n",
       "25%                          0.000000      0.000000     23.858333   \n",
       "50%                          4.000000      0.000000     24.208333   \n",
       "75%                         15.000000      0.000000     24.804167   \n",
       "max                        179.000000      4.666667     26.300000   \n",
       "\n",
       "        Scholarship  Hipertension      Diabetes    Alcoholism       Handcap  \\\n",
       "count  68843.000000  68843.000000  68843.000000  68843.000000  68843.000000   \n",
       "mean       0.095347      0.252967      0.091876      0.038595      0.025987   \n",
       "std        0.293696      0.434715      0.288853      0.192629      0.172922   \n",
       "min        0.000000      0.000000      0.000000      0.000000      0.000000   \n",
       "25%        0.000000      0.000000      0.000000      0.000000      0.000000   \n",
       "50%        0.000000      0.000000      0.000000      0.000000      0.000000   \n",
       "75%        0.000000      1.000000      0.000000      0.000000      0.000000   \n",
       "max        1.000000      1.000000      1.000000      1.000000      4.000000   \n",
       "\n",
       "       SMS_received      No-show_  \n",
       "count  68843.000000  68843.000000  \n",
       "mean       0.329750      0.198364  \n",
       "std        0.470126      0.398771  \n",
       "min        0.000000      0.000000  \n",
       "25%        0.000000      0.000000  \n",
       "50%        0.000000      0.000000  \n",
       "75%        1.000000      0.000000  \n",
       "max        1.000000      1.000000  "
      ]
     },
     "execution_count": 27,
     "metadata": {},
     "output_type": "execute_result"
    }
   ],
   "source": [
    "train_df.describe()"
   ]
  },
  {
   "cell_type": "code",
   "execution_count": 28,
   "metadata": {},
   "outputs": [],
   "source": [
    "y = train_df[\"No-show_\"]\n",
    "X = train_df"
   ]
  },
  {
   "cell_type": "code",
   "execution_count": 31,
   "metadata": {},
   "outputs": [
    {
     "data": {
      "text/plain": [
       "21"
      ]
     },
     "execution_count": 31,
     "metadata": {},
     "output_type": "execute_result"
    }
   ],
   "source": [
    "len(df.columns)\n",
    "[0:]"
   ]
  },
  {
   "cell_type": "code",
   "execution_count": 38,
   "metadata": {},
   "outputs": [
    {
     "data": {
      "text/html": [
       "<div>\n",
       "<style scoped>\n",
       "    .dataframe tbody tr th:only-of-type {\n",
       "        vertical-align: middle;\n",
       "    }\n",
       "\n",
       "    .dataframe tbody tr th {\n",
       "        vertical-align: top;\n",
       "    }\n",
       "\n",
       "    .dataframe thead th {\n",
       "        text-align: right;\n",
       "    }\n",
       "</style>\n",
       "<table border=\"1\" class=\"dataframe\">\n",
       "  <thead>\n",
       "    <tr style=\"text-align: right;\">\n",
       "      <th></th>\n",
       "      <th>PatientId</th>\n",
       "      <th>AppointmentID</th>\n",
       "      <th>Age</th>\n",
       "      <th>Gender_</th>\n",
       "      <th>Neighbourhood_codes</th>\n",
       "      <th>Appointment_WeekDay</th>\n",
       "      <th>From_Schedualing_to_Appoitment</th>\n",
       "      <th>prcp</th>\n",
       "      <th>temp</th>\n",
       "      <th>Scholarship</th>\n",
       "      <th>Hipertension</th>\n",
       "      <th>Diabetes</th>\n",
       "      <th>Alcoholism</th>\n",
       "      <th>Handcap</th>\n",
       "      <th>SMS_received</th>\n",
       "    </tr>\n",
       "  </thead>\n",
       "  <tbody>\n",
       "    <tr>\n",
       "      <th>PatientId</th>\n",
       "      <td>1.000000</td>\n",
       "      <td>0.000807</td>\n",
       "      <td>-0.003689</td>\n",
       "      <td>0.011260</td>\n",
       "      <td>0.004683</td>\n",
       "      <td>-0.000938</td>\n",
       "      <td>0.003031</td>\n",
       "      <td>0.001356</td>\n",
       "      <td>0.005275</td>\n",
       "      <td>0.000969</td>\n",
       "      <td>-0.006820</td>\n",
       "      <td>0.001199</td>\n",
       "      <td>0.011994</td>\n",
       "      <td>-0.003559</td>\n",
       "      <td>-0.006519</td>\n",
       "    </tr>\n",
       "    <tr>\n",
       "      <th>AppointmentID</th>\n",
       "      <td>0.000807</td>\n",
       "      <td>1.000000</td>\n",
       "      <td>-0.022907</td>\n",
       "      <td>0.025010</td>\n",
       "      <td>0.002786</td>\n",
       "      <td>-0.051003</td>\n",
       "      <td>-0.779173</td>\n",
       "      <td>-0.040578</td>\n",
       "      <td>0.043289</td>\n",
       "      <td>0.021905</td>\n",
       "      <td>0.018419</td>\n",
       "      <td>0.027832</td>\n",
       "      <td>0.038204</td>\n",
       "      <td>0.013368</td>\n",
       "      <td>-0.246798</td>\n",
       "    </tr>\n",
       "    <tr>\n",
       "      <th>Age</th>\n",
       "      <td>-0.003689</td>\n",
       "      <td>-0.022907</td>\n",
       "      <td>1.000000</td>\n",
       "      <td>0.036990</td>\n",
       "      <td>0.003358</td>\n",
       "      <td>-0.003383</td>\n",
       "      <td>0.037782</td>\n",
       "      <td>-0.009317</td>\n",
       "      <td>-0.004084</td>\n",
       "      <td>-0.143258</td>\n",
       "      <td>0.472810</td>\n",
       "      <td>0.272148</td>\n",
       "      <td>0.042202</td>\n",
       "      <td>0.064992</td>\n",
       "      <td>-0.017255</td>\n",
       "    </tr>\n",
       "    <tr>\n",
       "      <th>Gender_</th>\n",
       "      <td>0.011260</td>\n",
       "      <td>0.025010</td>\n",
       "      <td>0.036990</td>\n",
       "      <td>1.000000</td>\n",
       "      <td>-0.017714</td>\n",
       "      <td>0.008642</td>\n",
       "      <td>-0.034720</td>\n",
       "      <td>0.006540</td>\n",
       "      <td>0.001129</td>\n",
       "      <td>-0.146932</td>\n",
       "      <td>-0.009163</td>\n",
       "      <td>-0.003874</td>\n",
       "      <td>0.141360</td>\n",
       "      <td>0.034517</td>\n",
       "      <td>-0.054394</td>\n",
       "    </tr>\n",
       "    <tr>\n",
       "      <th>Neighbourhood_codes</th>\n",
       "      <td>0.004683</td>\n",
       "      <td>0.002786</td>\n",
       "      <td>0.003358</td>\n",
       "      <td>-0.017714</td>\n",
       "      <td>1.000000</td>\n",
       "      <td>-0.004515</td>\n",
       "      <td>-0.002411</td>\n",
       "      <td>-0.002902</td>\n",
       "      <td>-0.003853</td>\n",
       "      <td>0.004630</td>\n",
       "      <td>0.009161</td>\n",
       "      <td>0.016037</td>\n",
       "      <td>0.001986</td>\n",
       "      <td>0.012324</td>\n",
       "      <td>0.022656</td>\n",
       "    </tr>\n",
       "    <tr>\n",
       "      <th>Appointment_WeekDay</th>\n",
       "      <td>-0.000938</td>\n",
       "      <td>-0.051003</td>\n",
       "      <td>-0.003383</td>\n",
       "      <td>0.008642</td>\n",
       "      <td>-0.004515</td>\n",
       "      <td>1.000000</td>\n",
       "      <td>-0.014105</td>\n",
       "      <td>0.239549</td>\n",
       "      <td>-0.174185</td>\n",
       "      <td>-0.007664</td>\n",
       "      <td>0.002879</td>\n",
       "      <td>0.006735</td>\n",
       "      <td>0.002918</td>\n",
       "      <td>0.001494</td>\n",
       "      <td>-0.101127</td>\n",
       "    </tr>\n",
       "    <tr>\n",
       "      <th>From_Schedualing_to_Appoitment</th>\n",
       "      <td>0.003031</td>\n",
       "      <td>-0.779173</td>\n",
       "      <td>0.037782</td>\n",
       "      <td>-0.034720</td>\n",
       "      <td>-0.002411</td>\n",
       "      <td>-0.014105</td>\n",
       "      <td>1.000000</td>\n",
       "      <td>-0.012850</td>\n",
       "      <td>-0.009667</td>\n",
       "      <td>-0.028396</td>\n",
       "      <td>-0.024050</td>\n",
       "      <td>-0.033191</td>\n",
       "      <td>-0.042849</td>\n",
       "      <td>-0.019629</td>\n",
       "      <td>0.385494</td>\n",
       "    </tr>\n",
       "    <tr>\n",
       "      <th>prcp</th>\n",
       "      <td>0.001356</td>\n",
       "      <td>-0.040578</td>\n",
       "      <td>-0.009317</td>\n",
       "      <td>0.006540</td>\n",
       "      <td>-0.002902</td>\n",
       "      <td>0.239549</td>\n",
       "      <td>-0.012850</td>\n",
       "      <td>1.000000</td>\n",
       "      <td>0.166564</td>\n",
       "      <td>-0.003687</td>\n",
       "      <td>-0.003097</td>\n",
       "      <td>-0.004557</td>\n",
       "      <td>0.001806</td>\n",
       "      <td>-0.000422</td>\n",
       "      <td>-0.006581</td>\n",
       "    </tr>\n",
       "    <tr>\n",
       "      <th>temp</th>\n",
       "      <td>0.005275</td>\n",
       "      <td>0.043289</td>\n",
       "      <td>-0.004084</td>\n",
       "      <td>0.001129</td>\n",
       "      <td>-0.003853</td>\n",
       "      <td>-0.174185</td>\n",
       "      <td>-0.009667</td>\n",
       "      <td>0.166564</td>\n",
       "      <td>1.000000</td>\n",
       "      <td>-0.005984</td>\n",
       "      <td>-0.009694</td>\n",
       "      <td>-0.002680</td>\n",
       "      <td>-0.002740</td>\n",
       "      <td>-0.000909</td>\n",
       "      <td>-0.117233</td>\n",
       "    </tr>\n",
       "    <tr>\n",
       "      <th>Scholarship</th>\n",
       "      <td>0.000969</td>\n",
       "      <td>0.021905</td>\n",
       "      <td>-0.143258</td>\n",
       "      <td>-0.146932</td>\n",
       "      <td>0.004630</td>\n",
       "      <td>-0.007664</td>\n",
       "      <td>-0.028396</td>\n",
       "      <td>-0.003687</td>\n",
       "      <td>-0.005984</td>\n",
       "      <td>1.000000</td>\n",
       "      <td>-0.016437</td>\n",
       "      <td>-0.023813</td>\n",
       "      <td>0.044333</td>\n",
       "      <td>-0.009604</td>\n",
       "      <td>0.000581</td>\n",
       "    </tr>\n",
       "    <tr>\n",
       "      <th>Hipertension</th>\n",
       "      <td>-0.006820</td>\n",
       "      <td>0.018419</td>\n",
       "      <td>0.472810</td>\n",
       "      <td>-0.009163</td>\n",
       "      <td>0.009161</td>\n",
       "      <td>0.002879</td>\n",
       "      <td>-0.024050</td>\n",
       "      <td>-0.003097</td>\n",
       "      <td>-0.009694</td>\n",
       "      <td>-0.016437</td>\n",
       "      <td>1.000000</td>\n",
       "      <td>0.412983</td>\n",
       "      <td>0.062946</td>\n",
       "      <td>0.072936</td>\n",
       "      <td>-0.016888</td>\n",
       "    </tr>\n",
       "    <tr>\n",
       "      <th>Diabetes</th>\n",
       "      <td>0.001199</td>\n",
       "      <td>0.027832</td>\n",
       "      <td>0.272148</td>\n",
       "      <td>-0.003874</td>\n",
       "      <td>0.016037</td>\n",
       "      <td>0.006735</td>\n",
       "      <td>-0.033191</td>\n",
       "      <td>-0.004557</td>\n",
       "      <td>-0.002680</td>\n",
       "      <td>-0.023813</td>\n",
       "      <td>0.412983</td>\n",
       "      <td>1.000000</td>\n",
       "      <td>0.003103</td>\n",
       "      <td>0.051368</td>\n",
       "      <td>-0.023070</td>\n",
       "    </tr>\n",
       "    <tr>\n",
       "      <th>Alcoholism</th>\n",
       "      <td>0.011994</td>\n",
       "      <td>0.038204</td>\n",
       "      <td>0.042202</td>\n",
       "      <td>0.141360</td>\n",
       "      <td>0.001986</td>\n",
       "      <td>0.002918</td>\n",
       "      <td>-0.042849</td>\n",
       "      <td>0.001806</td>\n",
       "      <td>-0.002740</td>\n",
       "      <td>0.044333</td>\n",
       "      <td>0.062946</td>\n",
       "      <td>0.003103</td>\n",
       "      <td>1.000000</td>\n",
       "      <td>0.000416</td>\n",
       "      <td>-0.031944</td>\n",
       "    </tr>\n",
       "    <tr>\n",
       "      <th>Handcap</th>\n",
       "      <td>-0.003559</td>\n",
       "      <td>0.013368</td>\n",
       "      <td>0.064992</td>\n",
       "      <td>0.034517</td>\n",
       "      <td>0.012324</td>\n",
       "      <td>0.001494</td>\n",
       "      <td>-0.019629</td>\n",
       "      <td>-0.000422</td>\n",
       "      <td>-0.000909</td>\n",
       "      <td>-0.009604</td>\n",
       "      <td>0.072936</td>\n",
       "      <td>0.051368</td>\n",
       "      <td>0.000416</td>\n",
       "      <td>1.000000</td>\n",
       "      <td>-0.027682</td>\n",
       "    </tr>\n",
       "    <tr>\n",
       "      <th>SMS_received</th>\n",
       "      <td>-0.006519</td>\n",
       "      <td>-0.246798</td>\n",
       "      <td>-0.017255</td>\n",
       "      <td>-0.054394</td>\n",
       "      <td>0.022656</td>\n",
       "      <td>-0.101127</td>\n",
       "      <td>0.385494</td>\n",
       "      <td>-0.006581</td>\n",
       "      <td>-0.117233</td>\n",
       "      <td>0.000581</td>\n",
       "      <td>-0.016888</td>\n",
       "      <td>-0.023070</td>\n",
       "      <td>-0.031944</td>\n",
       "      <td>-0.027682</td>\n",
       "      <td>1.000000</td>\n",
       "    </tr>\n",
       "  </tbody>\n",
       "</table>\n",
       "</div>"
      ],
      "text/plain": [
       "                                PatientId  AppointmentID       Age   Gender_  \\\n",
       "PatientId                        1.000000       0.000807 -0.003689  0.011260   \n",
       "AppointmentID                    0.000807       1.000000 -0.022907  0.025010   \n",
       "Age                             -0.003689      -0.022907  1.000000  0.036990   \n",
       "Gender_                          0.011260       0.025010  0.036990  1.000000   \n",
       "Neighbourhood_codes              0.004683       0.002786  0.003358 -0.017714   \n",
       "Appointment_WeekDay             -0.000938      -0.051003 -0.003383  0.008642   \n",
       "From_Schedualing_to_Appoitment   0.003031      -0.779173  0.037782 -0.034720   \n",
       "prcp                             0.001356      -0.040578 -0.009317  0.006540   \n",
       "temp                             0.005275       0.043289 -0.004084  0.001129   \n",
       "Scholarship                      0.000969       0.021905 -0.143258 -0.146932   \n",
       "Hipertension                    -0.006820       0.018419  0.472810 -0.009163   \n",
       "Diabetes                         0.001199       0.027832  0.272148 -0.003874   \n",
       "Alcoholism                       0.011994       0.038204  0.042202  0.141360   \n",
       "Handcap                         -0.003559       0.013368  0.064992  0.034517   \n",
       "SMS_received                    -0.006519      -0.246798 -0.017255 -0.054394   \n",
       "\n",
       "                                Neighbourhood_codes  Appointment_WeekDay  \\\n",
       "PatientId                                  0.004683            -0.000938   \n",
       "AppointmentID                              0.002786            -0.051003   \n",
       "Age                                        0.003358            -0.003383   \n",
       "Gender_                                   -0.017714             0.008642   \n",
       "Neighbourhood_codes                        1.000000            -0.004515   \n",
       "Appointment_WeekDay                       -0.004515             1.000000   \n",
       "From_Schedualing_to_Appoitment            -0.002411            -0.014105   \n",
       "prcp                                      -0.002902             0.239549   \n",
       "temp                                      -0.003853            -0.174185   \n",
       "Scholarship                                0.004630            -0.007664   \n",
       "Hipertension                               0.009161             0.002879   \n",
       "Diabetes                                   0.016037             0.006735   \n",
       "Alcoholism                                 0.001986             0.002918   \n",
       "Handcap                                    0.012324             0.001494   \n",
       "SMS_received                               0.022656            -0.101127   \n",
       "\n",
       "                                From_Schedualing_to_Appoitment      prcp  \\\n",
       "PatientId                                             0.003031  0.001356   \n",
       "AppointmentID                                        -0.779173 -0.040578   \n",
       "Age                                                   0.037782 -0.009317   \n",
       "Gender_                                              -0.034720  0.006540   \n",
       "Neighbourhood_codes                                  -0.002411 -0.002902   \n",
       "Appointment_WeekDay                                  -0.014105  0.239549   \n",
       "From_Schedualing_to_Appoitment                        1.000000 -0.012850   \n",
       "prcp                                                 -0.012850  1.000000   \n",
       "temp                                                 -0.009667  0.166564   \n",
       "Scholarship                                          -0.028396 -0.003687   \n",
       "Hipertension                                         -0.024050 -0.003097   \n",
       "Diabetes                                             -0.033191 -0.004557   \n",
       "Alcoholism                                           -0.042849  0.001806   \n",
       "Handcap                                              -0.019629 -0.000422   \n",
       "SMS_received                                          0.385494 -0.006581   \n",
       "\n",
       "                                    temp  Scholarship  Hipertension  Diabetes  \\\n",
       "PatientId                       0.005275     0.000969     -0.006820  0.001199   \n",
       "AppointmentID                   0.043289     0.021905      0.018419  0.027832   \n",
       "Age                            -0.004084    -0.143258      0.472810  0.272148   \n",
       "Gender_                         0.001129    -0.146932     -0.009163 -0.003874   \n",
       "Neighbourhood_codes            -0.003853     0.004630      0.009161  0.016037   \n",
       "Appointment_WeekDay            -0.174185    -0.007664      0.002879  0.006735   \n",
       "From_Schedualing_to_Appoitment -0.009667    -0.028396     -0.024050 -0.033191   \n",
       "prcp                            0.166564    -0.003687     -0.003097 -0.004557   \n",
       "temp                            1.000000    -0.005984     -0.009694 -0.002680   \n",
       "Scholarship                    -0.005984     1.000000     -0.016437 -0.023813   \n",
       "Hipertension                   -0.009694    -0.016437      1.000000  0.412983   \n",
       "Diabetes                       -0.002680    -0.023813      0.412983  1.000000   \n",
       "Alcoholism                     -0.002740     0.044333      0.062946  0.003103   \n",
       "Handcap                        -0.000909    -0.009604      0.072936  0.051368   \n",
       "SMS_received                   -0.117233     0.000581     -0.016888 -0.023070   \n",
       "\n",
       "                                Alcoholism   Handcap  SMS_received  \n",
       "PatientId                         0.011994 -0.003559     -0.006519  \n",
       "AppointmentID                     0.038204  0.013368     -0.246798  \n",
       "Age                               0.042202  0.064992     -0.017255  \n",
       "Gender_                           0.141360  0.034517     -0.054394  \n",
       "Neighbourhood_codes               0.001986  0.012324      0.022656  \n",
       "Appointment_WeekDay               0.002918  0.001494     -0.101127  \n",
       "From_Schedualing_to_Appoitment   -0.042849 -0.019629      0.385494  \n",
       "prcp                              0.001806 -0.000422     -0.006581  \n",
       "temp                             -0.002740 -0.000909     -0.117233  \n",
       "Scholarship                       0.044333 -0.009604      0.000581  \n",
       "Hipertension                      0.062946  0.072936     -0.016888  \n",
       "Diabetes                          0.003103  0.051368     -0.023070  \n",
       "Alcoholism                        1.000000  0.000416     -0.031944  \n",
       "Handcap                           0.000416  1.000000     -0.027682  \n",
       "SMS_received                     -0.031944 -0.027682      1.000000  "
      ]
     },
     "execution_count": 38,
     "metadata": {},
     "output_type": "execute_result"
    }
   ],
   "source": [
    "train_df_numeric = train_df.iloc[:, 0:20]\n",
    "# iloc = integer-location based indexing for selection by position\n",
    "corr_df=train_df_numeric.corr()\n",
    "corr_df"
   ]
  },
  {
   "cell_type": "code",
   "execution_count": 39,
   "metadata": {},
   "outputs": [
    {
     "data": {
      "text/plain": [
       "<matplotlib.axes._subplots.AxesSubplot at 0x159eace68d0>"
      ]
     },
     "execution_count": 39,
     "metadata": {},
     "output_type": "execute_result"
    },
    {
     "data": {
      "image/png": "[encoded data removed]",
      "text/plain": [
       "<Figure size 432x288 with 2 Axes>"
      ]
     },
     "metadata": {},
     "output_type": "display_data"
    }
   ],
   "source": [
    "sns.heatmap(corr_df)\n",
    "# corr of 47% > Age + Hypertention (blood pressure)\n",
    "# corr of 27% > Age + Diabetes\n",
    "# corr of 41% > Diabetes + Hypertention (blood pressure)\n",
    "# corr of 38% > SMS + From_Schedualing_to_Appoitment"
   ]
  },
  {
   "cell_type": "code",
   "execution_count": 40,
   "metadata": {},
   "outputs": [
    {
     "data": {
      "text/plain": [
       "<matplotlib.axes._subplots.AxesSubplot at 0x159ea02e9b0>"
      ]
     },
     "execution_count": 40,
     "metadata": {},
     "output_type": "execute_result"
    },
    {
     "data": {
      "image/png": "[encoded data removed]",
      "text/plain": [
       "<Figure size 432x288 with 2 Axes>"
      ]
     },
     "metadata": {},
     "output_type": "display_data"
    }
   ],
   "source": [
    "sns.heatmap(corr_df[(corr_df<1) & ((corr_df >= 0.3) | (corr_df <= -0.3)) ] )"
   ]
  },
  {
   "cell_type": "code",
   "execution_count": 42,
   "metadata": {},
   "outputs": [
    {
     "data": {
      "text/plain": [
       "AppointmentID                    -0.150026\n",
       "Age                              -0.083190\n",
       "Hipertension                     -0.035321\n",
       "Diabetes                         -0.016225\n",
       "Neighbourhood_codes              -0.010188\n",
       "Handcap                          -0.008821\n",
       "Gender_                          -0.008018\n",
       "prcp                             -0.004494\n",
       "Appointment_WeekDay              -0.004048\n",
       "PatientId                         0.000200\n",
       "Alcoholism                        0.002448\n",
       "temp                              0.012896\n",
       "Scholarship                       0.031123\n",
       "SMS_received                      0.126603\n",
       "From_Schedualing_to_Appoitment    0.170900\n",
       "No-show_                          1.000000\n",
       "Name: No-show_, dtype: float64"
      ]
     },
     "execution_count": 42,
     "metadata": {},
     "output_type": "execute_result"
    }
   ],
   "source": [
    "corr_matrix = train_df.corr()\n",
    "corr_matrix[\"No-show_\"].sort_values()"
   ]
  },
  {
   "cell_type": "code",
   "execution_count": null,
   "metadata": {},
   "outputs": [],
   "source": []
  }
 ],
 "metadata": {
  "kernelspec": {
   "display_name": "Python 3",
   "language": "python",
   "name": "python3"
  },
  "language_info": {
   "codemirror_mode": {
    "name": "ipython",
    "version": 3
   },
   "file_extension": ".py",
   "mimetype": "text/x-python",
   "name": "python",
   "nbconvert_exporter": "python",
   "pygments_lexer": "ipython3",
   "version": "3.6.5"
  }
 },
 "nbformat": 4,
 "nbformat_minor": 2
}
