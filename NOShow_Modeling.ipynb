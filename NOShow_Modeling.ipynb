{
 "cells": [
  {
   "cell_type": "code",
   "execution_count": 1,
   "metadata": {},
   "outputs": [
    {
     "name": "stderr",
     "output_type": "stream",
     "text": [
      "C:\\Users\\oripo\\Anaconda3\\lib\\site-packages\\sklearn\\ensemble\\weight_boosting.py:29: DeprecationWarning: numpy.core.umath_tests is an internal NumPy module and should not be imported. It will be removed in a future NumPy release.\n",
      "  from numpy.core.umath_tests import inner1d\n"
     ]
    }
   ],
   "source": [
    "%matplotlib inline\n",
    "import numpy as np\n",
    "import pandas as pd\n",
    "import statsmodels.formula.api as sm\n",
    "import datetime\n",
    "from sklearn import metrics\n",
    "from sklearn.decomposition import PCA\n",
    "from sklearn.ensemble import RandomForestClassifier\n",
    "from sklearn.externals import joblib\n",
    "from scipy.stats import norm\n",
    "from sklearn.model_selection import train_test_split\n",
    "from pandas.plotting import scatter_matrix\n",
    "\n",
    "import pylab as pl\n",
    "import matplotlib.pyplot as plt\n",
    "import seaborn as sns\n",
    "%matplotlib inline \n",
    "\n",
    "from sklearn.preprocessing import MinMaxScaler\n",
    "from sklearn.preprocessing import StandardScaler\n",
    "\n",
    "import pickle\n",
    "\n",
    "from sklearn.tree import DecisionTreeClassifier\n",
    "\n",
    "from sklearn.tree import export_graphviz \n",
    "    #In the cmd line type: conda install python-graphviz\n",
    "import graphviz\n",
    "import os\n",
    "os.environ[\"PATH\"] += os.pathsep + 'D:/Program Files (x86)/Graphviz2.38/bin/'\n",
    "\n",
    "from sklearn.metrics import confusion_matrix\n",
    "from sklearn.metrics import precision_score, recall_score\n",
    "from sklearn.metrics import roc_curve\n",
    "from sklearn.ensemble import RandomForestClassifier\n"
   ]
  },
  {
   "cell_type": "code",
   "execution_count": 3,
   "metadata": {},
   "outputs": [],
   "source": [
    "train_df = pickle.load(open(\"train_df.dat\", \"rb\"))\n",
    "#note to call the file from correct folder\n",
    "test_df = pickle.load(open(\"test_df.dat\", \"rb\"))"
   ]
  },
  {
   "cell_type": "markdown",
   "metadata": {},
   "source": [
    "### reparing train_df"
   ]
  },
  {
   "cell_type": "code",
   "execution_count": 4,
   "metadata": {},
   "outputs": [],
   "source": [
    "# Dropping Appointment_WeekDay from train_df because it is nominal\n",
    "week_day = pd.get_dummies(train_df[\"Appointment_WeekDay\"])\n",
    "week_day[\"AppointmentID\"] = train_df[\"AppointmentID\"]\n",
    "train_df=train_df.merge(week_day, how='left', on='AppointmentID')\n",
    "train_df = train_df.drop(['Appointment_WeekDay'], axis=1)"
   ]
  },
  {
   "cell_type": "code",
   "execution_count": 5,
   "metadata": {},
   "outputs": [
    {
     "data": {
      "text/html": [
       "<div>\n",
       "<style scoped>\n",
       "    .dataframe tbody tr th:only-of-type {\n",
       "        vertical-align: middle;\n",
       "    }\n",
       "\n",
       "    .dataframe tbody tr th {\n",
       "        vertical-align: top;\n",
       "    }\n",
       "\n",
       "    .dataframe thead th {\n",
       "        text-align: right;\n",
       "    }\n",
       "</style>\n",
       "<table border=\"1\" class=\"dataframe\">\n",
       "  <thead>\n",
       "    <tr style=\"text-align: right;\">\n",
       "      <th></th>\n",
       "      <th>PatientId</th>\n",
       "      <th>AppointmentID</th>\n",
       "      <th>Age</th>\n",
       "      <th>Gender_</th>\n",
       "      <th>From_Schedualing_to_Appoitment</th>\n",
       "      <th>prcp</th>\n",
       "      <th>temp</th>\n",
       "      <th>Scholarship</th>\n",
       "      <th>Hipertension</th>\n",
       "      <th>Diabetes</th>\n",
       "      <th>...</th>\n",
       "      <th>72</th>\n",
       "      <th>73</th>\n",
       "      <th>74</th>\n",
       "      <th>75</th>\n",
       "      <th>76</th>\n",
       "      <th>77</th>\n",
       "      <th>78</th>\n",
       "      <th>79</th>\n",
       "      <th>80</th>\n",
       "      <th>81</th>\n",
       "    </tr>\n",
       "  </thead>\n",
       "  <tbody>\n",
       "    <tr>\n",
       "      <th>0</th>\n",
       "      <td>3.896630e+12</td>\n",
       "      <td>5755386</td>\n",
       "      <td>49</td>\n",
       "      <td>0</td>\n",
       "      <td>0</td>\n",
       "      <td>0.4</td>\n",
       "      <td>23.866667</td>\n",
       "      <td>1</td>\n",
       "      <td>0</td>\n",
       "      <td>0</td>\n",
       "      <td>...</td>\n",
       "      <td>1</td>\n",
       "      <td>0</td>\n",
       "      <td>0</td>\n",
       "      <td>0</td>\n",
       "      <td>0</td>\n",
       "      <td>0</td>\n",
       "      <td>0</td>\n",
       "      <td>0</td>\n",
       "      <td>0</td>\n",
       "      <td>0</td>\n",
       "    </tr>\n",
       "    <tr>\n",
       "      <th>1</th>\n",
       "      <td>9.529640e+14</td>\n",
       "      <td>5661282</td>\n",
       "      <td>18</td>\n",
       "      <td>0</td>\n",
       "      <td>4</td>\n",
       "      <td>0.0</td>\n",
       "      <td>25.554167</td>\n",
       "      <td>0</td>\n",
       "      <td>0</td>\n",
       "      <td>0</td>\n",
       "      <td>...</td>\n",
       "      <td>0</td>\n",
       "      <td>0</td>\n",
       "      <td>0</td>\n",
       "      <td>0</td>\n",
       "      <td>0</td>\n",
       "      <td>0</td>\n",
       "      <td>0</td>\n",
       "      <td>0</td>\n",
       "      <td>0</td>\n",
       "      <td>0</td>\n",
       "    </tr>\n",
       "    <tr>\n",
       "      <th>2</th>\n",
       "      <td>5.934430e+12</td>\n",
       "      <td>5641643</td>\n",
       "      <td>38</td>\n",
       "      <td>0</td>\n",
       "      <td>4</td>\n",
       "      <td>0.0</td>\n",
       "      <td>21.941667</td>\n",
       "      <td>0</td>\n",
       "      <td>1</td>\n",
       "      <td>0</td>\n",
       "      <td>...</td>\n",
       "      <td>0</td>\n",
       "      <td>0</td>\n",
       "      <td>0</td>\n",
       "      <td>0</td>\n",
       "      <td>0</td>\n",
       "      <td>0</td>\n",
       "      <td>0</td>\n",
       "      <td>1</td>\n",
       "      <td>0</td>\n",
       "      <td>0</td>\n",
       "    </tr>\n",
       "    <tr>\n",
       "      <th>3</th>\n",
       "      <td>6.973700e+14</td>\n",
       "      <td>5771112</td>\n",
       "      <td>64</td>\n",
       "      <td>0</td>\n",
       "      <td>4</td>\n",
       "      <td>0.0</td>\n",
       "      <td>24.045833</td>\n",
       "      <td>0</td>\n",
       "      <td>1</td>\n",
       "      <td>0</td>\n",
       "      <td>...</td>\n",
       "      <td>0</td>\n",
       "      <td>0</td>\n",
       "      <td>0</td>\n",
       "      <td>0</td>\n",
       "      <td>0</td>\n",
       "      <td>0</td>\n",
       "      <td>0</td>\n",
       "      <td>0</td>\n",
       "      <td>0</td>\n",
       "      <td>0</td>\n",
       "    </tr>\n",
       "    <tr>\n",
       "      <th>4</th>\n",
       "      <td>5.422850e+12</td>\n",
       "      <td>5619362</td>\n",
       "      <td>45</td>\n",
       "      <td>0</td>\n",
       "      <td>8</td>\n",
       "      <td>0.0</td>\n",
       "      <td>24.375000</td>\n",
       "      <td>1</td>\n",
       "      <td>0</td>\n",
       "      <td>0</td>\n",
       "      <td>...</td>\n",
       "      <td>0</td>\n",
       "      <td>0</td>\n",
       "      <td>0</td>\n",
       "      <td>0</td>\n",
       "      <td>0</td>\n",
       "      <td>0</td>\n",
       "      <td>0</td>\n",
       "      <td>0</td>\n",
       "      <td>0</td>\n",
       "      <td>0</td>\n",
       "    </tr>\n",
       "  </tbody>\n",
       "</table>\n",
       "<p>5 rows × 100 columns</p>\n",
       "</div>"
      ],
      "text/plain": [
       "      PatientId  AppointmentID  Age  Gender_  From_Schedualing_to_Appoitment  \\\n",
       "0  3.896630e+12        5755386   49        0                               0   \n",
       "1  9.529640e+14        5661282   18        0                               4   \n",
       "2  5.934430e+12        5641643   38        0                               4   \n",
       "3  6.973700e+14        5771112   64        0                               4   \n",
       "4  5.422850e+12        5619362   45        0                               8   \n",
       "\n",
       "   prcp       temp  Scholarship  Hipertension  Diabetes ...  72  73  74  75  \\\n",
       "0   0.4  23.866667            1             0         0 ...   1   0   0   0   \n",
       "1   0.0  25.554167            0             0         0 ...   0   0   0   0   \n",
       "2   0.0  21.941667            0             1         0 ...   0   0   0   0   \n",
       "3   0.0  24.045833            0             1         0 ...   0   0   0   0   \n",
       "4   0.0  24.375000            1             0         0 ...   0   0   0   0   \n",
       "\n",
       "   76  77  78  79  80  81  \n",
       "0   0   0   0   0   0   0  \n",
       "1   0   0   0   0   0   0  \n",
       "2   0   0   0   1   0   0  \n",
       "3   0   0   0   0   0   0  \n",
       "4   0   0   0   0   0   0  \n",
       "\n",
       "[5 rows x 100 columns]"
      ]
     },
     "execution_count": 5,
     "metadata": {},
     "output_type": "execute_result"
    }
   ],
   "source": [
    "# The same for neighborhood for df_train\n",
    "neighborhood = pd.get_dummies(train_df[\"Neighbourhood_codes\"])\n",
    "neighborhood[\"AppointmentID\"] = train_df[\"AppointmentID\"]\n",
    "train_df=train_df.merge(neighborhood, how='left', on='AppointmentID')\n",
    "train_df = train_df.drop(['Neighbourhood_codes'], axis=1)\n",
    "train_df.head()"
   ]
  },
  {
   "cell_type": "markdown",
   "metadata": {},
   "source": [
    "### reparing test_df"
   ]
  },
  {
   "cell_type": "code",
   "execution_count": 8,
   "metadata": {},
   "outputs": [
    {
     "data": {
      "text/plain": [
       "0        0\n",
       "1        1\n",
       "2        0\n",
       "3        0\n",
       "4        0\n",
       "5        0\n",
       "6        1\n",
       "7        0\n",
       "8        0\n",
       "9        1\n",
       "10       0\n",
       "11       0\n",
       "12       1\n",
       "13       0\n",
       "14       0\n",
       "15       0\n",
       "16       0\n",
       "17       0\n",
       "18       0\n",
       "19       0\n",
       "20       1\n",
       "21       0\n",
       "22       0\n",
       "23       0\n",
       "24       0\n",
       "25       1\n",
       "26       0\n",
       "27       0\n",
       "28       0\n",
       "29       0\n",
       "        ..\n",
       "68813    1\n",
       "68814    0\n",
       "68815    1\n",
       "68816    0\n",
       "68817    0\n",
       "68818    0\n",
       "68819    0\n",
       "68820    0\n",
       "68821    0\n",
       "68822    1\n",
       "68823    0\n",
       "68824    0\n",
       "68825    0\n",
       "68826    0\n",
       "68827    0\n",
       "68828    0\n",
       "68829    0\n",
       "68830    0\n",
       "68831    1\n",
       "68832    1\n",
       "68833    0\n",
       "68834    1\n",
       "68835    0\n",
       "68836    0\n",
       "68837    0\n",
       "68838    0\n",
       "68839    1\n",
       "68840    1\n",
       "68841    0\n",
       "68842    0\n",
       "Name: No-show_, Length: 68843, dtype: int8"
      ]
     },
     "execution_count": 8,
     "metadata": {},
     "output_type": "execute_result"
    }
   ],
   "source": [
    "train_df['No-show_']"
   ]
  },
  {
   "cell_type": "code",
   "execution_count": 5,
   "metadata": {},
   "outputs": [],
   "source": [
    "# Dropping Appointment_WeekDay from test_df because it is nominal\n",
    "week_day = pd.get_dummies(test_df[\"Appointment_WeekDay\"])\n",
    "week_day[\"AppointmentID\"] = test_df[\"AppointmentID\"]\n",
    "test_df=test_df.merge(week_day, how='left', on='AppointmentID')\n",
    "test_df = test_df.drop(['Appointment_WeekDay'], axis=1)"
   ]
  },
  {
   "cell_type": "code",
   "execution_count": 6,
   "metadata": {},
   "outputs": [],
   "source": [
    "# The same for neighborhood for test_df\n",
    "neighborhood = pd.get_dummies(test_df[\"Neighbourhood_codes\"])\n",
    "neighborhood[\"AppointmentID\"] = test_df[\"AppointmentID\"]\n",
    "test_df=test_df.merge(neighborhood, how='left', on='AppointmentID')\n",
    "test_df = test_df.drop(['Neighbourhood_codes'], axis=1)"
   ]
  },
  {
   "cell_type": "markdown",
   "metadata": {},
   "source": [
    "# stop here - did not do this for STD / Normelized"
   ]
  },
  {
   "cell_type": "code",
   "execution_count": null,
   "metadata": {},
   "outputs": [],
   "source": [
    "train_df.columns"
   ]
  },
  {
   "cell_type": "code",
   "execution_count": null,
   "metadata": {},
   "outputs": [],
   "source": [
    "#train_df = train_df[train_df.From_Schedualing_to_Appoitment >0]"
   ]
  },
  {
   "cell_type": "code",
   "execution_count": 7,
   "metadata": {},
   "outputs": [],
   "source": [
    "y = train_df[\"No-show_\"]\n",
    "X = train_df.drop(['PatientId','AppointmentID','No-show_'], axis = 1)"
   ]
  },
  {
   "cell_type": "code",
   "execution_count": 8,
   "metadata": {},
   "outputs": [
    {
     "data": {
      "text/html": [
       "<div>\n",
       "<style scoped>\n",
       "    .dataframe tbody tr th:only-of-type {\n",
       "        vertical-align: middle;\n",
       "    }\n",
       "\n",
       "    .dataframe tbody tr th {\n",
       "        vertical-align: top;\n",
       "    }\n",
       "\n",
       "    .dataframe thead th {\n",
       "        text-align: right;\n",
       "    }\n",
       "</style>\n",
       "<table border=\"1\" class=\"dataframe\">\n",
       "  <thead>\n",
       "    <tr style=\"text-align: right;\">\n",
       "      <th></th>\n",
       "      <th>Age</th>\n",
       "      <th>Gender_</th>\n",
       "      <th>From_Schedualing_to_Appoitment</th>\n",
       "      <th>prcp</th>\n",
       "      <th>temp</th>\n",
       "      <th>Scholarship</th>\n",
       "      <th>Hipertension</th>\n",
       "      <th>Diabetes</th>\n",
       "      <th>Alcoholism</th>\n",
       "      <th>Handcap</th>\n",
       "      <th>...</th>\n",
       "      <th>72</th>\n",
       "      <th>73</th>\n",
       "      <th>74</th>\n",
       "      <th>75</th>\n",
       "      <th>76</th>\n",
       "      <th>77</th>\n",
       "      <th>78</th>\n",
       "      <th>79</th>\n",
       "      <th>80</th>\n",
       "      <th>81</th>\n",
       "    </tr>\n",
       "  </thead>\n",
       "  <tbody>\n",
       "    <tr>\n",
       "      <th>count</th>\n",
       "      <td>68843.000000</td>\n",
       "      <td>68843.000000</td>\n",
       "      <td>68843.000000</td>\n",
       "      <td>68843.000000</td>\n",
       "      <td>68843.000000</td>\n",
       "      <td>68843.000000</td>\n",
       "      <td>68843.000000</td>\n",
       "      <td>68843.000000</td>\n",
       "      <td>68843.000000</td>\n",
       "      <td>68843.000000</td>\n",
       "      <td>...</td>\n",
       "      <td>68843.000000</td>\n",
       "      <td>68843.000000</td>\n",
       "      <td>68843.000000</td>\n",
       "      <td>68843.000000</td>\n",
       "      <td>68843.000000</td>\n",
       "      <td>68843.000000</td>\n",
       "      <td>68843.000000</td>\n",
       "      <td>68843.000000</td>\n",
       "      <td>68843.000000</td>\n",
       "      <td>68843.000000</td>\n",
       "    </tr>\n",
       "    <tr>\n",
       "      <th>mean</th>\n",
       "      <td>45.875194</td>\n",
       "      <td>0.304577</td>\n",
       "      <td>10.344102</td>\n",
       "      <td>0.259342</td>\n",
       "      <td>24.235677</td>\n",
       "      <td>0.095347</td>\n",
       "      <td>0.252967</td>\n",
       "      <td>0.091876</td>\n",
       "      <td>0.038595</td>\n",
       "      <td>0.025987</td>\n",
       "      <td>...</td>\n",
       "      <td>0.004706</td>\n",
       "      <td>0.001278</td>\n",
       "      <td>0.004721</td>\n",
       "      <td>0.010996</td>\n",
       "      <td>0.017082</td>\n",
       "      <td>0.015862</td>\n",
       "      <td>0.022050</td>\n",
       "      <td>0.026510</td>\n",
       "      <td>0.001554</td>\n",
       "      <td>0.008585</td>\n",
       "    </tr>\n",
       "    <tr>\n",
       "      <th>std</th>\n",
       "      <td>18.237892</td>\n",
       "      <td>0.460231</td>\n",
       "      <td>15.644225</td>\n",
       "      <td>0.921054</td>\n",
       "      <td>1.045352</td>\n",
       "      <td>0.293696</td>\n",
       "      <td>0.434715</td>\n",
       "      <td>0.288853</td>\n",
       "      <td>0.192629</td>\n",
       "      <td>0.172922</td>\n",
       "      <td>...</td>\n",
       "      <td>0.068442</td>\n",
       "      <td>0.035730</td>\n",
       "      <td>0.068547</td>\n",
       "      <td>0.104285</td>\n",
       "      <td>0.129579</td>\n",
       "      <td>0.124943</td>\n",
       "      <td>0.146848</td>\n",
       "      <td>0.160646</td>\n",
       "      <td>0.039394</td>\n",
       "      <td>0.092256</td>\n",
       "    </tr>\n",
       "    <tr>\n",
       "      <th>min</th>\n",
       "      <td>16.000000</td>\n",
       "      <td>0.000000</td>\n",
       "      <td>0.000000</td>\n",
       "      <td>0.000000</td>\n",
       "      <td>21.941667</td>\n",
       "      <td>0.000000</td>\n",
       "      <td>0.000000</td>\n",
       "      <td>0.000000</td>\n",
       "      <td>0.000000</td>\n",
       "      <td>0.000000</td>\n",
       "      <td>...</td>\n",
       "      <td>0.000000</td>\n",
       "      <td>0.000000</td>\n",
       "      <td>0.000000</td>\n",
       "      <td>0.000000</td>\n",
       "      <td>0.000000</td>\n",
       "      <td>0.000000</td>\n",
       "      <td>0.000000</td>\n",
       "      <td>0.000000</td>\n",
       "      <td>0.000000</td>\n",
       "      <td>0.000000</td>\n",
       "    </tr>\n",
       "    <tr>\n",
       "      <th>25%</th>\n",
       "      <td>31.000000</td>\n",
       "      <td>0.000000</td>\n",
       "      <td>0.000000</td>\n",
       "      <td>0.000000</td>\n",
       "      <td>23.858333</td>\n",
       "      <td>0.000000</td>\n",
       "      <td>0.000000</td>\n",
       "      <td>0.000000</td>\n",
       "      <td>0.000000</td>\n",
       "      <td>0.000000</td>\n",
       "      <td>...</td>\n",
       "      <td>0.000000</td>\n",
       "      <td>0.000000</td>\n",
       "      <td>0.000000</td>\n",
       "      <td>0.000000</td>\n",
       "      <td>0.000000</td>\n",
       "      <td>0.000000</td>\n",
       "      <td>0.000000</td>\n",
       "      <td>0.000000</td>\n",
       "      <td>0.000000</td>\n",
       "      <td>0.000000</td>\n",
       "    </tr>\n",
       "    <tr>\n",
       "      <th>50%</th>\n",
       "      <td>45.000000</td>\n",
       "      <td>0.000000</td>\n",
       "      <td>4.000000</td>\n",
       "      <td>0.000000</td>\n",
       "      <td>24.208333</td>\n",
       "      <td>0.000000</td>\n",
       "      <td>0.000000</td>\n",
       "      <td>0.000000</td>\n",
       "      <td>0.000000</td>\n",
       "      <td>0.000000</td>\n",
       "      <td>...</td>\n",
       "      <td>0.000000</td>\n",
       "      <td>0.000000</td>\n",
       "      <td>0.000000</td>\n",
       "      <td>0.000000</td>\n",
       "      <td>0.000000</td>\n",
       "      <td>0.000000</td>\n",
       "      <td>0.000000</td>\n",
       "      <td>0.000000</td>\n",
       "      <td>0.000000</td>\n",
       "      <td>0.000000</td>\n",
       "    </tr>\n",
       "    <tr>\n",
       "      <th>75%</th>\n",
       "      <td>59.000000</td>\n",
       "      <td>1.000000</td>\n",
       "      <td>15.000000</td>\n",
       "      <td>0.000000</td>\n",
       "      <td>24.804167</td>\n",
       "      <td>0.000000</td>\n",
       "      <td>1.000000</td>\n",
       "      <td>0.000000</td>\n",
       "      <td>0.000000</td>\n",
       "      <td>0.000000</td>\n",
       "      <td>...</td>\n",
       "      <td>0.000000</td>\n",
       "      <td>0.000000</td>\n",
       "      <td>0.000000</td>\n",
       "      <td>0.000000</td>\n",
       "      <td>0.000000</td>\n",
       "      <td>0.000000</td>\n",
       "      <td>0.000000</td>\n",
       "      <td>0.000000</td>\n",
       "      <td>0.000000</td>\n",
       "      <td>0.000000</td>\n",
       "    </tr>\n",
       "    <tr>\n",
       "      <th>max</th>\n",
       "      <td>115.000000</td>\n",
       "      <td>1.000000</td>\n",
       "      <td>179.000000</td>\n",
       "      <td>4.666667</td>\n",
       "      <td>26.300000</td>\n",
       "      <td>1.000000</td>\n",
       "      <td>1.000000</td>\n",
       "      <td>1.000000</td>\n",
       "      <td>1.000000</td>\n",
       "      <td>4.000000</td>\n",
       "      <td>...</td>\n",
       "      <td>1.000000</td>\n",
       "      <td>1.000000</td>\n",
       "      <td>1.000000</td>\n",
       "      <td>1.000000</td>\n",
       "      <td>1.000000</td>\n",
       "      <td>1.000000</td>\n",
       "      <td>1.000000</td>\n",
       "      <td>1.000000</td>\n",
       "      <td>1.000000</td>\n",
       "      <td>1.000000</td>\n",
       "    </tr>\n",
       "  </tbody>\n",
       "</table>\n",
       "<p>8 rows × 97 columns</p>\n",
       "</div>"
      ],
      "text/plain": [
       "                Age       Gender_  From_Schedualing_to_Appoitment  \\\n",
       "count  68843.000000  68843.000000                    68843.000000   \n",
       "mean      45.875194      0.304577                       10.344102   \n",
       "std       18.237892      0.460231                       15.644225   \n",
       "min       16.000000      0.000000                        0.000000   \n",
       "25%       31.000000      0.000000                        0.000000   \n",
       "50%       45.000000      0.000000                        4.000000   \n",
       "75%       59.000000      1.000000                       15.000000   \n",
       "max      115.000000      1.000000                      179.000000   \n",
       "\n",
       "               prcp          temp   Scholarship  Hipertension      Diabetes  \\\n",
       "count  68843.000000  68843.000000  68843.000000  68843.000000  68843.000000   \n",
       "mean       0.259342     24.235677      0.095347      0.252967      0.091876   \n",
       "std        0.921054      1.045352      0.293696      0.434715      0.288853   \n",
       "min        0.000000     21.941667      0.000000      0.000000      0.000000   \n",
       "25%        0.000000     23.858333      0.000000      0.000000      0.000000   \n",
       "50%        0.000000     24.208333      0.000000      0.000000      0.000000   \n",
       "75%        0.000000     24.804167      0.000000      1.000000      0.000000   \n",
       "max        4.666667     26.300000      1.000000      1.000000      1.000000   \n",
       "\n",
       "         Alcoholism       Handcap      ...                 72            73  \\\n",
       "count  68843.000000  68843.000000      ...       68843.000000  68843.000000   \n",
       "mean       0.038595      0.025987      ...           0.004706      0.001278   \n",
       "std        0.192629      0.172922      ...           0.068442      0.035730   \n",
       "min        0.000000      0.000000      ...           0.000000      0.000000   \n",
       "25%        0.000000      0.000000      ...           0.000000      0.000000   \n",
       "50%        0.000000      0.000000      ...           0.000000      0.000000   \n",
       "75%        0.000000      0.000000      ...           0.000000      0.000000   \n",
       "max        1.000000      4.000000      ...           1.000000      1.000000   \n",
       "\n",
       "                 74            75            76            77            78  \\\n",
       "count  68843.000000  68843.000000  68843.000000  68843.000000  68843.000000   \n",
       "mean       0.004721      0.010996      0.017082      0.015862      0.022050   \n",
       "std        0.068547      0.104285      0.129579      0.124943      0.146848   \n",
       "min        0.000000      0.000000      0.000000      0.000000      0.000000   \n",
       "25%        0.000000      0.000000      0.000000      0.000000      0.000000   \n",
       "50%        0.000000      0.000000      0.000000      0.000000      0.000000   \n",
       "75%        0.000000      0.000000      0.000000      0.000000      0.000000   \n",
       "max        1.000000      1.000000      1.000000      1.000000      1.000000   \n",
       "\n",
       "                 79            80            81  \n",
       "count  68843.000000  68843.000000  68843.000000  \n",
       "mean       0.026510      0.001554      0.008585  \n",
       "std        0.160646      0.039394      0.092256  \n",
       "min        0.000000      0.000000      0.000000  \n",
       "25%        0.000000      0.000000      0.000000  \n",
       "50%        0.000000      0.000000      0.000000  \n",
       "75%        0.000000      0.000000      0.000000  \n",
       "max        1.000000      1.000000      1.000000  \n",
       "\n",
       "[8 rows x 97 columns]"
      ]
     },
     "execution_count": 8,
     "metadata": {},
     "output_type": "execute_result"
    }
   ],
   "source": [
    "X.describe()"
   ]
  },
  {
   "cell_type": "markdown",
   "metadata": {},
   "source": [
    "# The big tree -  working\n"
   ]
  },
  {
   "cell_type": "code",
   "execution_count": 9,
   "metadata": {},
   "outputs": [],
   "source": [
    "y_test = test_df[\"No-show_\"]\n",
    "X_test = test_df.drop([\"No-show_\", 'PatientId', 'AppointmentID'], axis = 1)"
   ]
  },
  {
   "cell_type": "code",
   "execution_count": 97,
   "metadata": {
    "scrolled": true
   },
   "outputs": [
    {
     "data": {
      "text/plain": [
       "DecisionTreeClassifier(class_weight=None, criterion='gini', max_depth=15,\n",
       "            max_features=None, max_leaf_nodes=None,\n",
       "            min_impurity_decrease=0.0, min_impurity_split=None,\n",
       "            min_samples_leaf=1, min_samples_split=2,\n",
       "            min_weight_fraction_leaf=0.0, presort=False, random_state=None,\n",
       "            splitter='best')"
      ]
     },
     "execution_count": 97,
     "metadata": {},
     "output_type": "execute_result"
    }
   ],
   "source": [
    "tree_clf = DecisionTreeClassifier (max_depth = 15, class_weight={0:2,1:10})\n",
    "tree_clf.fit (X, y)"
   ]
  },
  {
   "cell_type": "code",
   "execution_count": null,
   "metadata": {},
   "outputs": [],
   "source": [
    "max_depth = 15, class_weight={0:2,1:10}\n"
   ]
  },
  {
   "cell_type": "code",
   "execution_count": null,
   "metadata": {},
   "outputs": [],
   "source": [
    "dot_data = export_graphviz(tree_clf, out_file = None, \n",
    "                           feature_names = [\n",
    "                                  'Age',                        'Gender_',\n",
    "       'From_Schedualing_to_Appoitment',                           'prcp',\n",
    "                                 'temp',                    'Scholarship',\n",
    "                         'Hipertension',                       'Diabetes',\n",
    "                           'Alcoholism',                        'Handcap',\n",
    "                         'SMS_received',                       \n",
    "                                  '2_x',                            '3_x',\n",
    "                                  '4_x',                            '5_x',\n",
    "                                  '6_x',                            '7_x',\n",
    "                                      1,                            '2_y',\n",
    "                                  '3_y',                            '4_y',\n",
    "                                  '5_y',                            '6_y',\n",
    "                                  '7_y',                                8,\n",
    "                                      9,                               10,\n",
    "                                     11,                               12,\n",
    "                                     13,                               14,\n",
    "                                     15,                               16,\n",
    "                                     17,                               18,\n",
    "                                     19,                               20,\n",
    "                                     21,                               22,\n",
    "                                     23,                               24,\n",
    "                                     25,                               26,\n",
    "                                     27,                               28,\n",
    "                                     29,                               30,\n",
    "                                     31,                               32,\n",
    "                                     33,                               34,\n",
    "                                     35,                               36,\n",
    "                                     37,                               38,\n",
    "                                     39,                               40,\n",
    "                                     41,                               42,\n",
    "                                     43,                               44,\n",
    "                                     45,                               46,\n",
    "                                     47,                               48,\n",
    "                                     49,                               50,\n",
    "                                     51,                               53,\n",
    "                                     54,                               55,\n",
    "                                     56,                               57,\n",
    "                                     58,                               59,\n",
    "                                     60,                               61,\n",
    "                                     62,                               63,\n",
    "                                     64,                               65,\n",
    "                                     66,                               67,\n",
    "                                     68,                               69,\n",
    "                                     70,                               71,\n",
    "                                     72,                               73,\n",
    "                                     74,                               75,\n",
    "                                     76,                               77,\n",
    "                                     78,                               79,\n",
    "                                     80,                               81], \n",
    "                           class_names = [\"Show\", \"No-Show_\"],\n",
    "                           rounded = True, filled=True, special_characters=True)\n",
    "graph = graphviz.Source(dot_data) \n",
    "graph "
   ]
  },
  {
   "cell_type": "code",
   "execution_count": 98,
   "metadata": {},
   "outputs": [],
   "source": [
    "y_test_predict = tree_clf.predict (X_test)"
   ]
  },
  {
   "cell_type": "code",
   "execution_count": 99,
   "metadata": {},
   "outputs": [
    {
     "data": {
      "text/plain": [
       "array([[13314,   486],\n",
       "       [ 3110,   301]], dtype=int64)"
      ]
     },
     "execution_count": 99,
     "metadata": {},
     "output_type": "execute_result"
    }
   ],
   "source": [
    "conf_matrix = confusion_matrix(y_test, y_test_predict)\n",
    "conf_matrix"
   ]
  },
  {
   "cell_type": "code",
   "execution_count": 100,
   "metadata": {},
   "outputs": [
    {
     "name": "stdout",
     "output_type": "stream",
     "text": [
      "The recall for the large tree is  0.08824391673995896\n",
      "The precision for the large tree is  0.38246505717916135\n"
     ]
    }
   ],
   "source": [
    "print(\"The recall for the large tree is \",recall_score(y_test, y_test_predict))  #large tree\n",
    "print(\"The precision for the large tree is \",precision_score(y_test, y_test_predict))  #large tree"
   ]
  },
  {
   "cell_type": "code",
   "execution_count": 14,
   "metadata": {},
   "outputs": [
    {
     "data": {
      "text/plain": [
       "<matplotlib.axes._subplots.AxesSubplot at 0x1cc63811f28>"
      ]
     },
     "execution_count": 14,
     "metadata": {},
     "output_type": "execute_result"
    },
    {
     "data": {
      "image/png": "[encoded data removed]",
      "text/plain": [
       "<Figure size 720x504 with 2 Axes>"
      ]
     },
     "metadata": {
      "needs_background": "light"
     },
     "output_type": "display_data"
    }
   ],
   "source": [
    "df_cm = pd.DataFrame(conf_matrix, index = [i for i in [\"Show\",\"No-show_\"]],\n",
    "                  columns = [i for i in [\"Show\",\"No-show_\"]])\n",
    "plt.figure(figsize = (10,7))\n",
    "sns.heatmap(df_cm, annot=True)"
   ]
  },
  {
   "cell_type": "markdown",
   "metadata": {},
   "source": [
    "### end big tree"
   ]
  },
  {
   "cell_type": "code",
   "execution_count": null,
   "metadata": {},
   "outputs": [],
   "source": [
    "#tree_clf.predict_proba([[18,1]])"
   ]
  },
  {
   "cell_type": "code",
   "execution_count": null,
   "metadata": {},
   "outputs": [],
   "source": [
    "#tree_clf_large = DecisionTreeClassifier (max_depth = 2)\n",
    "#tree_clf_large.fit (X, y)"
   ]
  },
  {
   "cell_type": "code",
   "execution_count": null,
   "metadata": {},
   "outputs": [],
   "source": [
    "#dot_data = export_graphviz(tree_clf_large, out_file = None, \n",
    "                           feature_names = list(X), \n",
    "                           class_names = [\"Show\", \"No-Show_\" ],\n",
    "                           rounded = True, filled=True, special_characters=True )\n",
    "graph = graphviz.Source(dot_data ) \n",
    "graph"
   ]
  },
  {
   "cell_type": "markdown",
   "metadata": {},
   "source": [
    "#### 3.3 Select a threshold per recall and precision\n",
    "\n",
    "The comand we used before \"tree_clf.predict_proba([[0.9,3]])\" gives us probability that the result will be 1 or 0. We can define that the predicted result is 1, if the probability to 1 is above a threshold. The default threshold is 0.5. A higher threshold means that we will get results that we are more confident in and precision will rise, but recall will drop."
   ]
  },
  {
   "cell_type": "code",
   "execution_count": null,
   "metadata": {},
   "outputs": [],
   "source": [
    "y_test_proba = tree_clf.predict_proba(X_test)\n",
    "y_test_proba[:,1]"
   ]
  },
  {
   "cell_type": "code",
   "execution_count": null,
   "metadata": {},
   "outputs": [],
   "source": [
    "from sklearn.metrics import precision_recall_curve\n",
    "\n",
    "precisions, recalls, thresholds = precision_recall_curve(y_true = y_test, probas_pred = y_test_proba[:,1])\n",
    "print(\" Precision = \", precisions, \"\\n\", \"Recalls = \", recalls, \"\\n\", \"Thresholds = \", thresholds)"
   ]
  },
  {
   "cell_type": "code",
   "execution_count": null,
   "metadata": {},
   "outputs": [],
   "source": [
    "from sklearn.metrics import roc_curve"
   ]
  },
  {
   "cell_type": "code",
   "execution_count": null,
   "metadata": {},
   "outputs": [],
   "source": [
    "fpr, tpr, thresholds = roc_curve(y_test, y_test_proba[:,1])"
   ]
  },
  {
   "cell_type": "code",
   "execution_count": null,
   "metadata": {},
   "outputs": [],
   "source": [
    "def plot_roc_curve (fpr, tpr, label = None):\n",
    "    plt.plot(fpr, tpr, linewidth = 2, label = label)\n",
    "    plt.plot([0,1], [0,1], \"k--\")\n",
    "    plt.axis([0,1,0,1])\n",
    "    plt.xlabel(\"False positive rate\")\n",
    "    plt.ylabel(\"True positive rate\")\n",
    "    \n",
    "plot_roc_curve (fpr, tpr, \"tree\")\n",
    "plt.show()"
   ]
  },
  {
   "cell_type": "code",
   "execution_count": null,
   "metadata": {},
   "outputs": [],
   "source": [
    "y_test_proba = tree_clf.predict_proba(X_test)\n",
    "fpr, tpr, thresholds = roc_curve(y_test, y_test_proba[:,1])\n",
    "plot_roc_curve (fpr, tpr, \"large tree\")\n",
    "plt.legend(loc = \"best\")\n",
    "plt.show()"
   ]
  },
  {
   "cell_type": "code",
   "execution_count": null,
   "metadata": {},
   "outputs": [],
   "source": [
    "from sklearn.metrics import roc_auc_score\n",
    "print(\"AUC for random guess is:   \", 0.5 )\n",
    "print(\"AUC for the large tree is: \", roc_auc_score(y_test, y_test_proba[:,1]) )"
   ]
  },
  {
   "cell_type": "markdown",
   "metadata": {},
   "source": [
    "#### Random forest (RF)\n"
   ]
  },
  {
   "cell_type": "code",
   "execution_count": 80,
   "metadata": {},
   "outputs": [],
   "source": [
    "from sklearn.ensemble import RandomForestClassifier\n",
    "\n",
    "rnd_clf = RandomForestClassifier( n_estimators=80,max_depth = 15, class_weight={0:1,1:10})\n",
    "rnd_clf.fit (X, y)\n",
    "y_pred_rf = rnd_clf.predict(X_test)"
   ]
  },
  {
   "cell_type": "code",
   "execution_count": 81,
   "metadata": {},
   "outputs": [
    {
     "data": {
      "text/plain": [
       "array([[5511, 8289],\n",
       "       [ 200, 3211]], dtype=int64)"
      ]
     },
     "execution_count": 81,
     "metadata": {},
     "output_type": "execute_result"
    }
   ],
   "source": [
    "conf_matrix = confusion_matrix(y_test, y_pred_rf)\n",
    "conf_matrix"
   ]
  },
  {
   "cell_type": "code",
   "execution_count": 82,
   "metadata": {},
   "outputs": [
    {
     "data": {
      "text/plain": [
       "0.2792173913043478"
      ]
     },
     "execution_count": 82,
     "metadata": {},
     "output_type": "execute_result"
    }
   ],
   "source": [
    "precision_score(y_test, y_pred_rf)"
   ]
  },
  {
   "cell_type": "code",
   "execution_count": 83,
   "metadata": {},
   "outputs": [
    {
     "data": {
      "text/plain": [
       "0.941366168279097"
      ]
     },
     "execution_count": 83,
     "metadata": {},
     "output_type": "execute_result"
    }
   ],
   "source": [
    "recall_score(y_test, y_pred_rf)"
   ]
  },
  {
   "cell_type": "code",
   "execution_count": 90,
   "metadata": {},
   "outputs": [
    {
     "data": {
      "text/plain": [
       "<matplotlib.axes._subplots.AxesSubplot at 0x1cc64dbe588>"
      ]
     },
     "execution_count": 90,
     "metadata": {},
     "output_type": "execute_result"
    },
    {
     "data": {
      "image/png": "[encoded data removed]",
      "text/plain": [
       "<Figure size 720x504 with 2 Axes>"
      ]
     },
     "metadata": {
      "needs_background": "light"
     },
     "output_type": "display_data"
    }
   ],
   "source": [
    "df_cm = pd.DataFrame(conf_matrix, index = [i for i in [\"Show\",\"No-show_\"]],\n",
    "                  columns = [i for i in [\"Show\",\"No-show_\"]])\n",
    "plt.figure(figsize = (10,7))\n",
    "sns.heatmap(df_cm, annot=True)"
   ]
  },
  {
   "cell_type": "code",
   "execution_count": 19,
   "metadata": {},
   "outputs": [
    {
     "data": {
      "text/plain": [
       "GradientBoostingClassifier(criterion='friedman_mse', init=None,\n",
       "              learning_rate=0.1, loss='deviance', max_depth=3,\n",
       "              max_features=None, max_leaf_nodes=None,\n",
       "              min_impurity_decrease=0.0, min_impurity_split=None,\n",
       "              min_samples_leaf=1, min_samples_split=2,\n",
       "              min_weight_fraction_leaf=0.0, n_estimators=100,\n",
       "              presort='auto', random_state=None, subsample=1.0, verbose=0,\n",
       "              warm_start=False)"
      ]
     },
     "execution_count": 19,
     "metadata": {},
     "output_type": "execute_result"
    }
   ],
   "source": [
    "from sklearn import ensemble\n",
    "# אין למודל הזה יכולת לעבוד עם הCLASS WEIGHT\n",
    "#clf_gb = ensemble.GradientBoostingClassifier(n_estimators=150,max_depth = 15, class_weight={0:2,1:12})\n",
    "#clf_gb.fit(X, y)\n",
    "#y_pred_gb = clf_gb.predict(X_test)\n",
    "\n",
    "\n",
    "clf_gb = ensemble.GradientBoostingClassifier()\n",
    "clf_gb.fit(X, y)\n",
    "#y_pred_gb = clf_gb.predict(X_test)"
   ]
  },
  {
   "cell_type": "code",
   "execution_count": null,
   "metadata": {},
   "outputs": [],
   "source": [
    "confusion_matrix(y_test, y_pred_gb)"
   ]
  },
  {
   "cell_type": "markdown",
   "metadata": {},
   "source": [
    "# XGB"
   ]
  },
  {
   "cell_type": "code",
   "execution_count": 92,
   "metadata": {},
   "outputs": [
    {
     "ename": "NameError",
     "evalue": "name 'XGBClassifier' is not defined",
     "output_type": "error",
     "traceback": [
      "\u001b[1;31m---------------------------------------------------------------------------\u001b[0m",
      "\u001b[1;31mNameError\u001b[0m                                 Traceback (most recent call last)",
      "\u001b[1;32m<ipython-input-92-c221b357c0ac>\u001b[0m in \u001b[0;36m<module>\u001b[1;34m()\u001b[0m\n\u001b[0;32m      2\u001b[0m \u001b[1;33m\u001b[0m\u001b[0m\n\u001b[0;32m      3\u001b[0m \u001b[1;33m\u001b[0m\u001b[0m\n\u001b[1;32m----> 4\u001b[1;33m \u001b[0mxclas\u001b[0m \u001b[1;33m=\u001b[0m \u001b[0mXGBClassifier\u001b[0m\u001b[1;33m(\u001b[0m\u001b[1;33m)\u001b[0m  \u001b[1;31m# and for classifier\u001b[0m\u001b[1;33m\u001b[0m\u001b[0m\n\u001b[0m\u001b[0;32m      5\u001b[0m \u001b[0mxclas\u001b[0m\u001b[1;33m.\u001b[0m\u001b[0mfit\u001b[0m\u001b[1;33m(\u001b[0m\u001b[0mX\u001b[0m\u001b[1;33m,\u001b[0m \u001b[0my\u001b[0m\u001b[1;33m)\u001b[0m\u001b[1;33m\u001b[0m\u001b[0m\n\u001b[0;32m      6\u001b[0m \u001b[0mxclas\u001b[0m\u001b[1;33m.\u001b[0m\u001b[0mpredict\u001b[0m\u001b[1;33m(\u001b[0m\u001b[0mX_test\u001b[0m\u001b[1;33m)\u001b[0m\u001b[1;33m\u001b[0m\u001b[0m\n",
      "\u001b[1;31mNameError\u001b[0m: name 'XGBClassifier' is not defined"
     ]
    }
   ],
   "source": [
    "#from xgboost.sklearn import XGBClassifier  \n",
    "\n",
    "\n",
    "xclas = XGBClassifier()  # and for classifier  \n",
    "xclas.fit(X, y)  \n",
    "xclas.predict(X_test)  "
   ]
  },
  {
   "cell_type": "code",
   "execution_count": null,
   "metadata": {},
   "outputs": [],
   "source": []
  },
  {
   "cell_type": "code",
   "execution_count": 84,
   "metadata": {},
   "outputs": [],
   "source": [
    "y_ft_proba = rnd_clf.predict_proba(X)\n",
    "y_tree_proba= tree_clf.predict_proba(X)\n",
    "y_test_tree_proba=rnd_clf.predict_proba(X_test)\n",
    "y_test_rf_proba=rnd_clf.predict_proba(X_test)"
   ]
  },
  {
   "cell_type": "code",
   "execution_count": 85,
   "metadata": {},
   "outputs": [],
   "source": [
    "fpr, tpr, thresholds = roc_curve(y_test, y_test_ft_proba[:,1])"
   ]
  },
  {
   "cell_type": "code",
   "execution_count": 86,
   "metadata": {},
   "outputs": [],
   "source": [
    "def plot_roc_curve (fpr, tpr, label = None):\n",
    "    plt.plot(fpr, tpr, linewidth = 2, label = label)\n",
    "    plt.plot([0,1], [0,1], \"k--\")\n",
    "    plt.axis([0,1,0,1])\n",
    "    plt.xlabel(\"False positive rate\")\n",
    "    plt.ylabel(\"True positive rate\")\n",
    "    "
   ]
  },
  {
   "cell_type": "code",
   "execution_count": 87,
   "metadata": {},
   "outputs": [
    {
     "data": {
      "image/png": "[encoded data removed]",
      "text/plain": [
       "<Figure size 432x288 with 1 Axes>"
      ]
     },
     "metadata": {
      "needs_background": "light"
     },
     "output_type": "display_data"
    }
   ],
   "source": [
    "plot_roc_curve (fpr, tpr, \"small tree\")\n",
    "plt.show()"
   ]
  },
  {
   "cell_type": "code",
   "execution_count": 88,
   "metadata": {},
   "outputs": [
    {
     "data": {
      "image/png": "[encoded data removed]",
      "text/plain": [
       "<Figure size 432x288 with 1 Axes>"
      ]
     },
     "metadata": {
      "needs_background": "light"
     },
     "output_type": "display_data"
    }
   ],
   "source": [
    "fpr_rf, tpr_rf, thresholds_rf = roc_curve(y_test, y_test_rf_proba[:,1])\n",
    "plot_roc_curve (fpr_rf, tpr_rf, \"random forest\")\n"
   ]
  },
  {
   "cell_type": "code",
   "execution_count": 89,
   "metadata": {},
   "outputs": [
    {
     "data": {
      "image/png": "[encoded data removed]",
      "text/plain": [
       "<Figure size 432x288 with 1 Axes>"
      ]
     },
     "metadata": {
      "needs_background": "light"
     },
     "output_type": "display_data"
    }
   ],
   "source": [
    "\n",
    "plot_roc_curve (fpr, tpr, \"large tree\")\n",
    "plot_roc_curve (fpr_rf, tpr_rf, \"random forest\")\n",
    "#plot_roc_curve (fpr_gb, tpr_gb, \"gradient boosting\")\n",
    "plt.legend(loc = \"best\")\n",
    "plt.show()"
   ]
  },
  {
   "cell_type": "code",
   "execution_count": 93,
   "metadata": {},
   "outputs": [
    {
     "data": {
      "text/plain": [
       "<bound method NDFrame.head of        Age  Gender_  From_Schedualing_to_Appoitment      prcp       temp  \\\n",
       "0       49        0                               0  0.400000  23.866667   \n",
       "1       18        0                               4  0.000000  25.554167   \n",
       "2       38        0                               4  0.000000  21.941667   \n",
       "3       64        0                               4  0.000000  24.045833   \n",
       "4       45        0                               8  0.000000  24.375000   \n",
       "5       20        0                              11  0.200000  22.650000   \n",
       "6       23        1                              28  0.000000  23.033333   \n",
       "7       57        0                              33  0.000000  23.137500   \n",
       "8       30        0                               0  0.000000  22.795833   \n",
       "9       92        0                               1  0.000000  24.933333   \n",
       "10      31        0                               1  0.000000  24.212500   \n",
       "11      74        0                               5  0.000000  25.554167   \n",
       "12      30        1                              13  0.000000  21.941667   \n",
       "13      43        0                              23  0.000000  24.679167   \n",
       "14      35        1                               3  0.000000  25.554167   \n",
       "15      42        1                               6  0.000000  24.075000   \n",
       "16      77        1                               4  0.000000  26.300000   \n",
       "17      19        1                               0  0.200000  24.229167   \n",
       "18      62        0                               0  0.000000  26.300000   \n",
       "19      84        1                              13  0.000000  26.300000   \n",
       "20      19        1                              17  0.000000  23.137500   \n",
       "21      44        0                               4  0.200000  22.650000   \n",
       "22      29        0                               0  0.400000  23.866667   \n",
       "23      34        1                               3  0.000000  24.804167   \n",
       "24      34        0                              10  1.000000  24.566667   \n",
       "25      59        1                              33  0.000000  26.300000   \n",
       "26      17        1                               5  0.000000  25.887500   \n",
       "27      63        0                               1  0.000000  24.212500   \n",
       "28      56        0                               4  0.000000  21.941667   \n",
       "29      20        0                              20  0.000000  23.037500   \n",
       "...    ...      ...                             ...       ...        ...   \n",
       "68813   32        0                               7  0.000000  24.045833   \n",
       "68814   27        1                               0  0.000000  24.075000   \n",
       "68815   37        0                              13  0.000000  21.941667   \n",
       "68816   45        1                               8  4.666667  25.116667   \n",
       "68817   48        0                              18  0.000000  24.212500   \n",
       "68818   67        0                               6  0.000000  23.033333   \n",
       "68819   36        0                               0  0.000000  24.075000   \n",
       "68820   49        0                               5  0.000000  23.858333   \n",
       "68821   47        1                              13  0.000000  25.887500   \n",
       "68822   34        1                               4  0.000000  24.804167   \n",
       "68823   35        0                              30  0.000000  23.962500   \n",
       "68824   18        1                               0  0.200000  24.208333   \n",
       "68825   66        1                              21  0.000000  24.075000   \n",
       "68826   59        1                               0  0.000000  24.212500   \n",
       "68827   57        1                               2  0.200000  22.650000   \n",
       "68828   73        0                               7  0.200000  24.208333   \n",
       "68829   16        0                              21  0.000000  26.300000   \n",
       "68830   29        0                               0  0.400000  23.866667   \n",
       "68831   47        0                               4  0.000000  26.300000   \n",
       "68832   35        1                               4  0.000000  22.795833   \n",
       "68833   52        0                               0  0.400000  23.866667   \n",
       "68834   62        0                              18  0.000000  24.804167   \n",
       "68835   54        1                               0  0.000000  25.887500   \n",
       "68836   73        0                              22  0.400000  23.866667   \n",
       "68837   61        0                               0  0.000000  26.083333   \n",
       "68838   52        0                               2  0.000000  24.679167   \n",
       "68839   23        0                              11  0.000000  23.900000   \n",
       "68840   50        0                              18  0.000000  24.933333   \n",
       "68841   56        0                               2  0.200000  22.650000   \n",
       "68842   57        0                               0  0.200000  24.229167   \n",
       "\n",
       "       Scholarship  Hipertension  Diabetes  Alcoholism  Handcap ...  72  73  \\\n",
       "0                1             0         0           0        0 ...   1   0   \n",
       "1                0             0         0           0        0 ...   0   0   \n",
       "2                0             1         0           0        0 ...   0   0   \n",
       "3                0             1         0           0        0 ...   0   0   \n",
       "4                1             0         0           0        0 ...   0   0   \n",
       "5                0             0         0           0        0 ...   0   0   \n",
       "6                0             0         0           0        0 ...   0   0   \n",
       "7                0             0         0           0        0 ...   0   0   \n",
       "8                0             0         0           0        0 ...   0   0   \n",
       "9                0             1         0           0        0 ...   0   0   \n",
       "10               0             0         0           0        0 ...   0   0   \n",
       "11               0             0         0           0        0 ...   0   0   \n",
       "12               0             1         0           0        0 ...   0   0   \n",
       "13               1             1         0           0        0 ...   0   0   \n",
       "14               0             0         0           0        0 ...   0   0   \n",
       "15               0             0         0           0        0 ...   0   0   \n",
       "16               0             0         0           0        0 ...   0   0   \n",
       "17               1             0         0           0        0 ...   0   0   \n",
       "18               1             1         1           0        0 ...   0   0   \n",
       "19               0             1         0           0        0 ...   0   0   \n",
       "20               0             0         0           0        0 ...   0   0   \n",
       "21               0             0         0           0        0 ...   0   0   \n",
       "22               0             0         0           0        0 ...   0   0   \n",
       "23               0             0         0           0        0 ...   0   0   \n",
       "24               0             0         0           0        0 ...   0   0   \n",
       "25               0             0         0           0        0 ...   0   0   \n",
       "26               0             0         0           0        0 ...   0   0   \n",
       "27               0             1         0           0        0 ...   0   0   \n",
       "28               0             0         0           0        0 ...   0   0   \n",
       "29               0             0         0           0        0 ...   0   0   \n",
       "...            ...           ...       ...         ...      ... ...  ..  ..   \n",
       "68813            0             0         0           0        0 ...   0   0   \n",
       "68814            0             0         0           0        0 ...   0   0   \n",
       "68815            1             0         0           0        0 ...   0   0   \n",
       "68816            0             0         0           0        0 ...   0   0   \n",
       "68817            0             0         0           0        0 ...   0   0   \n",
       "68818            0             1         0           0        0 ...   0   0   \n",
       "68819            0             0         0           0        0 ...   0   0   \n",
       "68820            1             0         0           0        0 ...   0   0   \n",
       "68821            0             0         0           0        0 ...   0   0   \n",
       "68822            0             0         0           0        0 ...   0   0   \n",
       "68823            0             0         0           0        0 ...   0   0   \n",
       "68824            0             0         0           0        0 ...   0   0   \n",
       "68825            0             1         1           1        0 ...   0   0   \n",
       "68826            0             0         0           0        0 ...   0   0   \n",
       "68827            0             0         0           0        0 ...   0   0   \n",
       "68828            0             0         0           0        0 ...   0   0   \n",
       "68829            1             0         0           0        0 ...   0   0   \n",
       "68830            0             0         0           0        0 ...   0   0   \n",
       "68831            0             0         0           0        0 ...   0   0   \n",
       "68832            0             0         0           0        0 ...   0   0   \n",
       "68833            0             1         0           0        0 ...   0   0   \n",
       "68834            0             1         0           0        0 ...   0   0   \n",
       "68835            0             1         0           0        0 ...   0   0   \n",
       "68836            0             0         0           0        0 ...   0   0   \n",
       "68837            0             1         0           0        0 ...   0   0   \n",
       "68838            0             0         0           0        0 ...   0   0   \n",
       "68839            0             0         0           0        0 ...   0   0   \n",
       "68840            0             0         0           0        0 ...   0   0   \n",
       "68841            0             1         1           1        0 ...   0   0   \n",
       "68842            0             0         0           0        0 ...   0   0   \n",
       "\n",
       "       74  75  76  77  78  79  80  81  \n",
       "0       0   0   0   0   0   0   0   0  \n",
       "1       0   0   0   0   0   0   0   0  \n",
       "2       0   0   0   0   0   1   0   0  \n",
       "3       0   0   0   0   0   0   0   0  \n",
       "4       0   0   0   0   0   0   0   0  \n",
       "5       0   0   0   0   0   0   0   1  \n",
       "6       0   0   0   0   0   0   0   0  \n",
       "7       0   0   0   0   0   0   0   0  \n",
       "8       0   0   0   0   0   0   0   0  \n",
       "9       0   0   0   0   0   0   0   0  \n",
       "10      0   0   0   0   0   0   0   0  \n",
       "11      0   0   0   0   1   0   0   0  \n",
       "12      0   0   0   0   0   0   0   0  \n",
       "13      0   0   0   0   0   1   0   0  \n",
       "14      0   0   0   0   0   0   0   0  \n",
       "15      0   0   0   0   0   0   0   0  \n",
       "16      0   0   0   0   0   0   0   0  \n",
       "17      0   0   0   0   0   0   0   0  \n",
       "18      0   0   0   0   0   0   0   0  \n",
       "19      0   0   0   0   0   0   0   0  \n",
       "20      0   0   0   0   0   0   0   0  \n",
       "21      0   0   0   0   0   0   0   0  \n",
       "22      0   0   0   0   0   0   0   0  \n",
       "23      0   0   0   0   0   0   0   0  \n",
       "24      0   0   0   0   0   1   0   0  \n",
       "25      0   0   0   0   0   0   0   0  \n",
       "26      0   0   0   0   0   0   0   0  \n",
       "27      0   0   0   0   0   0   0   0  \n",
       "28      0   0   0   0   0   0   0   0  \n",
       "29      0   0   0   0   0   0   0   0  \n",
       "...    ..  ..  ..  ..  ..  ..  ..  ..  \n",
       "68813   0   0   0   0   0   0   0   0  \n",
       "68814   0   0   0   0   0   0   0   0  \n",
       "68815   0   0   0   0   0   0   0   0  \n",
       "68816   0   0   0   0   0   0   0   0  \n",
       "68817   0   0   0   0   0   0   0   0  \n",
       "68818   0   0   0   0   0   0   0   0  \n",
       "68819   0   0   0   0   0   0   0   0  \n",
       "68820   0   0   0   0   0   1   0   0  \n",
       "68821   0   0   0   0   0   0   0   0  \n",
       "68822   0   0   0   0   0   0   0   0  \n",
       "68823   1   0   0   0   0   0   0   0  \n",
       "68824   0   0   0   0   0   0   0   0  \n",
       "68825   0   0   0   0   0   0   0   0  \n",
       "68826   0   0   0   0   0   0   0   0  \n",
       "68827   0   0   0   0   1   0   0   0  \n",
       "68828   0   0   0   0   0   0   0   0  \n",
       "68829   0   1   0   0   0   0   0   0  \n",
       "68830   0   0   0   0   0   0   0   0  \n",
       "68831   0   0   0   0   0   0   0   0  \n",
       "68832   0   0   0   0   0   0   0   0  \n",
       "68833   0   0   0   0   0   0   0   0  \n",
       "68834   0   0   0   0   0   0   0   0  \n",
       "68835   0   0   0   0   0   0   0   0  \n",
       "68836   0   0   0   0   0   0   0   0  \n",
       "68837   0   0   0   0   0   0   0   0  \n",
       "68838   0   0   0   0   0   0   0   0  \n",
       "68839   0   0   0   0   0   0   0   0  \n",
       "68840   0   0   0   0   0   0   0   0  \n",
       "68841   0   0   0   0   0   0   0   0  \n",
       "68842   0   0   0   0   0   0   1   0  \n",
       "\n",
       "[68843 rows x 97 columns]>"
      ]
     },
     "execution_count": 93,
     "metadata": {},
     "output_type": "execute_result"
    }
   ],
   "source": [
    "df_"
   ]
  },
  {
   "cell_type": "code",
   "execution_count": null,
   "metadata": {},
   "outputs": [],
   "source": []
  }
 ],
 "metadata": {
  "kernelspec": {
   "display_name": "Python 3",
   "language": "python",
   "name": "python3"
  },
  "language_info": {
   "codemirror_mode": {
    "name": "ipython",
    "version": 3
   },
   "file_extension": ".py",
   "mimetype": "text/x-python",
   "name": "python",
   "nbconvert_exporter": "python",
   "pygments_lexer": "ipython3",
   "version": "3.7.0"
  }
 },
 "nbformat": 4,
 "nbformat_minor": 2
}
